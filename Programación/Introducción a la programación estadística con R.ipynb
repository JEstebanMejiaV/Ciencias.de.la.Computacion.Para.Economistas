{
 "cells": [
  {
   "cell_type": "markdown",
   "metadata": {},
   "source": [
    "# Introducción a la programación estadística con R"
   ]
  },
  {
   "cell_type": "markdown",
   "metadata": {},
   "source": [
    "## Juan Esteban Mejía Velásquez"
   ]
  },
  {
   "cell_type": "code",
   "execution_count": null,
   "metadata": {
    "collapsed": true
   },
   "outputs": [],
   "source": []
  },
  {
   "cell_type": "markdown",
   "metadata": {},
   "source": [
    "Antes que todo aprenderemos a lidiar con el directorio de trabajo (workspace). Ya que en este se alojarán nuestros objetos (vectores, matrices, data frames, listeas etc.). En este es donde R leerá nuestros datos y en donde guardará los resultados por defaul.\n",
    "\n",
    "Para las personas que provengan del manejo de software en donde atreves de una interface de usuario carga sus datos y guardan sus resultados quizá encuentre en sección tediosa.  E directorio de trabajo en realidad es una forma de trabajar organizado de nuestros proyectos. También ha posibilidades de trabajar con importando y exportando sin un directorio de trabajo que veremos más adelante.\n",
    "\n"
   ]
  },
  {
   "cell_type": "markdown",
   "metadata": {},
   "source": [
    "### 1.1 Funciones para el manejo del directorio de trabajo de R"
   ]
  },
  {
   "cell_type": "code",
   "execution_count": 1,
   "metadata": {
    "collapsed": false
   },
   "outputs": [
    {
     "data": {
      "text/html": [
       "\"C:/Users/acer\""
      ],
      "text/latex": [
       "\"C:/Users/acer\""
      ],
      "text/markdown": [
       "\"C:/Users/acer\""
      ],
      "text/plain": [
       "[1] \"C:/Users/acer\""
      ]
     },
     "execution_count": 1,
     "metadata": {},
     "output_type": "execute_result"
    }
   ],
   "source": [
    "getwd() # Nos devuelve el director de trabajo actual en el que esta R"
   ]
  },
  {
   "cell_type": "code",
   "execution_count": 8,
   "metadata": {
    "collapsed": false
   },
   "outputs": [
    {
     "data": {
      "text/html": [
       "\"\""
      ],
      "text/latex": [
       "\"\""
      ],
      "text/markdown": [
       "\"\""
      ],
      "text/plain": [
       "character(0)"
      ]
     },
     "execution_count": 8,
     "metadata": {},
     "output_type": "execute_result"
    }
   ],
   "source": [
    "ls()  # Lista los objetos del directoro de trabajo actua. Luego miraremos que es un ‘objeto’"
   ]
  },
  {
   "cell_type": "markdown",
   "metadata": {},
   "source": [
    "Como se ve aun no tenemos ningún objeto. Definamos una variables y miremos de nuevo nuestros objetos"
   ]
  },
  {
   "cell_type": "code",
   "execution_count": 10,
   "metadata": {
    "collapsed": false
   },
   "outputs": [
    {
     "data": {
      "text/html": [
       "<ol class=list-inline>\n",
       "\t<li>\"Dinero\"</li>\n",
       "\t<li>\"Interes\"</li>\n",
       "</ol>\n"
      ],
      "text/latex": [
       "\\begin{enumerate*}\n",
       "\\item \"Dinero\"\n",
       "\\item \"Interes\"\n",
       "\\end{enumerate*}\n"
      ],
      "text/markdown": [
       "1. \"Dinero\"\n",
       "2. \"Interes\"\n",
       "\n",
       "\n"
      ],
      "text/plain": [
       "[1] \"Dinero\"  \"Interes\""
      ]
     },
     "execution_count": 10,
     "metadata": {},
     "output_type": "execute_result"
    }
   ],
   "source": [
    "Dinero  = 9999999999999\n",
    "Interes = 0.4\n",
    "ls()"
   ]
  },
  {
   "cell_type": "code",
   "execution_count": 11,
   "metadata": {
    "collapsed": false
   },
   "outputs": [
    {
     "data": {
      "text/html": [
       "\"Dinero\""
      ],
      "text/latex": [
       "\"Dinero\""
      ],
      "text/markdown": [
       "\"Dinero\""
      ],
      "text/plain": [
       "[1] \"Dinero\""
      ]
     },
     "execution_count": 11,
     "metadata": {},
     "output_type": "execute_result"
    }
   ],
   "source": [
    "# rm(objeto) Remueve (borra) ono o más objetos\n",
    "rm(Interes)\n",
    "ls()"
   ]
  },
  {
   "cell_type": "code",
   "execution_count": 2,
   "metadata": {
    "collapsed": false
   },
   "outputs": [],
   "source": [
    "# options() # Permite ver y ajustar las opciones del direrectorio de trbajo.\n",
    "# Míremoslas"
   ]
  },
  {
   "cell_type": "markdown",
   "metadata": {},
   "source": []
  },
  {
   "cell_type": "code",
   "execution_count": 1,
   "metadata": {
    "collapsed": false
   },
   "outputs": [],
   "source": [
    "# Help(‘función’) nos lleva hacia la documentación de R acerca dicha función\n",
    "# Meremos que nos dice a documentación acerca de la función option() para ajustar algunas opciones\n",
    "# help(options)"
   ]
  },
  {
   "cell_type": "markdown",
   "metadata": {},
   "source": [
    "Por ejemplo, le podemos indicar que cuando se impriman numero solo muestre cierta cantidad de dígitos. Con digit=’#’ lo hacemos. También le podemos cambiar el promt ‘>’ mednaite : prompt=\"la forma que queremos\"\n",
    "\n",
    "Pruebe el siguiente código en una consola de R directamente"
   ]
  },
  {
   "cell_type": "code",
   "execution_count": 27,
   "metadata": {
    "collapsed": false
   },
   "outputs": [
    {
     "data": {
      "text/html": [
       "3.33333333333333"
      ],
      "text/latex": [
       "3.33333333333333"
      ],
      "text/markdown": [
       "3.33333333333333"
      ],
      "text/plain": [
       "[1] 3.333"
      ]
     },
     "execution_count": 27,
     "metadata": {},
     "output_type": "execute_result"
    },
    {
     "data": {
      "text/html": [
       "3.33333333333333"
      ],
      "text/latex": [
       "3.33333333333333"
      ],
      "text/markdown": [
       "3.33333333333333"
      ],
      "text/plain": [
       "[1] 3.333"
      ]
     },
     "execution_count": 27,
     "metadata": {},
     "output_type": "execute_result"
    }
   ],
   "source": [
    "10/3\n",
    "options(digits=4, prompt=\"R>\")\n",
    "10/3"
   ]
  },
  {
   "cell_type": "markdown",
   "metadata": {},
   "source": [
    "Lo siguiente nos permitirá dimensionar la salida de los gráficos. Ello lo estaremos utilizando constantemente para mejorar la visualización de este tutorial. \n",
    "\n",
    "options(repr.plot.width=7, repr.plot.height=5\n",
    "\n",
    "widht ajusta aplitud\n",
    "height ajusta altura"
   ]
  },
  {
   "cell_type": "markdown",
   "metadata": {},
   "source": [
    "COntinuara --------"
   ]
  },
  {
   "cell_type": "markdown",
   "metadata": {},
   "source": [
    "### Diferencias entre '<-'. '=' y 'assign()'"
   ]
  },
  {
   "cell_type": "markdown",
   "metadata": {},
   "source": [
    "### 1.2 Diferencias entre tipos de datos"
   ]
  },
  {
   "cell_type": "code",
   "execution_count": 10,
   "metadata": {
    "collapsed": true
   },
   "outputs": [],
   "source": [
    " x <- 16"
   ]
  },
  {
   "cell_type": "code",
   "execution_count": 13,
   "metadata": {
    "collapsed": false
   },
   "outputs": [
    {
     "data": {
      "text/html": [
       "\"numeric\""
      ],
      "text/latex": [
       "\"numeric\""
      ],
      "text/markdown": [
       "\"numeric\""
      ],
      "text/plain": [
       "[1] \"numeric\""
      ]
     },
     "execution_count": 13,
     "metadata": {},
     "output_type": "execute_result"
    }
   ],
   "source": [
    "class(x)"
   ]
  },
  {
   "cell_type": "code",
   "execution_count": 14,
   "metadata": {
    "collapsed": false
   },
   "outputs": [
    {
     "data": {
      "text/html": [
       "TRUE"
      ],
      "text/latex": [
       "TRUE"
      ],
      "text/markdown": [
       "TRUE"
      ],
      "text/plain": [
       "[1] TRUE"
      ]
     },
     "execution_count": 14,
     "metadata": {},
     "output_type": "execute_result"
    }
   ],
   "source": [
    "is.numeric(x)"
   ]
  },
  {
   "cell_type": "code",
   "execution_count": 22,
   "metadata": {
    "collapsed": false
   },
   "outputs": [],
   "source": [
    "y <- 16L  # L significa que es in'integre' (Entero)"
   ]
  },
  {
   "cell_type": "code",
   "execution_count": 23,
   "metadata": {
    "collapsed": false
   },
   "outputs": [
    {
     "data": {
      "text/html": [
       "16"
      ],
      "text/latex": [
       "16"
      ],
      "text/markdown": [
       "16"
      ],
      "text/plain": [
       "[1] 16"
      ]
     },
     "execution_count": 23,
     "metadata": {},
     "output_type": "execute_result"
    }
   ],
   "source": [
    "y"
   ]
  },
  {
   "cell_type": "code",
   "execution_count": 24,
   "metadata": {
    "collapsed": false
   },
   "outputs": [
    {
     "data": {
      "text/html": [
       "\"integer\""
      ],
      "text/latex": [
       "\"integer\""
      ],
      "text/markdown": [
       "\"integer\""
      ],
      "text/plain": [
       "[1] \"integer\""
      ]
     },
     "execution_count": 24,
     "metadata": {},
     "output_type": "execute_result"
    },
    {
     "data": {
      "text/html": [
       "TRUE"
      ],
      "text/latex": [
       "TRUE"
      ],
      "text/markdown": [
       "TRUE"
      ],
      "text/plain": [
       "[1] TRUE"
      ]
     },
     "execution_count": 24,
     "metadata": {},
     "output_type": "execute_result"
    }
   ],
   "source": [
    "class(y)\n",
    "is.integer(y)"
   ]
  },
  {
   "cell_type": "code",
   "execution_count": 26,
   "metadata": {
    "collapsed": false
   },
   "outputs": [],
   "source": [
    "d <- 'datos'"
   ]
  },
  {
   "cell_type": "code",
   "execution_count": 28,
   "metadata": {
    "collapsed": false
   },
   "outputs": [
    {
     "data": {
      "text/html": [
       "\"character\""
      ],
      "text/latex": [
       "\"character\""
      ],
      "text/markdown": [
       "\"character\""
      ],
      "text/plain": [
       "[1] \"character\""
      ]
     },
     "execution_count": 28,
     "metadata": {},
     "output_type": "execute_result"
    }
   ],
   "source": [
    "class(d) # \"character\" significa datos tipo texto o 'string'"
   ]
  },
  {
   "cell_type": "code",
   "execution_count": 137,
   "metadata": {
    "collapsed": false
   },
   "outputs": [
    {
     "data": {
      "text/html": [
       "datos"
      ],
      "text/latex": [
       "datos"
      ],
      "text/markdown": [
       "datos"
      ],
      "text/plain": [
       "[1] datos\n",
       "Levels: datos"
      ]
     },
     "execution_count": 137,
     "metadata": {},
     "output_type": "execute_result"
    },
    {
     "name": "stdout",
     "output_type": "stream",
     "text": [
      "[1] datos\n",
      "Levels: datos\n"
     ]
    }
   ],
   "source": [
    "d <-factor('datos')\n",
    "d\n",
    "print(d)\n"
   ]
  },
  {
   "cell_type": "code",
   "execution_count": 64,
   "metadata": {
    "collapsed": false
   },
   "outputs": [
    {
     "data": {
      "text/html": [
       "\"logical\""
      ],
      "text/latex": [
       "\"logical\""
      ],
      "text/markdown": [
       "\"logical\""
      ],
      "text/plain": [
       "[1] \"logical\""
      ]
     },
     "execution_count": 64,
     "metadata": {},
     "output_type": "execute_result"
    },
    {
     "data": {
      "text/html": [
       "TRUE"
      ],
      "text/latex": [
       "TRUE"
      ],
      "text/markdown": [
       "TRUE"
      ],
      "text/plain": [
       "[1] TRUE"
      ]
     },
     "execution_count": 64,
     "metadata": {},
     "output_type": "execute_result"
    }
   ],
   "source": [
    "t <- TRUE\n",
    "class(t)\n",
    "is.logical(t)"
   ]
  },
  {
   "cell_type": "code",
   "execution_count": 67,
   "metadata": {
    "collapsed": false
   },
   "outputs": [
    {
     "data": {
      "text/html": [
       "\"logical\""
      ],
      "text/latex": [
       "\"logical\""
      ],
      "text/markdown": [
       "\"logical\""
      ],
      "text/plain": [
       "[1] \"logical\""
      ]
     },
     "execution_count": 67,
     "metadata": {},
     "output_type": "execute_result"
    },
    {
     "data": {
      "text/html": [
       "29"
      ],
      "text/latex": [
       "29"
      ],
      "text/markdown": [
       "29"
      ],
      "text/plain": [
       "[1] 29"
      ]
     },
     "execution_count": 67,
     "metadata": {},
     "output_type": "execute_result"
    },
    {
     "data": {
      "text/html": [
       "0"
      ],
      "text/latex": [
       "0"
      ],
      "text/markdown": [
       "0"
      ],
      "text/plain": [
       "[1] 0"
      ]
     },
     "execution_count": 67,
     "metadata": {},
     "output_type": "execute_result"
    }
   ],
   "source": [
    "f <- F\n",
    "class(f)\n",
    "t*29\n",
    "f*3454466"
   ]
  },
  {
   "cell_type": "code",
   "execution_count": 69,
   "metadata": {
    "collapsed": false
   },
   "outputs": [
    {
     "data": {
      "text/html": [
       "FALSE"
      ],
      "text/latex": [
       "FALSE"
      ],
      "text/markdown": [
       "FALSE"
      ],
      "text/plain": [
       "[1] FALSE"
      ]
     },
     "execution_count": 69,
     "metadata": {},
     "output_type": "execute_result"
    },
    {
     "data": {
      "text/html": [
       "TRUE"
      ],
      "text/latex": [
       "TRUE"
      ],
      "text/markdown": [
       "TRUE"
      ],
      "text/plain": [
       "[1] TRUE"
      ]
     },
     "execution_count": 69,
     "metadata": {},
     "output_type": "execute_result"
    },
    {
     "data": {
      "text/html": [
       "TRUE"
      ],
      "text/latex": [
       "TRUE"
      ],
      "text/markdown": [
       "TRUE"
      ],
      "text/plain": [
       "[1] TRUE"
      ]
     },
     "execution_count": 69,
     "metadata": {},
     "output_type": "execute_result"
    },
    {
     "data": {
      "text/html": [
       "TRUE"
      ],
      "text/latex": [
       "TRUE"
      ],
      "text/markdown": [
       "TRUE"
      ],
      "text/plain": [
       "[1] TRUE"
      ]
     },
     "execution_count": 69,
     "metadata": {},
     "output_type": "execute_result"
    },
    {
     "data": {
      "text/html": [
       "FALSE"
      ],
      "text/latex": [
       "FALSE"
      ],
      "text/markdown": [
       "FALSE"
      ],
      "text/plain": [
       "[1] FALSE"
      ]
     },
     "execution_count": 69,
     "metadata": {},
     "output_type": "execute_result"
    },
    {
     "data": {
      "text/html": [
       "TRUE"
      ],
      "text/latex": [
       "TRUE"
      ],
      "text/markdown": [
       "TRUE"
      ],
      "text/plain": [
       "[1] TRUE"
      ]
     },
     "execution_count": 69,
     "metadata": {},
     "output_type": "execute_result"
    }
   ],
   "source": [
    "5 == 7\n",
    "5 != 7\n",
    "5 <  7\n",
    "5 <= 7\n",
    "'datos' == 'estadistica'\n",
    "'datos' <  'estadistica'"
   ]
  },
  {
   "cell_type": "code",
   "execution_count": 76,
   "metadata": {
    "collapsed": false
   },
   "outputs": [
    {
     "data": {
      "text/html": [
       "5"
      ],
      "text/latex": [
       "5"
      ],
      "text/markdown": [
       "5"
      ],
      "text/plain": [
       "[1] 5"
      ]
     },
     "execution_count": 76,
     "metadata": {},
     "output_type": "execute_result"
    },
    {
     "data": {
      "text/html": [
       "11"
      ],
      "text/latex": [
       "11"
      ],
      "text/markdown": [
       "11"
      ],
      "text/plain": [
       "[1] 11"
      ]
     },
     "execution_count": 76,
     "metadata": {},
     "output_type": "execute_result"
    }
   ],
   "source": [
    "nchar('datos')\n",
    "nchar('estadistica')"
   ]
  },
  {
   "cell_type": "code",
   "execution_count": 40,
   "metadata": {
    "collapsed": false
   },
   "outputs": [
    {
     "data": {
      "text/plain": [
       "[1] \"2016-01-26\""
      ]
     },
     "execution_count": 40,
     "metadata": {},
     "output_type": "execute_result"
    },
    {
     "data": {
      "text/html": [
       "\"Date\""
      ],
      "text/latex": [
       "\"Date\""
      ],
      "text/markdown": [
       "\"Date\""
      ],
      "text/plain": [
       "[1] \"Date\""
      ]
     },
     "execution_count": 40,
     "metadata": {},
     "output_type": "execute_result"
    }
   ],
   "source": [
    "fecha1<-as.Date('2016-01-26') # Recuerde que Date comienza en mayuscula\n",
    "fecha1\n",
    "class(fecha1)"
   ]
  },
  {
   "cell_type": "code",
   "execution_count": 41,
   "metadata": {
    "collapsed": false
   },
   "outputs": [
    {
     "data": {
      "text/html": [
       "16826"
      ],
      "text/latex": [
       "16826"
      ],
      "text/markdown": [
       "16826"
      ],
      "text/plain": [
       "[1] 16826"
      ]
     },
     "execution_count": 41,
     "metadata": {},
     "output_type": "execute_result"
    }
   ],
   "source": [
    "as.numeric(fecha1)"
   ]
  },
  {
   "cell_type": "code",
   "execution_count": 60,
   "metadata": {
    "collapsed": false
   },
   "outputs": [
    {
     "data": {
      "text/plain": [
       "[1] \"2016-01-26 COT\""
      ]
     },
     "execution_count": 60,
     "metadata": {},
     "output_type": "execute_result"
    },
    {
     "data": {
      "text/html": [
       "<ol class=list-inline>\n",
       "\t<li>\"POSIXct\"</li>\n",
       "\t<li>\"POSIXt\"</li>\n",
       "</ol>\n"
      ],
      "text/latex": [
       "\\begin{enumerate*}\n",
       "\\item \"POSIXct\"\n",
       "\\item \"POSIXt\"\n",
       "\\end{enumerate*}\n"
      ],
      "text/markdown": [
       "1. \"POSIXct\"\n",
       "2. \"POSIXt\"\n",
       "\n",
       "\n"
      ],
      "text/plain": [
       "[1] \"POSIXct\" \"POSIXt\" "
      ]
     },
     "execution_count": 60,
     "metadata": {},
     "output_type": "execute_result"
    }
   ],
   "source": [
    "fecha2 <- as.POSIXct('2016-01-26')\n",
    "fecha2\n",
    "class(fecha2)"
   ]
  },
  {
   "cell_type": "code",
   "execution_count": 61,
   "metadata": {
    "collapsed": false
   },
   "outputs": [
    {
     "data": {
      "text/plain": [
       "[1] \"2016-01-26 09:04:00 COT\""
      ]
     },
     "execution_count": 61,
     "metadata": {},
     "output_type": "execute_result"
    },
    {
     "data": {
      "text/html": [
       "<ol class=list-inline>\n",
       "\t<li>\"POSIXct\"</li>\n",
       "\t<li>\"POSIXt\"</li>\n",
       "</ol>\n"
      ],
      "text/latex": [
       "\\begin{enumerate*}\n",
       "\\item \"POSIXct\"\n",
       "\\item \"POSIXt\"\n",
       "\\end{enumerate*}\n"
      ],
      "text/markdown": [
       "1. \"POSIXct\"\n",
       "2. \"POSIXt\"\n",
       "\n",
       "\n"
      ],
      "text/plain": [
       "[1] \"POSIXct\" \"POSIXt\" "
      ]
     },
     "execution_count": 61,
     "metadata": {},
     "output_type": "execute_result"
    },
    {
     "data": {
      "text/html": [
       "1453817040"
      ],
      "text/latex": [
       "1453817040"
      ],
      "text/markdown": [
       "1453817040"
      ],
      "text/plain": [
       "[1] 1453817040"
      ]
     },
     "execution_count": 61,
     "metadata": {},
     "output_type": "execute_result"
    }
   ],
   "source": [
    "fecha3 <- as.POSIXct('2016-01-26 9:04')\n",
    "fecha3\n",
    "class(fecha3)\n",
    "as.numeric(fecha3)"
   ]
  },
  {
   "cell_type": "markdown",
   "metadata": {},
   "source": [
    "### Vectores"
   ]
  },
  {
   "cell_type": "markdown",
   "metadata": {},
   "source": [
    "Vectores son muy similares a los array de otros lenguajes. Son contenedores de multiples elementos de mismo tipo\n",
    "\n",
    "Operaciones mas eficientes en vectores que en loops"
   ]
  },
  {
   "cell_type": "code",
   "execution_count": 77,
   "metadata": {
    "collapsed": false
   },
   "outputs": [
    {
     "data": {
      "text/html": [
       "<ol class=list-inline>\n",
       "\t<li>1</li>\n",
       "\t<li>2</li>\n",
       "\t<li>3</li>\n",
       "\t<li>4</li>\n",
       "\t<li>5</li>\n",
       "</ol>\n"
      ],
      "text/latex": [
       "\\begin{enumerate*}\n",
       "\\item 1\n",
       "\\item 2\n",
       "\\item 3\n",
       "\\item 4\n",
       "\\item 5\n",
       "\\end{enumerate*}\n"
      ],
      "text/markdown": [
       "1. 1\n",
       "2. 2\n",
       "3. 3\n",
       "4. 4\n",
       "5. 5\n",
       "\n",
       "\n"
      ],
      "text/plain": [
       "[1] 1 2 3 4 5"
      ]
     },
     "execution_count": 77,
     "metadata": {},
     "output_type": "execute_result"
    }
   ],
   "source": [
    "x <- c(1,2,3,4,5)\n",
    "x"
   ]
  },
  {
   "cell_type": "code",
   "execution_count": 139,
   "metadata": {
    "collapsed": false
   },
   "outputs": [
    {
     "data": {
      "text/html": [
       "<ol class=list-inline>\n",
       "\t<li>5</li>\n",
       "\t<li>10</li>\n",
       "\t<li>15</li>\n",
       "\t<li>20</li>\n",
       "\t<li>25</li>\n",
       "</ol>\n"
      ],
      "text/latex": [
       "\\begin{enumerate*}\n",
       "\\item 5\n",
       "\\item 10\n",
       "\\item 15\n",
       "\\item 20\n",
       "\\item 25\n",
       "\\end{enumerate*}\n"
      ],
      "text/markdown": [
       "1. 5\n",
       "2. 10\n",
       "3. 15\n",
       "4. 20\n",
       "5. 25\n",
       "\n",
       "\n"
      ],
      "text/plain": [
       "[1]  5 10 15 20 25"
      ]
     },
     "execution_count": 139,
     "metadata": {},
     "output_type": "execute_result"
    },
    {
     "data": {
      "text/html": [
       "<ol class=list-inline>\n",
       "\t<li>6</li>\n",
       "\t<li>7</li>\n",
       "\t<li>8</li>\n",
       "\t<li>9</li>\n",
       "\t<li>10</li>\n",
       "</ol>\n"
      ],
      "text/latex": [
       "\\begin{enumerate*}\n",
       "\\item 6\n",
       "\\item 7\n",
       "\\item 8\n",
       "\\item 9\n",
       "\\item 10\n",
       "\\end{enumerate*}\n"
      ],
      "text/markdown": [
       "1. 6\n",
       "2. 7\n",
       "3. 8\n",
       "4. 9\n",
       "5. 10\n",
       "\n",
       "\n"
      ],
      "text/plain": [
       "[1]  6  7  8  9 10"
      ]
     },
     "execution_count": 139,
     "metadata": {},
     "output_type": "execute_result"
    },
    {
     "data": {
      "text/html": [
       "<ol class=list-inline>\n",
       "\t<li>0.2</li>\n",
       "\t<li>0.4</li>\n",
       "\t<li>0.6</li>\n",
       "\t<li>0.8</li>\n",
       "\t<li>1</li>\n",
       "</ol>\n"
      ],
      "text/latex": [
       "\\begin{enumerate*}\n",
       "\\item 0.2\n",
       "\\item 0.4\n",
       "\\item 0.6\n",
       "\\item 0.8\n",
       "\\item 1\n",
       "\\end{enumerate*}\n"
      ],
      "text/markdown": [
       "1. 0.2\n",
       "2. 0.4\n",
       "3. 0.6\n",
       "4. 0.8\n",
       "5. 1\n",
       "\n",
       "\n"
      ],
      "text/plain": [
       "[1] 0.2 0.4 0.6 0.8 1.0"
      ]
     },
     "execution_count": 139,
     "metadata": {},
     "output_type": "execute_result"
    }
   ],
   "source": [
    "x*5\n",
    "x+5\n",
    "x/5"
   ]
  },
  {
   "cell_type": "code",
   "execution_count": 84,
   "metadata": {
    "collapsed": false
   },
   "outputs": [
    {
     "data": {
      "text/html": [
       "<ol class=list-inline>\n",
       "\t<li>1</li>\n",
       "\t<li>2</li>\n",
       "\t<li>3</li>\n",
       "\t<li>4</li>\n",
       "\t<li>5</li>\n",
       "</ol>\n"
      ],
      "text/latex": [
       "\\begin{enumerate*}\n",
       "\\item 1\n",
       "\\item 2\n",
       "\\item 3\n",
       "\\item 4\n",
       "\\item 5\n",
       "\\end{enumerate*}\n"
      ],
      "text/markdown": [
       "1. 1\n",
       "2. 2\n",
       "3. 3\n",
       "4. 4\n",
       "5. 5\n",
       "\n",
       "\n"
      ],
      "text/plain": [
       "[1] 1 2 3 4 5"
      ]
     },
     "execution_count": 84,
     "metadata": {},
     "output_type": "execute_result"
    }
   ],
   "source": [
    "x<-1:5\n",
    "x"
   ]
  },
  {
   "cell_type": "code",
   "execution_count": 86,
   "metadata": {
    "collapsed": false
   },
   "outputs": [
    {
     "data": {
      "text/html": [
       "<ol class=list-inline>\n",
       "\t<li>5</li>\n",
       "\t<li>4</li>\n",
       "\t<li>3</li>\n",
       "\t<li>2</li>\n",
       "\t<li>1</li>\n",
       "</ol>\n"
      ],
      "text/latex": [
       "\\begin{enumerate*}\n",
       "\\item 5\n",
       "\\item 4\n",
       "\\item 3\n",
       "\\item 2\n",
       "\\item 1\n",
       "\\end{enumerate*}\n"
      ],
      "text/markdown": [
       "1. 5\n",
       "2. 4\n",
       "3. 3\n",
       "4. 2\n",
       "5. 1\n",
       "\n",
       "\n"
      ],
      "text/plain": [
       "[1] 5 4 3 2 1"
      ]
     },
     "execution_count": 86,
     "metadata": {},
     "output_type": "execute_result"
    },
    {
     "data": {
      "text/html": [
       "<ol class=list-inline>\n",
       "\t<li>-5</li>\n",
       "\t<li>-4</li>\n",
       "\t<li>-3</li>\n",
       "\t<li>-2</li>\n",
       "\t<li>-1</li>\n",
       "\t<li>0</li>\n",
       "\t<li>1</li>\n",
       "\t<li>2</li>\n",
       "\t<li>3</li>\n",
       "\t<li>4</li>\n",
       "\t<li>5</li>\n",
       "</ol>\n"
      ],
      "text/latex": [
       "\\begin{enumerate*}\n",
       "\\item -5\n",
       "\\item -4\n",
       "\\item -3\n",
       "\\item -2\n",
       "\\item -1\n",
       "\\item 0\n",
       "\\item 1\n",
       "\\item 2\n",
       "\\item 3\n",
       "\\item 4\n",
       "\\item 5\n",
       "\\end{enumerate*}\n"
      ],
      "text/markdown": [
       "1. -5\n",
       "2. -4\n",
       "3. -3\n",
       "4. -2\n",
       "5. -1\n",
       "6. 0\n",
       "7. 1\n",
       "8. 2\n",
       "9. 3\n",
       "10. 4\n",
       "11. 5\n",
       "\n",
       "\n"
      ],
      "text/plain": [
       " [1] -5 -4 -3 -2 -1  0  1  2  3  4  5"
      ]
     },
     "execution_count": 86,
     "metadata": {},
     "output_type": "execute_result"
    }
   ],
   "source": [
    "5:1\n",
    "-5:5"
   ]
  },
  {
   "cell_type": "code",
   "execution_count": 87,
   "metadata": {
    "collapsed": false
   },
   "outputs": [
    {
     "data": {
      "text/html": [
       "<ol class=list-inline>\n",
       "\t<li>5</li>\n",
       "\t<li>4</li>\n",
       "\t<li>3</li>\n",
       "\t<li>2</li>\n",
       "\t<li>1</li>\n",
       "</ol>\n"
      ],
      "text/latex": [
       "\\begin{enumerate*}\n",
       "\\item 5\n",
       "\\item 4\n",
       "\\item 3\n",
       "\\item 2\n",
       "\\item 1\n",
       "\\end{enumerate*}\n"
      ],
      "text/markdown": [
       "1. 5\n",
       "2. 4\n",
       "3. 3\n",
       "4. 2\n",
       "5. 1\n",
       "\n",
       "\n"
      ],
      "text/plain": [
       "[1] 5 4 3 2 1"
      ]
     },
     "execution_count": 87,
     "metadata": {},
     "output_type": "execute_result"
    }
   ],
   "source": [
    "y <- 5:1\n",
    "y"
   ]
  },
  {
   "cell_type": "code",
   "execution_count": 88,
   "metadata": {
    "collapsed": false
   },
   "outputs": [
    {
     "data": {
      "text/html": [
       "<ol class=list-inline>\n",
       "\t<li>6</li>\n",
       "\t<li>6</li>\n",
       "\t<li>6</li>\n",
       "\t<li>6</li>\n",
       "\t<li>6</li>\n",
       "</ol>\n"
      ],
      "text/latex": [
       "\\begin{enumerate*}\n",
       "\\item 6\n",
       "\\item 6\n",
       "\\item 6\n",
       "\\item 6\n",
       "\\item 6\n",
       "\\end{enumerate*}\n"
      ],
      "text/markdown": [
       "1. 6\n",
       "2. 6\n",
       "3. 6\n",
       "4. 6\n",
       "5. 6\n",
       "\n",
       "\n"
      ],
      "text/plain": [
       "[1] 6 6 6 6 6"
      ]
     },
     "execution_count": 88,
     "metadata": {},
     "output_type": "execute_result"
    },
    {
     "data": {
      "text/html": [
       "<ol class=list-inline>\n",
       "\t<li>-4</li>\n",
       "\t<li>-2</li>\n",
       "\t<li>0</li>\n",
       "\t<li>2</li>\n",
       "\t<li>4</li>\n",
       "</ol>\n"
      ],
      "text/latex": [
       "\\begin{enumerate*}\n",
       "\\item -4\n",
       "\\item -2\n",
       "\\item 0\n",
       "\\item 2\n",
       "\\item 4\n",
       "\\end{enumerate*}\n"
      ],
      "text/markdown": [
       "1. -4\n",
       "2. -2\n",
       "3. 0\n",
       "4. 2\n",
       "5. 4\n",
       "\n",
       "\n"
      ],
      "text/plain": [
       "[1] -4 -2  0  2  4"
      ]
     },
     "execution_count": 88,
     "metadata": {},
     "output_type": "execute_result"
    },
    {
     "data": {
      "text/html": [
       "<ol class=list-inline>\n",
       "\t<li>5</li>\n",
       "\t<li>8</li>\n",
       "\t<li>9</li>\n",
       "\t<li>8</li>\n",
       "\t<li>5</li>\n",
       "</ol>\n"
      ],
      "text/latex": [
       "\\begin{enumerate*}\n",
       "\\item 5\n",
       "\\item 8\n",
       "\\item 9\n",
       "\\item 8\n",
       "\\item 5\n",
       "\\end{enumerate*}\n"
      ],
      "text/markdown": [
       "1. 5\n",
       "2. 8\n",
       "3. 9\n",
       "4. 8\n",
       "5. 5\n",
       "\n",
       "\n"
      ],
      "text/plain": [
       "[1] 5 8 9 8 5"
      ]
     },
     "execution_count": 88,
     "metadata": {},
     "output_type": "execute_result"
    },
    {
     "data": {
      "text/html": [
       "<ol class=list-inline>\n",
       "\t<li>0.2</li>\n",
       "\t<li>0.5</li>\n",
       "\t<li>1</li>\n",
       "\t<li>2</li>\n",
       "\t<li>5</li>\n",
       "</ol>\n"
      ],
      "text/latex": [
       "\\begin{enumerate*}\n",
       "\\item 0.2\n",
       "\\item 0.5\n",
       "\\item 1\n",
       "\\item 2\n",
       "\\item 5\n",
       "\\end{enumerate*}\n"
      ],
      "text/markdown": [
       "1. 0.2\n",
       "2. 0.5\n",
       "3. 1\n",
       "4. 2\n",
       "5. 5\n",
       "\n",
       "\n"
      ],
      "text/plain": [
       "[1] 0.2 0.5 1.0 2.0 5.0"
      ]
     },
     "execution_count": 88,
     "metadata": {},
     "output_type": "execute_result"
    }
   ],
   "source": [
    "x+y\n",
    "x-y\n",
    "x*y\n",
    "x/y"
   ]
  },
  {
   "cell_type": "code",
   "execution_count": 90,
   "metadata": {
    "collapsed": false
   },
   "outputs": [
    {
     "data": {
      "text/html": [
       "5"
      ],
      "text/latex": [
       "5"
      ],
      "text/markdown": [
       "5"
      ],
      "text/plain": [
       "[1] 5"
      ]
     },
     "execution_count": 90,
     "metadata": {},
     "output_type": "execute_result"
    },
    {
     "data": {
      "text/html": [
       "5"
      ],
      "text/latex": [
       "5"
      ],
      "text/markdown": [
       "5"
      ],
      "text/plain": [
       "[1] 5"
      ]
     },
     "execution_count": 90,
     "metadata": {},
     "output_type": "execute_result"
    },
    {
     "data": {
      "text/html": [
       "5"
      ],
      "text/latex": [
       "5"
      ],
      "text/markdown": [
       "5"
      ],
      "text/plain": [
       "[1] 5"
      ]
     },
     "execution_count": 90,
     "metadata": {},
     "output_type": "execute_result"
    }
   ],
   "source": [
    "length(x)\n",
    "length(y)\n",
    "length(x+y)"
   ]
  },
  {
   "cell_type": "code",
   "execution_count": 91,
   "metadata": {
    "collapsed": false
   },
   "outputs": [
    {
     "name": "stderr",
     "output_type": "stream",
     "text": [
      "Warning message:\n",
      "In x + c(1, 2): longitud de objeto mayor no es múltiplo de la longitud de uno menor"
     ]
    },
    {
     "data": {
      "text/html": [
       "<ol class=list-inline>\n",
       "\t<li>2</li>\n",
       "\t<li>4</li>\n",
       "\t<li>4</li>\n",
       "\t<li>6</li>\n",
       "\t<li>6</li>\n",
       "</ol>\n"
      ],
      "text/latex": [
       "\\begin{enumerate*}\n",
       "\\item 2\n",
       "\\item 4\n",
       "\\item 4\n",
       "\\item 6\n",
       "\\item 6\n",
       "\\end{enumerate*}\n"
      ],
      "text/markdown": [
       "1. 2\n",
       "2. 4\n",
       "3. 4\n",
       "4. 6\n",
       "5. 6\n",
       "\n",
       "\n"
      ],
      "text/plain": [
       "[1] 2 4 4 6 6"
      ]
     },
     "execution_count": 91,
     "metadata": {},
     "output_type": "execute_result"
    }
   ],
   "source": [
    "x + c(1, 2)\n"
   ]
  },
  {
   "cell_type": "code",
   "execution_count": 92,
   "metadata": {
    "collapsed": false
   },
   "outputs": [
    {
     "data": {
      "text/html": [
       "<ol class=list-inline>\n",
       "\t<li>TRUE</li>\n",
       "\t<li>TRUE</li>\n",
       "\t<li>FALSE</li>\n",
       "\t<li>FALSE</li>\n",
       "\t<li>FALSE</li>\n",
       "</ol>\n"
      ],
      "text/latex": [
       "\\begin{enumerate*}\n",
       "\\item TRUE\n",
       "\\item TRUE\n",
       "\\item FALSE\n",
       "\\item FALSE\n",
       "\\item FALSE\n",
       "\\end{enumerate*}\n"
      ],
      "text/markdown": [
       "1. TRUE\n",
       "2. TRUE\n",
       "3. FALSE\n",
       "4. FALSE\n",
       "5. FALSE\n",
       "\n",
       "\n"
      ],
      "text/plain": [
       "[1]  TRUE  TRUE FALSE FALSE FALSE"
      ]
     },
     "execution_count": 92,
     "metadata": {},
     "output_type": "execute_result"
    }
   ],
   "source": [
    "x < 3"
   ]
  },
  {
   "cell_type": "code",
   "execution_count": 93,
   "metadata": {
    "collapsed": false
   },
   "outputs": [
    {
     "data": {
      "text/html": [
       "TRUE"
      ],
      "text/latex": [
       "TRUE"
      ],
      "text/markdown": [
       "TRUE"
      ],
      "text/plain": [
       "[1] TRUE"
      ]
     },
     "execution_count": 93,
     "metadata": {},
     "output_type": "execute_result"
    },
    {
     "data": {
      "text/html": [
       "FALSE"
      ],
      "text/latex": [
       "FALSE"
      ],
      "text/markdown": [
       "FALSE"
      ],
      "text/plain": [
       "[1] FALSE"
      ]
     },
     "execution_count": 93,
     "metadata": {},
     "output_type": "execute_result"
    }
   ],
   "source": [
    "any(x < 3)\n",
    "all(x < 3)"
   ]
  },
  {
   "cell_type": "code",
   "execution_count": 140,
   "metadata": {
    "collapsed": false
   },
   "outputs": [
    {
     "data": {
      "text/html": [
       "<ol class=list-inline>\n",
       "\t<li>\"micro\"</li>\n",
       "\t<li>\"macro\"</li>\n",
       "\t<li>\"desarrollo\"</li>\n",
       "\t<li>\"NA\"</li>\n",
       "\t<li>\"micro\"</li>\n",
       "\t<li>\"calculo\"</li>\n",
       "\t<li>\"dinamica\"</li>\n",
       "\t<li>\"historia\"</li>\n",
       "\t<li>\"desarrollo\"</li>\n",
       "\t<li>\"econometria\"</li>\n",
       "\t<li>\"NA\"</li>\n",
       "</ol>\n"
      ],
      "text/latex": [
       "\\begin{enumerate*}\n",
       "\\item \"micro\"\n",
       "\\item \"macro\"\n",
       "\\item \"desarrollo\"\n",
       "\\item \"NA\"\n",
       "\\item \"micro\"\n",
       "\\item \"calculo\"\n",
       "\\item \"dinamica\"\n",
       "\\item \"historia\"\n",
       "\\item \"desarrollo\"\n",
       "\\item \"econometria\"\n",
       "\\item \"NA\"\n",
       "\\end{enumerate*}\n"
      ],
      "text/markdown": [
       "1. \"micro\"\n",
       "2. \"macro\"\n",
       "3. \"desarrollo\"\n",
       "4. \"NA\"\n",
       "5. \"micro\"\n",
       "6. \"calculo\"\n",
       "7. \"dinamica\"\n",
       "8. \"historia\"\n",
       "9. \"desarrollo\"\n",
       "10. \"econometria\"\n",
       "11. \"NA\"\n",
       "\n",
       "\n"
      ],
      "text/plain": [
       " [1] \"micro\"       \"macro\"       \"desarrollo\"  NA            \"micro\"      \n",
       " [6] \"calculo\"     \"dinamica\"    \"historia\"    \"desarrollo\"  \"econometria\"\n",
       "[11] NA           "
      ]
     },
     "execution_count": 140,
     "metadata": {},
     "output_type": "execute_result"
    }
   ],
   "source": [
    "materias <- c('micro', 'macro', 'desarrollo', NA ,'micro', 'calculo', 'dinamica', 'historia', \n",
    "               'desarrollo', 'econometria', NA)\n",
    "materias"
   ]
  },
  {
   "cell_type": "code",
   "execution_count": 141,
   "metadata": {
    "collapsed": false
   },
   "outputs": [
    {
     "data": {
      "text/html": [
       "<ol class=list-inline>\n",
       "\t<li>5</li>\n",
       "\t<li>5</li>\n",
       "\t<li>10</li>\n",
       "\t<li>2</li>\n",
       "\t<li>5</li>\n",
       "\t<li>7</li>\n",
       "\t<li>8</li>\n",
       "\t<li>8</li>\n",
       "\t<li>10</li>\n",
       "\t<li>11</li>\n",
       "\t<li>2</li>\n",
       "</ol>\n"
      ],
      "text/latex": [
       "\\begin{enumerate*}\n",
       "\\item 5\n",
       "\\item 5\n",
       "\\item 10\n",
       "\\item 2\n",
       "\\item 5\n",
       "\\item 7\n",
       "\\item 8\n",
       "\\item 8\n",
       "\\item 10\n",
       "\\item 11\n",
       "\\item 2\n",
       "\\end{enumerate*}\n"
      ],
      "text/markdown": [
       "1. 5\n",
       "2. 5\n",
       "3. 10\n",
       "4. 2\n",
       "5. 5\n",
       "6. 7\n",
       "7. 8\n",
       "8. 8\n",
       "9. 10\n",
       "10. 11\n",
       "11. 2\n",
       "\n",
       "\n"
      ],
      "text/plain": [
       " [1]  5  5 10  2  5  7  8  8 10 11  2"
      ]
     },
     "execution_count": 141,
     "metadata": {},
     "output_type": "execute_result"
    }
   ],
   "source": [
    "nchar(materias)"
   ]
  },
  {
   "cell_type": "code",
   "execution_count": 142,
   "metadata": {
    "collapsed": false
   },
   "outputs": [
    {
     "data": {
      "text/html": [
       "11"
      ],
      "text/latex": [
       "11"
      ],
      "text/markdown": [
       "11"
      ],
      "text/plain": [
       "[1] 11"
      ]
     },
     "execution_count": 142,
     "metadata": {},
     "output_type": "execute_result"
    }
   ],
   "source": [
    "length(materias)"
   ]
  },
  {
   "cell_type": "code",
   "execution_count": 143,
   "metadata": {
    "collapsed": false
   },
   "outputs": [
    {
     "data": {
      "text/html": [
       "\"micro\""
      ],
      "text/latex": [
       "\"micro\""
      ],
      "text/markdown": [
       "\"micro\""
      ],
      "text/plain": [
       "[1] \"micro\""
      ]
     },
     "execution_count": 143,
     "metadata": {},
     "output_type": "execute_result"
    }
   ],
   "source": [
    "materias[1]"
   ]
  },
  {
   "cell_type": "code",
   "execution_count": 144,
   "metadata": {
    "collapsed": false
   },
   "outputs": [
    {
     "data": {
      "text/html": [
       "<ol class=list-inline>\n",
       "\t<li>\"micro\"</li>\n",
       "\t<li>\"macro\"</li>\n",
       "\t<li>\"desarrollo\"</li>\n",
       "</ol>\n"
      ],
      "text/latex": [
       "\\begin{enumerate*}\n",
       "\\item \"micro\"\n",
       "\\item \"macro\"\n",
       "\\item \"desarrollo\"\n",
       "\\end{enumerate*}\n"
      ],
      "text/markdown": [
       "1. \"micro\"\n",
       "2. \"macro\"\n",
       "3. \"desarrollo\"\n",
       "\n",
       "\n"
      ],
      "text/plain": [
       "[1] \"micro\"      \"macro\"      \"desarrollo\""
      ]
     },
     "execution_count": 144,
     "metadata": {},
     "output_type": "execute_result"
    },
    {
     "data": {
      "text/html": [
       "<ol class=list-inline>\n",
       "\t<li>\"macro\"</li>\n",
       "\t<li>\"desarrollo\"</li>\n",
       "\t<li>\"NA\"</li>\n",
       "\t<li>\"micro\"</li>\n",
       "\t<li>\"calculo\"</li>\n",
       "\t<li>\"dinamica\"</li>\n",
       "\t<li>\"historia\"</li>\n",
       "\t<li>\"desarrollo\"</li>\n",
       "\t<li>\"econometria\"</li>\n",
       "\t<li>\"NA\"</li>\n",
       "</ol>\n"
      ],
      "text/latex": [
       "\\begin{enumerate*}\n",
       "\\item \"macro\"\n",
       "\\item \"desarrollo\"\n",
       "\\item \"NA\"\n",
       "\\item \"micro\"\n",
       "\\item \"calculo\"\n",
       "\\item \"dinamica\"\n",
       "\\item \"historia\"\n",
       "\\item \"desarrollo\"\n",
       "\\item \"econometria\"\n",
       "\\item \"NA\"\n",
       "\\end{enumerate*}\n"
      ],
      "text/markdown": [
       "1. \"macro\"\n",
       "2. \"desarrollo\"\n",
       "3. \"NA\"\n",
       "4. \"micro\"\n",
       "5. \"calculo\"\n",
       "6. \"dinamica\"\n",
       "7. \"historia\"\n",
       "8. \"desarrollo\"\n",
       "9. \"econometria\"\n",
       "10. \"NA\"\n",
       "\n",
       "\n"
      ],
      "text/plain": [
       " [1] \"macro\"       \"desarrollo\"  NA            \"micro\"       \"calculo\"    \n",
       " [6] \"dinamica\"    \"historia\"    \"desarrollo\"  \"econometria\" NA           "
      ]
     },
     "execution_count": 144,
     "metadata": {},
     "output_type": "execute_result"
    },
    {
     "data": {
      "text/html": [
       "<ol class=list-inline>\n",
       "\t<li>\"NA\"</li>\n",
       "\t<li>\"micro\"</li>\n",
       "\t<li>\"calculo\"</li>\n",
       "\t<li>\"dinamica\"</li>\n",
       "\t<li>\"historia\"</li>\n",
       "\t<li>\"desarrollo\"</li>\n",
       "\t<li>\"econometria\"</li>\n",
       "\t<li>\"NA\"</li>\n",
       "</ol>\n"
      ],
      "text/latex": [
       "\\begin{enumerate*}\n",
       "\\item \"NA\"\n",
       "\\item \"micro\"\n",
       "\\item \"calculo\"\n",
       "\\item \"dinamica\"\n",
       "\\item \"historia\"\n",
       "\\item \"desarrollo\"\n",
       "\\item \"econometria\"\n",
       "\\item \"NA\"\n",
       "\\end{enumerate*}\n"
      ],
      "text/markdown": [
       "1. \"NA\"\n",
       "2. \"micro\"\n",
       "3. \"calculo\"\n",
       "4. \"dinamica\"\n",
       "5. \"historia\"\n",
       "6. \"desarrollo\"\n",
       "7. \"econometria\"\n",
       "8. \"NA\"\n",
       "\n",
       "\n"
      ],
      "text/plain": [
       "[1] NA            \"micro\"       \"calculo\"     \"dinamica\"    \"historia\"   \n",
       "[6] \"desarrollo\"  \"econometria\" NA           "
      ]
     },
     "execution_count": 144,
     "metadata": {},
     "output_type": "execute_result"
    }
   ],
   "source": [
    "materias[1:3]\n",
    "materias[-1]\n",
    "materias[-1:-3]"
   ]
  },
  {
   "cell_type": "code",
   "execution_count": 112,
   "metadata": {
    "collapsed": false
   },
   "outputs": [
    {
     "data": {
      "text/html": [
       "<ol class=list-inline>\n",
       "\t<li>\"micro\"</li>\n",
       "\t<li>\"econometria\"</li>\n",
       "</ol>\n"
      ],
      "text/latex": [
       "\\begin{enumerate*}\n",
       "\\item \"micro\"\n",
       "\\item \"econometria\"\n",
       "\\end{enumerate*}\n"
      ],
      "text/markdown": [
       "1. \"micro\"\n",
       "2. \"econometria\"\n",
       "\n",
       "\n"
      ],
      "text/plain": [
       "[1] \"micro\"       \"econometria\""
      ]
     },
     "execution_count": 112,
     "metadata": {},
     "output_type": "execute_result"
    },
    {
     "data": {
      "text/html": [
       "<ol class=list-inline>\n",
       "\t<li>\"macro\"</li>\n",
       "\t<li>\"desarrollo\"</li>\n",
       "\t<li>\"micro\"</li>\n",
       "\t<li>\"calculo\"</li>\n",
       "\t<li>\"dinamica\"</li>\n",
       "\t<li>\"historia\"</li>\n",
       "\t<li>\"desarrollo\"</li>\n",
       "</ol>\n"
      ],
      "text/latex": [
       "\\begin{enumerate*}\n",
       "\\item \"macro\"\n",
       "\\item \"desarrollo\"\n",
       "\\item \"micro\"\n",
       "\\item \"calculo\"\n",
       "\\item \"dinamica\"\n",
       "\\item \"historia\"\n",
       "\\item \"desarrollo\"\n",
       "\\end{enumerate*}\n"
      ],
      "text/markdown": [
       "1. \"macro\"\n",
       "2. \"desarrollo\"\n",
       "3. \"micro\"\n",
       "4. \"calculo\"\n",
       "5. \"dinamica\"\n",
       "6. \"historia\"\n",
       "7. \"desarrollo\"\n",
       "\n",
       "\n"
      ],
      "text/plain": [
       "[1] \"macro\"      \"desarrollo\" \"micro\"      \"calculo\"    \"dinamica\"  \n",
       "[6] \"historia\"   \"desarrollo\""
      ]
     },
     "execution_count": 112,
     "metadata": {},
     "output_type": "execute_result"
    }
   ],
   "source": [
    "materias[c(1, 9)]\n",
    "materias[c(-1, -9)]"
   ]
  },
  {
   "cell_type": "code",
   "execution_count": 129,
   "metadata": {
    "collapsed": false
   },
   "outputs": [
    {
     "data": {
      "text/html": [
       "<dl class=dl-horizontal>\n",
       "\t<dt>Juan</dt>\n",
       "\t\t<dd>\"micro\"</dd>\n",
       "\t<dt>2</dt>\n",
       "\t\t<dd>\"macro\"</dd>\n",
       "\t<dt>Laura</dt>\n",
       "\t\t<dd>\"econometria\"</dd>\n",
       "</dl>\n"
      ],
      "text/latex": [
       "\\begin{description*}\n",
       "\\item[Juan] \"micro\"\n",
       "\\item[2] \"macro\"\n",
       "\\item[Laura] \"econometria\"\n",
       "\\end{description*}\n"
      ],
      "text/markdown": [
       "Juan\n",
       ":   \"micro\"2\n",
       ":   \"macro\"Laura\n",
       ":   \"econometria\"\n",
       "\n"
      ],
      "text/plain": [
       "         Juan                       Laura \n",
       "      \"micro\"       \"macro\" \"econometria\" "
      ]
     },
     "execution_count": 129,
     "metadata": {},
     "output_type": "execute_result"
    }
   ],
   "source": [
    "c(Juan='micro','macro', Laura='econometria')"
   ]
  },
  {
   "cell_type": "code",
   "execution_count": 131,
   "metadata": {
    "collapsed": false
   },
   "outputs": [
    {
     "data": {
      "text/html": [
       "<ol class=list-inline>\n",
       "\t<li>\"micro\"</li>\n",
       "\t<li>\"macro\"</li>\n",
       "\t<li>\"econometria\"</li>\n",
       "</ol>\n"
      ],
      "text/latex": [
       "\\begin{enumerate*}\n",
       "\\item \"micro\"\n",
       "\\item \"macro\"\n",
       "\\item \"econometria\"\n",
       "\\end{enumerate*}\n"
      ],
      "text/markdown": [
       "1. \"micro\"\n",
       "2. \"macro\"\n",
       "3. \"econometria\"\n",
       "\n",
       "\n"
      ],
      "text/plain": [
       "[1] \"micro\"       \"macro\"       \"econometria\""
      ]
     },
     "execution_count": 131,
     "metadata": {},
     "output_type": "execute_result"
    }
   ],
   "source": [
    "m <- c('micro', 'macro', 'econometria')\n",
    "m"
   ]
  },
  {
   "cell_type": "code",
   "execution_count": 133,
   "metadata": {
    "collapsed": false
   },
   "outputs": [
    {
     "data": {
      "text/html": [
       "<dl class=dl-horizontal>\n",
       "\t<dt>Juan</dt>\n",
       "\t\t<dd>\"micro\"</dd>\n",
       "\t<dt>2</dt>\n",
       "\t\t<dd>\"macro\"</dd>\n",
       "\t<dt>Laura</dt>\n",
       "\t\t<dd>\"econometria\"</dd>\n",
       "</dl>\n"
      ],
      "text/latex": [
       "\\begin{description*}\n",
       "\\item[Juan] \"micro\"\n",
       "\\item[2] \"macro\"\n",
       "\\item[Laura] \"econometria\"\n",
       "\\end{description*}\n"
      ],
      "text/markdown": [
       "Juan\n",
       ":   \"micro\"2\n",
       ":   \"macro\"Laura\n",
       ":   \"econometria\"\n",
       "\n"
      ],
      "text/plain": [
       "         Juan             2         Laura \n",
       "      \"micro\"       \"macro\" \"econometria\" "
      ]
     },
     "execution_count": 133,
     "metadata": {},
     "output_type": "execute_result"
    }
   ],
   "source": [
    "names(m) <- c('Juan',2 , 'Laura')\n",
    "m"
   ]
  },
  {
   "cell_type": "code",
   "execution_count": 136,
   "metadata": {
    "collapsed": false
   },
   "outputs": [
    {
     "name": "stdout",
     "output_type": "stream",
     "text": [
      "[1] micro       macro       desarrollo  micro       calculo     dinamica   \n",
      "[7] historia    desarrollo  econometria\n",
      "Levels: calculo desarrollo dinamica econometria historia macro micro\n"
     ]
    },
    {
     "data": {
      "text/html": [
       "<ol class=list-inline>\n",
       "\t<li>micro</li>\n",
       "\t<li>macro</li>\n",
       "\t<li>desarrollo</li>\n",
       "\t<li>micro</li>\n",
       "\t<li>calculo</li>\n",
       "\t<li>dinamica</li>\n",
       "\t<li>historia</li>\n",
       "\t<li>desarrollo</li>\n",
       "\t<li>econometria</li>\n",
       "</ol>\n"
      ],
      "text/latex": [
       "\\begin{enumerate*}\n",
       "\\item micro\n",
       "\\item macro\n",
       "\\item desarrollo\n",
       "\\item micro\n",
       "\\item calculo\n",
       "\\item dinamica\n",
       "\\item historia\n",
       "\\item desarrollo\n",
       "\\item econometria\n",
       "\\end{enumerate*}\n"
      ],
      "text/markdown": [
       "1. micro\n",
       "2. macro\n",
       "3. desarrollo\n",
       "4. micro\n",
       "5. calculo\n",
       "6. dinamica\n",
       "7. historia\n",
       "8. desarrollo\n",
       "9. econometria\n",
       "\n",
       "\n"
      ],
      "text/plain": [
       "[1] micro       macro       desarrollo  micro       calculo     dinamica   \n",
       "[7] historia    desarrollo  econometria\n",
       "Levels: calculo desarrollo dinamica econometria historia macro micro"
      ]
     },
     "execution_count": 136,
     "metadata": {},
     "output_type": "execute_result"
    }
   ],
   "source": [
    "materiasF <- factor(materias)\n",
    "print(materiasF)\n",
    "materiasF"
   ]
  },
  {
   "cell_type": "code",
   "execution_count": 138,
   "metadata": {
    "collapsed": false
   },
   "outputs": [
    {
     "data": {
      "text/html": [
       "<ol class=list-inline>\n",
       "\t<li>7</li>\n",
       "\t<li>6</li>\n",
       "\t<li>2</li>\n",
       "\t<li>7</li>\n",
       "\t<li>1</li>\n",
       "\t<li>3</li>\n",
       "\t<li>5</li>\n",
       "\t<li>2</li>\n",
       "\t<li>4</li>\n",
       "</ol>\n"
      ],
      "text/latex": [
       "\\begin{enumerate*}\n",
       "\\item 7\n",
       "\\item 6\n",
       "\\item 2\n",
       "\\item 7\n",
       "\\item 1\n",
       "\\item 3\n",
       "\\item 5\n",
       "\\item 2\n",
       "\\item 4\n",
       "\\end{enumerate*}\n"
      ],
      "text/markdown": [
       "1. 7\n",
       "2. 6\n",
       "3. 2\n",
       "4. 7\n",
       "5. 1\n",
       "6. 3\n",
       "7. 5\n",
       "8. 2\n",
       "9. 4\n",
       "\n",
       "\n"
      ],
      "text/plain": [
       "[1] 7 6 2 7 1 3 5 2 4"
      ]
     },
     "execution_count": 138,
     "metadata": {},
     "output_type": "execute_result"
    }
   ],
   "source": [
    "as.numeric(materiasF)"
   ]
  },
  {
   "cell_type": "code",
   "execution_count": 145,
   "metadata": {
    "collapsed": false
   },
   "outputs": [
    {
     "data": {
      "text/html": [
       "<ol class=list-inline>\n",
       "\t<li>FALSE</li>\n",
       "\t<li>FALSE</li>\n",
       "\t<li>FALSE</li>\n",
       "\t<li>TRUE</li>\n",
       "\t<li>FALSE</li>\n",
       "\t<li>FALSE</li>\n",
       "\t<li>FALSE</li>\n",
       "\t<li>FALSE</li>\n",
       "\t<li>FALSE</li>\n",
       "\t<li>FALSE</li>\n",
       "\t<li>TRUE</li>\n",
       "</ol>\n"
      ],
      "text/latex": [
       "\\begin{enumerate*}\n",
       "\\item FALSE\n",
       "\\item FALSE\n",
       "\\item FALSE\n",
       "\\item TRUE\n",
       "\\item FALSE\n",
       "\\item FALSE\n",
       "\\item FALSE\n",
       "\\item FALSE\n",
       "\\item FALSE\n",
       "\\item FALSE\n",
       "\\item TRUE\n",
       "\\end{enumerate*}\n"
      ],
      "text/markdown": [
       "1. FALSE\n",
       "2. FALSE\n",
       "3. FALSE\n",
       "4. TRUE\n",
       "5. FALSE\n",
       "6. FALSE\n",
       "7. FALSE\n",
       "8. FALSE\n",
       "9. FALSE\n",
       "10. FALSE\n",
       "11. TRUE\n",
       "\n",
       "\n"
      ],
      "text/plain": [
       " [1] FALSE FALSE FALSE  TRUE FALSE FALSE FALSE FALSE FALSE FALSE  TRUE"
      ]
     },
     "execution_count": 145,
     "metadata": {},
     "output_type": "execute_result"
    }
   ],
   "source": [
    "is.na(materias)"
   ]
  },
  {
   "cell_type": "markdown",
   "metadata": {},
   "source": [
    "### Llamada de funciones\n"
   ]
  },
  {
   "cell_type": "code",
   "execution_count": 148,
   "metadata": {
    "collapsed": false
   },
   "outputs": [
    {
     "data": {
      "text/html": [
       "<ol class=list-inline>\n",
       "\t<li>-1.32832168622362</li>\n",
       "\t<li>-1.38193552883423</li>\n",
       "\t<li>-1.90898295235958</li>\n",
       "\t<li>0.705877190550027</li>\n",
       "\t<li>-0.795249283038409</li>\n",
       "\t<li>0.143613133437695</li>\n",
       "\t<li>-1.06895711099331</li>\n",
       "\t<li>-0.480934359443712</li>\n",
       "\t<li>-0.83245076886986</li>\n",
       "\t<li>-0.278939214163459</li>\n",
       "\t<li>-1.1562883672351</li>\n",
       "\t<li>0.710792556107473</li>\n",
       "\t<li>0.458249764172399</li>\n",
       "\t<li>-0.42070596803469</li>\n",
       "\t<li>0.825498636847392</li>\n",
       "\t<li>2.23165797628981</li>\n",
       "\t<li>0.0684320802804022</li>\n",
       "\t<li>-0.697711863905224</li>\n",
       "\t<li>-0.353329772787072</li>\n",
       "\t<li>-2.47201636321029</li>\n",
       "\t<li>-0.0799185045185357</li>\n",
       "\t<li>-0.335975282998201</li>\n",
       "\t<li>-0.789890695199116</li>\n",
       "\t<li>0.524571376774102</li>\n",
       "\t<li>0.00355864066820119</li>\n",
       "\t<li>-0.385628355430817</li>\n",
       "\t<li>-2.25509931430625</li>\n",
       "\t<li>-0.298398469370274</li>\n",
       "\t<li>-0.176784448633009</li>\n",
       "\t<li>-0.220167624677743</li>\n",
       "\t<li>1.06303344819406</li>\n",
       "\t<li>-0.352595445111819</li>\n",
       "\t<li>-0.362944284328563</li>\n",
       "\t<li>0.563108286941742</li>\n",
       "\t<li>-0.644629863106446</li>\n",
       "\t<li>1.44374530190213</li>\n",
       "\t<li>-1.46377948955484</li>\n",
       "\t<li>-0.136042575834946</li>\n",
       "\t<li>-1.63694325576003</li>\n",
       "\t<li>0.187106336243746</li>\n",
       "\t<li>0.533710447205516</li>\n",
       "\t<li>-0.399860540177328</li>\n",
       "\t<li>-0.581996629230779</li>\n",
       "\t<li>-1.05197217516683</li>\n",
       "\t<li>0.178314613438277</li>\n",
       "\t<li>-1.44920149462715</li>\n",
       "\t<li>0.892527614185702</li>\n",
       "\t<li>-0.334362203585047</li>\n",
       "\t<li>-0.565718587461089</li>\n",
       "\t<li>0.2418394109004</li>\n",
       "</ol>\n"
      ],
      "text/latex": [
       "\\begin{enumerate*}\n",
       "\\item -1.32832168622362\n",
       "\\item -1.38193552883423\n",
       "\\item -1.90898295235958\n",
       "\\item 0.705877190550027\n",
       "\\item -0.795249283038409\n",
       "\\item 0.143613133437695\n",
       "\\item -1.06895711099331\n",
       "\\item -0.480934359443712\n",
       "\\item -0.83245076886986\n",
       "\\item -0.278939214163459\n",
       "\\item -1.1562883672351\n",
       "\\item 0.710792556107473\n",
       "\\item 0.458249764172399\n",
       "\\item -0.42070596803469\n",
       "\\item 0.825498636847392\n",
       "\\item 2.23165797628981\n",
       "\\item 0.0684320802804022\n",
       "\\item -0.697711863905224\n",
       "\\item -0.353329772787072\n",
       "\\item -2.47201636321029\n",
       "\\item -0.0799185045185357\n",
       "\\item -0.335975282998201\n",
       "\\item -0.789890695199116\n",
       "\\item 0.524571376774102\n",
       "\\item 0.00355864066820119\n",
       "\\item -0.385628355430817\n",
       "\\item -2.25509931430625\n",
       "\\item -0.298398469370274\n",
       "\\item -0.176784448633009\n",
       "\\item -0.220167624677743\n",
       "\\item 1.06303344819406\n",
       "\\item -0.352595445111819\n",
       "\\item -0.362944284328563\n",
       "\\item 0.563108286941742\n",
       "\\item -0.644629863106446\n",
       "\\item 1.44374530190213\n",
       "\\item -1.46377948955484\n",
       "\\item -0.136042575834946\n",
       "\\item -1.63694325576003\n",
       "\\item 0.187106336243746\n",
       "\\item 0.533710447205516\n",
       "\\item -0.399860540177328\n",
       "\\item -0.581996629230779\n",
       "\\item -1.05197217516683\n",
       "\\item 0.178314613438277\n",
       "\\item -1.44920149462715\n",
       "\\item 0.892527614185702\n",
       "\\item -0.334362203585047\n",
       "\\item -0.565718587461089\n",
       "\\item 0.2418394109004\n",
       "\\end{enumerate*}\n"
      ],
      "text/markdown": [
       "1. -1.32832168622362\n",
       "2. -1.38193552883423\n",
       "3. -1.90898295235958\n",
       "4. 0.705877190550027\n",
       "5. -0.795249283038409\n",
       "6. 0.143613133437695\n",
       "7. -1.06895711099331\n",
       "8. -0.480934359443712\n",
       "9. -0.83245076886986\n",
       "10. -0.278939214163459\n",
       "11. -1.1562883672351\n",
       "12. 0.710792556107473\n",
       "13. 0.458249764172399\n",
       "14. -0.42070596803469\n",
       "15. 0.825498636847392\n",
       "16. 2.23165797628981\n",
       "17. 0.0684320802804022\n",
       "18. -0.697711863905224\n",
       "19. -0.353329772787072\n",
       "20. -2.47201636321029\n",
       "21. -0.0799185045185357\n",
       "22. -0.335975282998201\n",
       "23. -0.789890695199116\n",
       "24. 0.524571376774102\n",
       "25. 0.00355864066820119\n",
       "26. -0.385628355430817\n",
       "27. -2.25509931430625\n",
       "28. -0.298398469370274\n",
       "29. -0.176784448633009\n",
       "30. -0.220167624677743\n",
       "31. 1.06303344819406\n",
       "32. -0.352595445111819\n",
       "33. -0.362944284328563\n",
       "34. 0.563108286941742\n",
       "35. -0.644629863106446\n",
       "36. 1.44374530190213\n",
       "37. -1.46377948955484\n",
       "38. -0.136042575834946\n",
       "39. -1.63694325576003\n",
       "40. 0.187106336243746\n",
       "41. 0.533710447205516\n",
       "42. -0.399860540177328\n",
       "43. -0.581996629230779\n",
       "44. -1.05197217516683\n",
       "45. 0.178314613438277\n",
       "46. -1.44920149462715\n",
       "47. 0.892527614185702\n",
       "48. -0.334362203585047\n",
       "49. -0.565718587461089\n",
       "50. 0.2418394109004\n",
       "\n",
       "\n"
      ],
      "text/plain": [
       " [1] -1.328321686 -1.381935529 -1.908982952  0.705877191 -0.795249283\n",
       " [6]  0.143613133 -1.068957111 -0.480934359 -0.832450769 -0.278939214\n",
       "[11] -1.156288367  0.710792556  0.458249764 -0.420705968  0.825498637\n",
       "[16]  2.231657976  0.068432080 -0.697711864 -0.353329773 -2.472016363\n",
       "[21] -0.079918505 -0.335975283 -0.789890695  0.524571377  0.003558641\n",
       "[26] -0.385628355 -2.255099314 -0.298398469 -0.176784449 -0.220167625\n",
       "[31]  1.063033448 -0.352595445 -0.362944284  0.563108287 -0.644629863\n",
       "[36]  1.443745302 -1.463779490 -0.136042576 -1.636943256  0.187106336\n",
       "[41]  0.533710447 -0.399860540 -0.581996629 -1.051972175  0.178314613\n",
       "[46] -1.449201495  0.892527614 -0.334362204 -0.565718587  0.241839411"
      ]
     },
     "execution_count": 148,
     "metadata": {},
     "output_type": "execute_result"
    }
   ],
   "source": [
    "x <-rnorm(50)\n",
    "x"
   ]
  },
  {
   "cell_type": "code",
   "execution_count": 149,
   "metadata": {
    "collapsed": false
   },
   "outputs": [
    {
     "data": {
      "text/html": [
       "-0.318441913280766"
      ],
      "text/latex": [
       "-0.318441913280766"
      ],
      "text/markdown": [
       "-0.318441913280766"
      ],
      "text/plain": [
       "[1] -0.3184419"
      ]
     },
     "execution_count": 149,
     "metadata": {},
     "output_type": "execute_result"
    },
    {
     "data": {
      "text/html": [
       "0.914414828772162"
      ],
      "text/latex": [
       "0.914414828772162"
      ],
      "text/markdown": [
       "0.914414828772162"
      ],
      "text/plain": [
       "[1] 0.9144148"
      ]
     },
     "execution_count": 149,
     "metadata": {},
     "output_type": "execute_result"
    }
   ],
   "source": [
    "mean(x)\n",
    "sd(x)"
   ]
  },
  {
   "cell_type": "code",
   "execution_count": 152,
   "metadata": {
    "collapsed": false
   },
   "outputs": [
    {
     "data": {
      "text/html": [
       "<ol class=list-inline>\n",
       "\t<li>NA</li>\n",
       "\t<li>-1.38193552883423</li>\n",
       "\t<li>-1.90898295235958</li>\n",
       "\t<li>0.705877190550027</li>\n",
       "\t<li>-0.795249283038409</li>\n",
       "\t<li>0.143613133437695</li>\n",
       "\t<li>-1.06895711099331</li>\n",
       "\t<li>-0.480934359443712</li>\n",
       "\t<li>-0.83245076886986</li>\n",
       "\t<li>-0.278939214163459</li>\n",
       "\t<li>-1.1562883672351</li>\n",
       "\t<li>0.710792556107473</li>\n",
       "\t<li>NA</li>\n",
       "\t<li>-0.42070596803469</li>\n",
       "\t<li>0.825498636847392</li>\n",
       "\t<li>2.23165797628981</li>\n",
       "\t<li>0.0684320802804022</li>\n",
       "\t<li>-0.697711863905224</li>\n",
       "\t<li>-0.353329772787072</li>\n",
       "\t<li>-2.47201636321029</li>\n",
       "\t<li>-0.0799185045185357</li>\n",
       "\t<li>-0.335975282998201</li>\n",
       "\t<li>-0.789890695199116</li>\n",
       "\t<li>0.524571376774102</li>\n",
       "\t<li>0.00355864066820119</li>\n",
       "\t<li>-0.385628355430817</li>\n",
       "\t<li>NA</li>\n",
       "\t<li>-0.298398469370274</li>\n",
       "\t<li>-0.176784448633009</li>\n",
       "\t<li>-0.220167624677743</li>\n",
       "\t<li>1.06303344819406</li>\n",
       "\t<li>-0.352595445111819</li>\n",
       "\t<li>-0.362944284328563</li>\n",
       "\t<li>0.563108286941742</li>\n",
       "\t<li>-0.644629863106446</li>\n",
       "\t<li>1.44374530190213</li>\n",
       "\t<li>-1.46377948955484</li>\n",
       "\t<li>-0.136042575834946</li>\n",
       "\t<li>-1.63694325576003</li>\n",
       "\t<li>0.187106336243746</li>\n",
       "\t<li>0.533710447205516</li>\n",
       "\t<li>-0.399860540177328</li>\n",
       "\t<li>-0.581996629230779</li>\n",
       "\t<li>-1.05197217516683</li>\n",
       "\t<li>0.178314613438277</li>\n",
       "\t<li>-1.44920149462715</li>\n",
       "\t<li>0.892527614185702</li>\n",
       "\t<li>-0.334362203585047</li>\n",
       "\t<li>-0.565718587461089</li>\n",
       "\t<li>0.2418394109004</li>\n",
       "</ol>\n"
      ],
      "text/latex": [
       "\\begin{enumerate*}\n",
       "\\item NA\n",
       "\\item -1.38193552883423\n",
       "\\item -1.90898295235958\n",
       "\\item 0.705877190550027\n",
       "\\item -0.795249283038409\n",
       "\\item 0.143613133437695\n",
       "\\item -1.06895711099331\n",
       "\\item -0.480934359443712\n",
       "\\item -0.83245076886986\n",
       "\\item -0.278939214163459\n",
       "\\item -1.1562883672351\n",
       "\\item 0.710792556107473\n",
       "\\item NA\n",
       "\\item -0.42070596803469\n",
       "\\item 0.825498636847392\n",
       "\\item 2.23165797628981\n",
       "\\item 0.0684320802804022\n",
       "\\item -0.697711863905224\n",
       "\\item -0.353329772787072\n",
       "\\item -2.47201636321029\n",
       "\\item -0.0799185045185357\n",
       "\\item -0.335975282998201\n",
       "\\item -0.789890695199116\n",
       "\\item 0.524571376774102\n",
       "\\item 0.00355864066820119\n",
       "\\item -0.385628355430817\n",
       "\\item NA\n",
       "\\item -0.298398469370274\n",
       "\\item -0.176784448633009\n",
       "\\item -0.220167624677743\n",
       "\\item 1.06303344819406\n",
       "\\item -0.352595445111819\n",
       "\\item -0.362944284328563\n",
       "\\item 0.563108286941742\n",
       "\\item -0.644629863106446\n",
       "\\item 1.44374530190213\n",
       "\\item -1.46377948955484\n",
       "\\item -0.136042575834946\n",
       "\\item -1.63694325576003\n",
       "\\item 0.187106336243746\n",
       "\\item 0.533710447205516\n",
       "\\item -0.399860540177328\n",
       "\\item -0.581996629230779\n",
       "\\item -1.05197217516683\n",
       "\\item 0.178314613438277\n",
       "\\item -1.44920149462715\n",
       "\\item 0.892527614185702\n",
       "\\item -0.334362203585047\n",
       "\\item -0.565718587461089\n",
       "\\item 0.2418394109004\n",
       "\\end{enumerate*}\n"
      ],
      "text/markdown": [
       "1. NA\n",
       "2. -1.38193552883423\n",
       "3. -1.90898295235958\n",
       "4. 0.705877190550027\n",
       "5. -0.795249283038409\n",
       "6. 0.143613133437695\n",
       "7. -1.06895711099331\n",
       "8. -0.480934359443712\n",
       "9. -0.83245076886986\n",
       "10. -0.278939214163459\n",
       "11. -1.1562883672351\n",
       "12. 0.710792556107473\n",
       "13. NA\n",
       "14. -0.42070596803469\n",
       "15. 0.825498636847392\n",
       "16. 2.23165797628981\n",
       "17. 0.0684320802804022\n",
       "18. -0.697711863905224\n",
       "19. -0.353329772787072\n",
       "20. -2.47201636321029\n",
       "21. -0.0799185045185357\n",
       "22. -0.335975282998201\n",
       "23. -0.789890695199116\n",
       "24. 0.524571376774102\n",
       "25. 0.00355864066820119\n",
       "26. -0.385628355430817\n",
       "27. NA\n",
       "28. -0.298398469370274\n",
       "29. -0.176784448633009\n",
       "30. -0.220167624677743\n",
       "31. 1.06303344819406\n",
       "32. -0.352595445111819\n",
       "33. -0.362944284328563\n",
       "34. 0.563108286941742\n",
       "35. -0.644629863106446\n",
       "36. 1.44374530190213\n",
       "37. -1.46377948955484\n",
       "38. -0.136042575834946\n",
       "39. -1.63694325576003\n",
       "40. 0.187106336243746\n",
       "41. 0.533710447205516\n",
       "42. -0.399860540177328\n",
       "43. -0.581996629230779\n",
       "44. -1.05197217516683\n",
       "45. 0.178314613438277\n",
       "46. -1.44920149462715\n",
       "47. 0.892527614185702\n",
       "48. -0.334362203585047\n",
       "49. -0.565718587461089\n",
       "50. 0.2418394109004\n",
       "\n",
       "\n"
      ],
      "text/plain": [
       " [1]           NA -1.381935529 -1.908982952  0.705877191 -0.795249283\n",
       " [6]  0.143613133 -1.068957111 -0.480934359 -0.832450769 -0.278939214\n",
       "[11] -1.156288367  0.710792556           NA -0.420705968  0.825498637\n",
       "[16]  2.231657976  0.068432080 -0.697711864 -0.353329773 -2.472016363\n",
       "[21] -0.079918505 -0.335975283 -0.789890695  0.524571377  0.003558641\n",
       "[26] -0.385628355           NA -0.298398469 -0.176784449 -0.220167625\n",
       "[31]  1.063033448 -0.352595445 -0.362944284  0.563108287 -0.644629863\n",
       "[36]  1.443745302 -1.463779490 -0.136042576 -1.636943256  0.187106336\n",
       "[41]  0.533710447 -0.399860540 -0.581996629 -1.051972175  0.178314613\n",
       "[46] -1.449201495  0.892527614 -0.334362204 -0.565718587  0.241839411"
      ]
     },
     "execution_count": 152,
     "metadata": {},
     "output_type": "execute_result"
    }
   ],
   "source": [
    "x[c(1, 13, 27)] <- NA\n",
    "x"
   ]
  },
  {
   "cell_type": "code",
   "execution_count": 153,
   "metadata": {
    "collapsed": false
   },
   "outputs": [
    {
     "data": {
      "text/plain": [
       "[1] NA"
      ]
     },
     "execution_count": 153,
     "metadata": {},
     "output_type": "execute_result"
    }
   ],
   "source": [
    "mean(x)"
   ]
  },
  {
   "cell_type": "code",
   "execution_count": 154,
   "metadata": {
    "collapsed": false
   },
   "outputs": [
    {
     "data": {
      "text/html": [
       "-0.272274987822996"
      ],
      "text/latex": [
       "-0.272274987822996"
      ],
      "text/markdown": [
       "-0.272274987822996"
      ],
      "text/plain": [
       "[1] -0.272275"
      ]
     },
     "execution_count": 154,
     "metadata": {},
     "output_type": "execute_result"
    }
   ],
   "source": [
    "mean(x, na.rm = T)"
   ]
  },
  {
   "cell_type": "markdown",
   "metadata": {},
   "source": [
    "Agregar pantallazo de la selecion con tab en Rstudio"
   ]
  },
  {
   "cell_type": "code",
   "execution_count": 155,
   "metadata": {
    "collapsed": false
   },
   "outputs": [
    {
     "data": {
      "text/plain": [
       "   Min. 1st Qu.  Median    Mean 3rd Qu.    Max.    NA's \n",
       "-2.4720 -0.7438 -0.3360 -0.2723  0.1827  2.2320       3 "
      ]
     },
     "execution_count": 155,
     "metadata": {},
     "output_type": "execute_result"
    }
   ],
   "source": [
    "summary(x)"
   ]
  },
  {
   "cell_type": "markdown",
   "metadata": {},
   "source": [
    "### Otras estructuras de datos en R"
   ]
  },
  {
   "cell_type": "markdown",
   "metadata": {},
   "source": [
    "### Data Frames"
   ]
  },
  {
   "cell_type": "code",
   "execution_count": 166,
   "metadata": {
    "collapsed": false
   },
   "outputs": [
    {
     "data": {
      "text/html": [
       "<ol class=list-inline>\n",
       "\t<li>\"micro\"</li>\n",
       "\t<li>\"macro\"</li>\n",
       "\t<li>\"desarrollo\"</li>\n",
       "\t<li>\"NA\"</li>\n",
       "\t<li>\"micro\"</li>\n",
       "\t<li>\"calculo\"</li>\n",
       "\t<li>\"dinamica\"</li>\n",
       "\t<li>\"historia\"</li>\n",
       "\t<li>\"desarrollo\"</li>\n",
       "\t<li>\"econometria\"</li>\n",
       "\t<li>\"NA\"</li>\n",
       "</ol>\n"
      ],
      "text/latex": [
       "\\begin{enumerate*}\n",
       "\\item \"micro\"\n",
       "\\item \"macro\"\n",
       "\\item \"desarrollo\"\n",
       "\\item \"NA\"\n",
       "\\item \"micro\"\n",
       "\\item \"calculo\"\n",
       "\\item \"dinamica\"\n",
       "\\item \"historia\"\n",
       "\\item \"desarrollo\"\n",
       "\\item \"econometria\"\n",
       "\\item \"NA\"\n",
       "\\end{enumerate*}\n"
      ],
      "text/markdown": [
       "1. \"micro\"\n",
       "2. \"macro\"\n",
       "3. \"desarrollo\"\n",
       "4. \"NA\"\n",
       "5. \"micro\"\n",
       "6. \"calculo\"\n",
       "7. \"dinamica\"\n",
       "8. \"historia\"\n",
       "9. \"desarrollo\"\n",
       "10. \"econometria\"\n",
       "11. \"NA\"\n",
       "\n",
       "\n"
      ],
      "text/plain": [
       " [1] \"micro\"       \"macro\"       \"desarrollo\"  NA            \"micro\"      \n",
       " [6] \"calculo\"     \"dinamica\"    \"historia\"    \"desarrollo\"  \"econometria\"\n",
       "[11] NA           "
      ]
     },
     "execution_count": 166,
     "metadata": {},
     "output_type": "execute_result"
    },
    {
     "data": {
      "text/html": [
       "<ol class=list-inline>\n",
       "\t<li>4.87</li>\n",
       "\t<li>0.51</li>\n",
       "\t<li>1.81</li>\n",
       "\t<li>1.64</li>\n",
       "\t<li>0.91</li>\n",
       "\t<li>3.11</li>\n",
       "\t<li>0.45</li>\n",
       "\t<li>0.49</li>\n",
       "\t<li>4.56</li>\n",
       "\t<li>0.48</li>\n",
       "\t<li>1.48</li>\n",
       "</ol>\n"
      ],
      "text/latex": [
       "\\begin{enumerate*}\n",
       "\\item 4.87\n",
       "\\item 0.51\n",
       "\\item 1.81\n",
       "\\item 1.64\n",
       "\\item 0.91\n",
       "\\item 3.11\n",
       "\\item 0.45\n",
       "\\item 0.49\n",
       "\\item 4.56\n",
       "\\item 0.48\n",
       "\\item 1.48\n",
       "\\end{enumerate*}\n"
      ],
      "text/markdown": [
       "1. 4.87\n",
       "2. 0.51\n",
       "3. 1.81\n",
       "4. 1.64\n",
       "5. 0.91\n",
       "6. 3.11\n",
       "7. 0.45\n",
       "8. 0.49\n",
       "9. 4.56\n",
       "10. 0.48\n",
       "11. 1.48\n",
       "\n",
       "\n"
      ],
      "text/plain": [
       " [1] 4.87 0.51 1.81 1.64 0.91 3.11 0.45 0.49 4.56 0.48 1.48"
      ]
     },
     "execution_count": 166,
     "metadata": {},
     "output_type": "execute_result"
    },
    {
     "data": {
      "text/html": [
       "<ol class=list-inline>\n",
       "\t<li>\"Andrea\"</li>\n",
       "\t<li>\"Nicolas\"</li>\n",
       "\t<li>\"Nicolas\"</li>\n",
       "\t<li>\"Esteban\"</li>\n",
       "\t<li>\"Nicolas\"</li>\n",
       "\t<li>\"Laura\"</li>\n",
       "\t<li>\"Laura\"</li>\n",
       "\t<li>\"Laura\"</li>\n",
       "\t<li>\"Laura\"</li>\n",
       "\t<li>\"Nicolas\"</li>\n",
       "\t<li>\"Laura\"</li>\n",
       "</ol>\n"
      ],
      "text/latex": [
       "\\begin{enumerate*}\n",
       "\\item \"Andrea\"\n",
       "\\item \"Nicolas\"\n",
       "\\item \"Nicolas\"\n",
       "\\item \"Esteban\"\n",
       "\\item \"Nicolas\"\n",
       "\\item \"Laura\"\n",
       "\\item \"Laura\"\n",
       "\\item \"Laura\"\n",
       "\\item \"Laura\"\n",
       "\\item \"Nicolas\"\n",
       "\\item \"Laura\"\n",
       "\\end{enumerate*}\n"
      ],
      "text/markdown": [
       "1. \"Andrea\"\n",
       "2. \"Nicolas\"\n",
       "3. \"Nicolas\"\n",
       "4. \"Esteban\"\n",
       "5. \"Nicolas\"\n",
       "6. \"Laura\"\n",
       "7. \"Laura\"\n",
       "8. \"Laura\"\n",
       "9. \"Laura\"\n",
       "10. \"Nicolas\"\n",
       "11. \"Laura\"\n",
       "\n",
       "\n"
      ],
      "text/plain": [
       " [1] \"Andrea\"  \"Nicolas\" \"Nicolas\" \"Esteban\" \"Nicolas\" \"Laura\"   \"Laura\"  \n",
       " [8] \"Laura\"   \"Laura\"   \"Nicolas\" \"Laura\"  "
      ]
     },
     "execution_count": 166,
     "metadata": {},
     "output_type": "execute_result"
    }
   ],
   "source": [
    "materias\n",
    "x <- round(runif(11,0, 5), 2)\n",
    "x\n",
    "nombres <- c('Esteban', 'Laura', 'Andrea', 'Nicolas')\n",
    "y <- sample(size = 11, x = nombres, replace = T)\n",
    "y"
   ]
  },
  {
   "cell_type": "code",
   "execution_count": 170,
   "metadata": {
    "collapsed": false
   },
   "outputs": [
    {
     "data": {
      "text/html": [
       "<table>\n",
       "<thead><tr><th></th><th scope=col>materias</th><th scope=col>x</th><th scope=col>y</th></tr></thead>\n",
       "<tbody>\n",
       "\t<tr><th scope=row>1</th><td>micro</td><td>4.87</td><td>Andrea</td></tr>\n",
       "\t<tr><th scope=row>2</th><td>macro</td><td>0.51</td><td>Nicolas</td></tr>\n",
       "\t<tr><th scope=row>3</th><td>desarrollo</td><td>1.81</td><td>Nicolas</td></tr>\n",
       "\t<tr><th scope=row>4</th><td>NA</td><td>1.64</td><td>Esteban</td></tr>\n",
       "\t<tr><th scope=row>5</th><td>micro</td><td>0.91</td><td>Nicolas</td></tr>\n",
       "\t<tr><th scope=row>6</th><td>calculo</td><td>3.11</td><td>Laura</td></tr>\n",
       "\t<tr><th scope=row>7</th><td>dinamica</td><td>0.45</td><td>Laura</td></tr>\n",
       "\t<tr><th scope=row>8</th><td>historia</td><td>0.49</td><td>Laura</td></tr>\n",
       "\t<tr><th scope=row>9</th><td>desarrollo</td><td>4.56</td><td>Laura</td></tr>\n",
       "\t<tr><th scope=row>10</th><td>econometria</td><td>0.48</td><td>Nicolas</td></tr>\n",
       "\t<tr><th scope=row>11</th><td>NA</td><td>1.48</td><td>Laura</td></tr>\n",
       "</tbody>\n",
       "</table>\n"
      ],
      "text/latex": [
       "\\begin{tabular}{r|lll}\n",
       "  & materias & x & y\\\\\n",
       "\\hline\n",
       "\t1 & micro & 4.87 & Andrea\\\\\n",
       "\t2 & macro & 0.51 & Nicolas\\\\\n",
       "\t3 & desarrollo & 1.81 & Nicolas\\\\\n",
       "\t4 & NA & 1.64 & Esteban\\\\\n",
       "\t5 & micro & 0.91 & Nicolas\\\\\n",
       "\t6 & calculo & 3.11 & Laura\\\\\n",
       "\t7 & dinamica & 0.45 & Laura\\\\\n",
       "\t8 & historia & 0.49 & Laura\\\\\n",
       "\t9 & desarrollo & 4.56 & Laura\\\\\n",
       "\t10 & econometria & 0.48 & Nicolas\\\\\n",
       "\t11 & NA & 1.48 & Laura\\\\\n",
       "\\end{tabular}\n"
      ],
      "text/plain": [
       "      materias    x       y\n",
       "1        micro 4.87  Andrea\n",
       "2        macro 0.51 Nicolas\n",
       "3   desarrollo 1.81 Nicolas\n",
       "4         <NA> 1.64 Esteban\n",
       "5        micro 0.91 Nicolas\n",
       "6      calculo 3.11   Laura\n",
       "7     dinamica 0.45   Laura\n",
       "8     historia 0.49   Laura\n",
       "9   desarrollo 4.56   Laura\n",
       "10 econometria 0.48 Nicolas\n",
       "11        <NA> 1.48   Laura"
      ]
     },
     "execution_count": 170,
     "metadata": {},
     "output_type": "execute_result"
    }
   ],
   "source": [
    "datos.df <- data.frame(materias, x, y)\n",
    "datos.df"
   ]
  },
  {
   "cell_type": "code",
   "execution_count": 180,
   "metadata": {
    "collapsed": false
   },
   "outputs": [
    {
     "data": {
      "text/html": [
       "<ol class=list-inline>\n",
       "\t<li>\"Materias\"</li>\n",
       "\t<li>\"Notas\"</li>\n",
       "\t<li>\"Estudiante\"</li>\n",
       "</ol>\n"
      ],
      "text/latex": [
       "\\begin{enumerate*}\n",
       "\\item \"Materias\"\n",
       "\\item \"Notas\"\n",
       "\\item \"Estudiante\"\n",
       "\\end{enumerate*}\n"
      ],
      "text/markdown": [
       "1. \"Materias\"\n",
       "2. \"Notas\"\n",
       "3. \"Estudiante\"\n",
       "\n",
       "\n"
      ],
      "text/plain": [
       "[1] \"Materias\"   \"Notas\"      \"Estudiante\""
      ]
     },
     "execution_count": 180,
     "metadata": {},
     "output_type": "execute_result"
    },
    {
     "data": {
      "text/html": [
       "<ol class=list-inline>\n",
       "\t<li>\"1\"</li>\n",
       "\t<li>\"2\"</li>\n",
       "\t<li>\"3\"</li>\n",
       "\t<li>\"4\"</li>\n",
       "\t<li>\"5\"</li>\n",
       "\t<li>\"6\"</li>\n",
       "\t<li>\"7\"</li>\n",
       "\t<li>\"8\"</li>\n",
       "\t<li>\"9\"</li>\n",
       "\t<li>\"10\"</li>\n",
       "\t<li>\"11\"</li>\n",
       "</ol>\n"
      ],
      "text/latex": [
       "\\begin{enumerate*}\n",
       "\\item \"1\"\n",
       "\\item \"2\"\n",
       "\\item \"3\"\n",
       "\\item \"4\"\n",
       "\\item \"5\"\n",
       "\\item \"6\"\n",
       "\\item \"7\"\n",
       "\\item \"8\"\n",
       "\\item \"9\"\n",
       "\\item \"10\"\n",
       "\\item \"11\"\n",
       "\\end{enumerate*}\n"
      ],
      "text/markdown": [
       "1. \"1\"\n",
       "2. \"2\"\n",
       "3. \"3\"\n",
       "4. \"4\"\n",
       "5. \"5\"\n",
       "6. \"6\"\n",
       "7. \"7\"\n",
       "8. \"8\"\n",
       "9. \"9\"\n",
       "10. \"10\"\n",
       "11. \"11\"\n",
       "\n",
       "\n"
      ],
      "text/plain": [
       " [1] \"1\"  \"2\"  \"3\"  \"4\"  \"5\"  \"6\"  \"7\"  \"8\"  \"9\"  \"10\" \"11\""
      ]
     },
     "execution_count": 180,
     "metadata": {},
     "output_type": "execute_result"
    }
   ],
   "source": [
    "names(datos.df)\n",
    "rownames(datos.df)"
   ]
  },
  {
   "cell_type": "code",
   "execution_count": 183,
   "metadata": {
    "collapsed": false
   },
   "outputs": [
    {
     "data": {
      "text/html": [
       "<table>\n",
       "<thead><tr><th></th><th scope=col>Materias</th><th scope=col>Notas</th><th scope=col>Estudiante</th></tr></thead>\n",
       "<tbody>\n",
       "\t<tr><th scope=row>id-1</th><td>micro</td><td>4.87</td><td>Andrea</td></tr>\n",
       "\t<tr><th scope=row>id-2</th><td>macro</td><td>0.51</td><td>Nicolas</td></tr>\n",
       "\t<tr><th scope=row>id-3</th><td>desarrollo</td><td>1.81</td><td>Nicolas</td></tr>\n",
       "\t<tr><th scope=row>id-4</th><td>NA</td><td>1.64</td><td>Esteban</td></tr>\n",
       "\t<tr><th scope=row>id-5</th><td>micro</td><td>0.91</td><td>Nicolas</td></tr>\n",
       "\t<tr><th scope=row>id-6</th><td>calculo</td><td>3.11</td><td>Laura</td></tr>\n",
       "\t<tr><th scope=row>id-7</th><td>dinamica</td><td>0.45</td><td>Laura</td></tr>\n",
       "\t<tr><th scope=row>id-8</th><td>historia</td><td>0.49</td><td>Laura</td></tr>\n",
       "\t<tr><th scope=row>id-9</th><td>desarrollo</td><td>4.56</td><td>Laura</td></tr>\n",
       "\t<tr><th scope=row>id-10</th><td>econometria</td><td>0.48</td><td>Nicolas</td></tr>\n",
       "\t<tr><th scope=row>id-11</th><td>NA</td><td>1.48</td><td>Laura</td></tr>\n",
       "</tbody>\n",
       "</table>\n"
      ],
      "text/latex": [
       "\\begin{tabular}{r|lll}\n",
       "  & Materias & Notas & Estudiante\\\\\n",
       "\\hline\n",
       "\tid-1 & micro & 4.87 & Andrea\\\\\n",
       "\tid-2 & macro & 0.51 & Nicolas\\\\\n",
       "\tid-3 & desarrollo & 1.81 & Nicolas\\\\\n",
       "\tid-4 & NA & 1.64 & Esteban\\\\\n",
       "\tid-5 & micro & 0.91 & Nicolas\\\\\n",
       "\tid-6 & calculo & 3.11 & Laura\\\\\n",
       "\tid-7 & dinamica & 0.45 & Laura\\\\\n",
       "\tid-8 & historia & 0.49 & Laura\\\\\n",
       "\tid-9 & desarrollo & 4.56 & Laura\\\\\n",
       "\tid-10 & econometria & 0.48 & Nicolas\\\\\n",
       "\tid-11 & NA & 1.48 & Laura\\\\\n",
       "\\end{tabular}\n"
      ],
      "text/plain": [
       "         Materias Notas Estudiante\n",
       "id-1        micro  4.87     Andrea\n",
       "id-2        macro  0.51    Nicolas\n",
       "id-3   desarrollo  1.81    Nicolas\n",
       "id-4         <NA>  1.64    Esteban\n",
       "id-5        micro  0.91    Nicolas\n",
       "id-6      calculo  3.11      Laura\n",
       "id-7     dinamica  0.45      Laura\n",
       "id-8     historia  0.49      Laura\n",
       "id-9   desarrollo  4.56      Laura\n",
       "id-10 econometria  0.48    Nicolas\n",
       "id-11        <NA>  1.48      Laura"
      ]
     },
     "execution_count": 183,
     "metadata": {},
     "output_type": "execute_result"
    }
   ],
   "source": [
    "prefijo='id'\n",
    "sufijo=seq(from=1, to=11)\n",
    "rownames(datos.df) <- paste(prefijo, sufijo, sep='-' )\n",
    "datos.df"
   ]
  },
  {
   "cell_type": "code",
   "execution_count": null,
   "metadata": {
    "collapsed": true
   },
   "outputs": [],
   "source": [
    "rownames(datos.df) <- c(rep())"
   ]
  },
  {
   "cell_type": "code",
   "execution_count": 173,
   "metadata": {
    "collapsed": false
   },
   "outputs": [
    {
     "data": {
      "text/html": [
       "<table>\n",
       "<thead><tr><th></th><th scope=col>Materias</th><th scope=col>Notas</th><th scope=col>Estudiante</th></tr></thead>\n",
       "<tbody>\n",
       "\t<tr><th scope=row>1</th><td>micro</td><td>4.87</td><td>Andrea</td></tr>\n",
       "\t<tr><th scope=row>2</th><td>macro</td><td>0.51</td><td>Nicolas</td></tr>\n",
       "\t<tr><th scope=row>3</th><td>desarrollo</td><td>1.81</td><td>Nicolas</td></tr>\n",
       "\t<tr><th scope=row>4</th><td>NA</td><td>1.64</td><td>Esteban</td></tr>\n",
       "\t<tr><th scope=row>5</th><td>micro</td><td>0.91</td><td>Nicolas</td></tr>\n",
       "\t<tr><th scope=row>6</th><td>calculo</td><td>3.11</td><td>Laura</td></tr>\n",
       "\t<tr><th scope=row>7</th><td>dinamica</td><td>0.45</td><td>Laura</td></tr>\n",
       "\t<tr><th scope=row>8</th><td>historia</td><td>0.49</td><td>Laura</td></tr>\n",
       "\t<tr><th scope=row>9</th><td>desarrollo</td><td>4.56</td><td>Laura</td></tr>\n",
       "\t<tr><th scope=row>10</th><td>econometria</td><td>0.48</td><td>Nicolas</td></tr>\n",
       "\t<tr><th scope=row>11</th><td>NA</td><td>1.48</td><td>Laura</td></tr>\n",
       "</tbody>\n",
       "</table>\n"
      ],
      "text/latex": [
       "\\begin{tabular}{r|lll}\n",
       "  & Materias & Notas & Estudiante\\\\\n",
       "\\hline\n",
       "\t1 & micro & 4.87 & Andrea\\\\\n",
       "\t2 & macro & 0.51 & Nicolas\\\\\n",
       "\t3 & desarrollo & 1.81 & Nicolas\\\\\n",
       "\t4 & NA & 1.64 & Esteban\\\\\n",
       "\t5 & micro & 0.91 & Nicolas\\\\\n",
       "\t6 & calculo & 3.11 & Laura\\\\\n",
       "\t7 & dinamica & 0.45 & Laura\\\\\n",
       "\t8 & historia & 0.49 & Laura\\\\\n",
       "\t9 & desarrollo & 4.56 & Laura\\\\\n",
       "\t10 & econometria & 0.48 & Nicolas\\\\\n",
       "\t11 & NA & 1.48 & Laura\\\\\n",
       "\\end{tabular}\n"
      ],
      "text/plain": [
       "      Materias Notas Estudiante\n",
       "1        micro  4.87     Andrea\n",
       "2        macro  0.51    Nicolas\n",
       "3   desarrollo  1.81    Nicolas\n",
       "4         <NA>  1.64    Esteban\n",
       "5        micro  0.91    Nicolas\n",
       "6      calculo  3.11      Laura\n",
       "7     dinamica  0.45      Laura\n",
       "8     historia  0.49      Laura\n",
       "9   desarrollo  4.56      Laura\n",
       "10 econometria  0.48    Nicolas\n",
       "11        <NA>  1.48      Laura"
      ]
     },
     "execution_count": 173,
     "metadata": {},
     "output_type": "execute_result"
    }
   ],
   "source": [
    "names(datos.df) <- c('Materias', 'Notas', 'Estudiante')\n",
    "datos.df\n"
   ]
  },
  {
   "cell_type": "code",
   "execution_count": 188,
   "metadata": {
    "collapsed": false
   },
   "outputs": [
    {
     "data": {
      "text/html": [
       "<ol class=list-inline>\n",
       "\t<li>Andrea</li>\n",
       "\t<li>Nicolas</li>\n",
       "\t<li>Nicolas</li>\n",
       "\t<li>Esteban</li>\n",
       "\t<li>Nicolas</li>\n",
       "\t<li>Laura</li>\n",
       "\t<li>Laura</li>\n",
       "\t<li>Laura</li>\n",
       "\t<li>Laura</li>\n",
       "\t<li>Nicolas</li>\n",
       "\t<li>Laura</li>\n",
       "</ol>\n"
      ],
      "text/latex": [
       "\\begin{enumerate*}\n",
       "\\item Andrea\n",
       "\\item Nicolas\n",
       "\\item Nicolas\n",
       "\\item Esteban\n",
       "\\item Nicolas\n",
       "\\item Laura\n",
       "\\item Laura\n",
       "\\item Laura\n",
       "\\item Laura\n",
       "\\item Nicolas\n",
       "\\item Laura\n",
       "\\end{enumerate*}\n"
      ],
      "text/markdown": [
       "1. Andrea\n",
       "2. Nicolas\n",
       "3. Nicolas\n",
       "4. Esteban\n",
       "5. Nicolas\n",
       "6. Laura\n",
       "7. Laura\n",
       "8. Laura\n",
       "9. Laura\n",
       "10. Nicolas\n",
       "11. Laura\n",
       "\n",
       "\n"
      ],
      "text/plain": [
       " [1] Andrea  Nicolas Nicolas Esteban Nicolas Laura   Laura   Laura   Laura  \n",
       "[10] Nicolas Laura  \n",
       "Levels: Andrea Esteban Laura Nicolas"
      ]
     },
     "execution_count": 188,
     "metadata": {},
     "output_type": "execute_result"
    }
   ],
   "source": [
    "datos.df$Estudiante"
   ]
  },
  {
   "cell_type": "code",
   "execution_count": 164,
   "metadata": {
    "collapsed": false
   },
   "outputs": [
    {
     "data": {
      "text/html": [
       "\"data.frame\""
      ],
      "text/latex": [
       "\"data.frame\""
      ],
      "text/markdown": [
       "\"data.frame\""
      ],
      "text/plain": [
       "[1] \"data.frame\""
      ]
     },
     "execution_count": 164,
     "metadata": {},
     "output_type": "execute_result"
    },
    {
     "data": {
      "text/html": [
       "\"factor\""
      ],
      "text/latex": [
       "\"factor\""
      ],
      "text/markdown": [
       "\"factor\""
      ],
      "text/plain": [
       "[1] \"factor\""
      ]
     },
     "execution_count": 164,
     "metadata": {},
     "output_type": "execute_result"
    },
    {
     "data": {
      "text/html": [
       "\"numeric\""
      ],
      "text/latex": [
       "\"numeric\""
      ],
      "text/markdown": [
       "\"numeric\""
      ],
      "text/plain": [
       "[1] \"numeric\""
      ]
     },
     "execution_count": 164,
     "metadata": {},
     "output_type": "execute_result"
    },
    {
     "data": {
      "text/html": [
       "\"factor\""
      ],
      "text/latex": [
       "\"factor\""
      ],
      "text/markdown": [
       "\"factor\""
      ],
      "text/plain": [
       "[1] \"factor\""
      ]
     },
     "execution_count": 164,
     "metadata": {},
     "output_type": "execute_result"
    }
   ],
   "source": [
    "class(datos.df)\n",
    "class(datos.df$materias)\n",
    "class(datos.df$x)\n",
    "class(datos.df$y)"
   ]
  },
  {
   "cell_type": "code",
   "execution_count": 165,
   "metadata": {
    "collapsed": false
   },
   "outputs": [
    {
     "name": "stdout",
     "output_type": "stream",
     "text": [
      "'data.frame':\t11 obs. of  3 variables:\n",
      " $ materias: Factor w/ 7 levels \"calculo\",\"desarrollo\",..: 7 6 2 NA 7 1 3 5 2 4 ...\n",
      " $ x       : num  1.06 1.7 1.3 1.49 4.11 2.52 3.78 2 3.28 2.64 ...\n",
      " $ y       : Factor w/ 5 levels \"Andrea\",\"Esteban\",..: 3 5 4 4 5 1 2 2 5 2 ...\n"
     ]
    }
   ],
   "source": [
    "str(datos.df)"
   ]
  },
  {
   "cell_type": "code",
   "execution_count": 175,
   "metadata": {
    "collapsed": false
   },
   "outputs": [
    {
     "data": {
      "text/html": [
       "<table>\n",
       "<thead><tr><th></th><th scope=col>Materias</th><th scope=col>Notas</th><th scope=col>Estudinte</th></tr></thead>\n",
       "<tbody>\n",
       "\t<tr><th scope=row>1</th><td>micro</td><td>4.87</td><td>Andrea</td></tr>\n",
       "\t<tr><th scope=row>2</th><td>macro</td><td>0.51</td><td>Nicolas</td></tr>\n",
       "\t<tr><th scope=row>3</th><td>desarrollo</td><td>1.81</td><td>Nicolas</td></tr>\n",
       "\t<tr><th scope=row>4</th><td>NA</td><td>1.64</td><td>Esteban</td></tr>\n",
       "\t<tr><th scope=row>5</th><td>micro</td><td>0.91</td><td>Nicolas</td></tr>\n",
       "\t<tr><th scope=row>6</th><td>calculo</td><td>3.11</td><td>Laura</td></tr>\n",
       "\t<tr><th scope=row>7</th><td>dinamica</td><td>0.45</td><td>Laura</td></tr>\n",
       "\t<tr><th scope=row>8</th><td>historia</td><td>0.49</td><td>Laura</td></tr>\n",
       "\t<tr><th scope=row>9</th><td>desarrollo</td><td>4.56</td><td>Laura</td></tr>\n",
       "\t<tr><th scope=row>10</th><td>econometria</td><td>0.48</td><td>Nicolas</td></tr>\n",
       "\t<tr><th scope=row>11</th><td>NA</td><td>1.48</td><td>Laura</td></tr>\n",
       "</tbody>\n",
       "</table>\n"
      ],
      "text/latex": [
       "\\begin{tabular}{r|lll}\n",
       "  & Materias & Notas & Estudinte\\\\\n",
       "\\hline\n",
       "\t1 & micro & 4.87 & Andrea\\\\\n",
       "\t2 & macro & 0.51 & Nicolas\\\\\n",
       "\t3 & desarrollo & 1.81 & Nicolas\\\\\n",
       "\t4 & NA & 1.64 & Esteban\\\\\n",
       "\t5 & micro & 0.91 & Nicolas\\\\\n",
       "\t6 & calculo & 3.11 & Laura\\\\\n",
       "\t7 & dinamica & 0.45 & Laura\\\\\n",
       "\t8 & historia & 0.49 & Laura\\\\\n",
       "\t9 & desarrollo & 4.56 & Laura\\\\\n",
       "\t10 & econometria & 0.48 & Nicolas\\\\\n",
       "\t11 & NA & 1.48 & Laura\\\\\n",
       "\\end{tabular}\n"
      ],
      "text/plain": [
       "      Materias Notas Estudinte\n",
       "1        micro  4.87    Andrea\n",
       "2        macro  0.51   Nicolas\n",
       "3   desarrollo  1.81   Nicolas\n",
       "4         <NA>  1.64   Esteban\n",
       "5        micro  0.91   Nicolas\n",
       "6      calculo  3.11     Laura\n",
       "7     dinamica  0.45     Laura\n",
       "8     historia  0.49     Laura\n",
       "9   desarrollo  4.56     Laura\n",
       "10 econometria  0.48   Nicolas\n",
       "11        <NA>  1.48     Laura"
      ]
     },
     "execution_count": 175,
     "metadata": {},
     "output_type": "execute_result"
    },
    {
     "name": "stdout",
     "output_type": "stream",
     "text": [
      "'data.frame':\t11 obs. of  3 variables:\n",
      " $ Materias : chr  \"micro\" \"macro\" \"desarrollo\" NA ...\n",
      " $ Notas    : num  4.87 0.51 1.81 1.64 0.91 3.11 0.45 0.49 4.56 0.48 ...\n",
      " $ Estudinte: chr  \"Andrea\" \"Nicolas\" \"Nicolas\" \"Esteban\" ...\n"
     ]
    }
   ],
   "source": [
    "datos.df2 <- data.frame(Materias=materias, Notas=x, Estudinte=y, stringsAsFactors = F)\n",
    "datos.df2\n",
    "str(datos.df2)"
   ]
  },
  {
   "cell_type": "code",
   "execution_count": 176,
   "metadata": {
    "collapsed": false
   },
   "outputs": [
    {
     "data": {
      "text/html": [
       "11"
      ],
      "text/latex": [
       "11"
      ],
      "text/markdown": [
       "11"
      ],
      "text/plain": [
       "[1] 11"
      ]
     },
     "execution_count": 176,
     "metadata": {},
     "output_type": "execute_result"
    },
    {
     "data": {
      "text/html": [
       "3"
      ],
      "text/latex": [
       "3"
      ],
      "text/markdown": [
       "3"
      ],
      "text/plain": [
       "[1] 3"
      ]
     },
     "execution_count": 176,
     "metadata": {},
     "output_type": "execute_result"
    },
    {
     "data": {
      "text/html": [
       "<ol class=list-inline>\n",
       "\t<li>11</li>\n",
       "\t<li>3</li>\n",
       "</ol>\n"
      ],
      "text/latex": [
       "\\begin{enumerate*}\n",
       "\\item 11\n",
       "\\item 3\n",
       "\\end{enumerate*}\n"
      ],
      "text/markdown": [
       "1. 11\n",
       "2. 3\n",
       "\n",
       "\n"
      ],
      "text/plain": [
       "[1] 11  3"
      ]
     },
     "execution_count": 176,
     "metadata": {},
     "output_type": "execute_result"
    }
   ],
   "source": [
    "nrow(datos.df2)\n",
    "ncol(datos.df2)\n",
    "dim(datos.df2)"
   ]
  },
  {
   "cell_type": "code",
   "execution_count": 178,
   "metadata": {
    "collapsed": false
   },
   "outputs": [
    {
     "data": {
      "text/plain": [
       "NULL"
      ]
     },
     "execution_count": 178,
     "metadata": {},
     "output_type": "execute_result"
    },
    {
     "data": {
      "text/html": [
       "11"
      ],
      "text/latex": [
       "11"
      ],
      "text/markdown": [
       "11"
      ],
      "text/plain": [
       "[1] 11"
      ]
     },
     "execution_count": 178,
     "metadata": {},
     "output_type": "execute_result"
    },
    {
     "data": {
      "text/html": [
       "11"
      ],
      "text/latex": [
       "11"
      ],
      "text/markdown": [
       "11"
      ],
      "text/plain": [
       "[1] 11"
      ]
     },
     "execution_count": 178,
     "metadata": {},
     "output_type": "execute_result"
    }
   ],
   "source": [
    "nrow(x)\n",
    "length(x)\n",
    "NROW(x)"
   ]
  },
  {
   "cell_type": "code",
   "execution_count": 187,
   "metadata": {
    "collapsed": false
   },
   "outputs": [
    {
     "data": {
      "text/html": [
       "<table>\n",
       "<thead><tr><th></th><th scope=col>Materias</th><th scope=col>Notas</th><th scope=col>Estudinte</th></tr></thead>\n",
       "<tbody>\n",
       "\t<tr><th scope=row>1</th><td>micro</td><td>4.87</td><td>Andrea</td></tr>\n",
       "\t<tr><th scope=row>2</th><td>macro</td><td>0.51</td><td>Nicolas</td></tr>\n",
       "\t<tr><th scope=row>3</th><td>desarrollo</td><td>1.81</td><td>Nicolas</td></tr>\n",
       "</tbody>\n",
       "</table>\n"
      ],
      "text/latex": [
       "\\begin{tabular}{r|lll}\n",
       "  & Materias & Notas & Estudinte\\\\\n",
       "\\hline\n",
       "\t1 & micro & 4.87 & Andrea\\\\\n",
       "\t2 & macro & 0.51 & Nicolas\\\\\n",
       "\t3 & desarrollo & 1.81 & Nicolas\\\\\n",
       "\\end{tabular}\n"
      ],
      "text/plain": [
       "    Materias Notas Estudinte\n",
       "1      micro  4.87    Andrea\n",
       "2      macro  0.51   Nicolas\n",
       "3 desarrollo  1.81   Nicolas"
      ]
     },
     "execution_count": 187,
     "metadata": {},
     "output_type": "execute_result"
    },
    {
     "data": {
      "text/html": [
       "<table>\n",
       "<thead><tr><th></th><th scope=col>Materias</th><th scope=col>Notas</th><th scope=col>Estudinte</th></tr></thead>\n",
       "<tbody>\n",
       "\t<tr><th scope=row>10</th><td>econometria</td><td>0.48</td><td>Nicolas</td></tr>\n",
       "\t<tr><th scope=row>11</th><td>NA</td><td>1.48</td><td>Laura</td></tr>\n",
       "</tbody>\n",
       "</table>\n"
      ],
      "text/latex": [
       "\\begin{tabular}{r|lll}\n",
       "  & Materias & Notas & Estudinte\\\\\n",
       "\\hline\n",
       "\t10 & econometria & 0.48 & Nicolas\\\\\n",
       "\t11 & NA & 1.48 & Laura\\\\\n",
       "\\end{tabular}\n"
      ],
      "text/plain": [
       "      Materias Notas Estudinte\n",
       "10 econometria  0.48   Nicolas\n",
       "11        <NA>  1.48     Laura"
      ]
     },
     "execution_count": 187,
     "metadata": {},
     "output_type": "execute_result"
    }
   ],
   "source": [
    "head(datos.df2, n=3)\n",
    "tail(datos.df2, n=2)"
   ]
  },
  {
   "cell_type": "code",
   "execution_count": 189,
   "metadata": {
    "collapsed": false
   },
   "outputs": [
    {
     "data": {
      "text/html": [
       "<table>\n",
       "<thead><tr><th></th><th scope=col>Materias</th><th scope=col>Notas</th><th scope=col>Estudinte</th></tr></thead>\n",
       "<tbody>\n",
       "\t<tr><th scope=row>1</th><td>micro</td><td>4.87</td><td>Andrea</td></tr>\n",
       "\t<tr><th scope=row>2</th><td>macro</td><td>0.51</td><td>Nicolas</td></tr>\n",
       "\t<tr><th scope=row>3</th><td>desarrollo</td><td>1.81</td><td>Nicolas</td></tr>\n",
       "</tbody>\n",
       "</table>\n"
      ],
      "text/latex": [
       "\\begin{tabular}{r|lll}\n",
       "  & Materias & Notas & Estudinte\\\\\n",
       "\\hline\n",
       "\t1 & micro & 4.87 & Andrea\\\\\n",
       "\t2 & macro & 0.51 & Nicolas\\\\\n",
       "\t3 & desarrollo & 1.81 & Nicolas\\\\\n",
       "\\end{tabular}\n"
      ],
      "text/plain": [
       "    Materias Notas Estudinte\n",
       "1      micro  4.87    Andrea\n",
       "2      macro  0.51   Nicolas\n",
       "3 desarrollo  1.81   Nicolas"
      ]
     },
     "execution_count": 189,
     "metadata": {},
     "output_type": "execute_result"
    }
   ],
   "source": [
    "datos.df2[1:3, ]"
   ]
  },
  {
   "cell_type": "code",
   "execution_count": 207,
   "metadata": {
    "collapsed": false
   },
   "outputs": [
    {
     "data": {
      "text/html": [
       "<ol class=list-inline>\n",
       "\t<li>\"Andrea\"</li>\n",
       "\t<li>\"Nicolas\"</li>\n",
       "\t<li>\"Nicolas\"</li>\n",
       "\t<li>\"Esteban\"</li>\n",
       "\t<li>\"Nicolas\"</li>\n",
       "\t<li>\"Laura\"</li>\n",
       "\t<li>\"Laura\"</li>\n",
       "\t<li>\"Laura\"</li>\n",
       "\t<li>\"Laura\"</li>\n",
       "\t<li>\"Nicolas\"</li>\n",
       "\t<li>\"Laura\"</li>\n",
       "</ol>\n"
      ],
      "text/latex": [
       "\\begin{enumerate*}\n",
       "\\item \"Andrea\"\n",
       "\\item \"Nicolas\"\n",
       "\\item \"Nicolas\"\n",
       "\\item \"Esteban\"\n",
       "\\item \"Nicolas\"\n",
       "\\item \"Laura\"\n",
       "\\item \"Laura\"\n",
       "\\item \"Laura\"\n",
       "\\item \"Laura\"\n",
       "\\item \"Nicolas\"\n",
       "\\item \"Laura\"\n",
       "\\end{enumerate*}\n"
      ],
      "text/markdown": [
       "1. \"Andrea\"\n",
       "2. \"Nicolas\"\n",
       "3. \"Nicolas\"\n",
       "4. \"Esteban\"\n",
       "5. \"Nicolas\"\n",
       "6. \"Laura\"\n",
       "7. \"Laura\"\n",
       "8. \"Laura\"\n",
       "9. \"Laura\"\n",
       "10. \"Nicolas\"\n",
       "11. \"Laura\"\n",
       "\n",
       "\n"
      ],
      "text/plain": [
       " [1] \"Andrea\"  \"Nicolas\" \"Nicolas\" \"Esteban\" \"Nicolas\" \"Laura\"   \"Laura\"  \n",
       " [8] \"Laura\"   \"Laura\"   \"Nicolas\" \"Laura\"  "
      ]
     },
     "execution_count": 207,
     "metadata": {},
     "output_type": "execute_result"
    },
    {
     "data": {
      "text/html": [
       "\"character\""
      ],
      "text/latex": [
       "\"character\""
      ],
      "text/markdown": [
       "\"character\""
      ],
      "text/plain": [
       "[1] \"character\""
      ]
     },
     "execution_count": 207,
     "metadata": {},
     "output_type": "execute_result"
    }
   ],
   "source": [
    "datos.df2[ , 3 ]\n",
    "class(datos.df2[ , 3 ])"
   ]
  },
  {
   "cell_type": "code",
   "execution_count": 208,
   "metadata": {
    "collapsed": false
   },
   "outputs": [
    {
     "data": {
      "text/html": [
       "<table>\n",
       "<thead><tr><th></th><th scope=col>Estudinte</th></tr></thead>\n",
       "<tbody>\n",
       "\t<tr><th scope=row>1</th><td>Andrea</td></tr>\n",
       "\t<tr><th scope=row>2</th><td>Nicolas</td></tr>\n",
       "\t<tr><th scope=row>3</th><td>Nicolas</td></tr>\n",
       "\t<tr><th scope=row>4</th><td>Esteban</td></tr>\n",
       "\t<tr><th scope=row>5</th><td>Nicolas</td></tr>\n",
       "\t<tr><th scope=row>6</th><td>Laura</td></tr>\n",
       "\t<tr><th scope=row>7</th><td>Laura</td></tr>\n",
       "\t<tr><th scope=row>8</th><td>Laura</td></tr>\n",
       "\t<tr><th scope=row>9</th><td>Laura</td></tr>\n",
       "\t<tr><th scope=row>10</th><td>Nicolas</td></tr>\n",
       "\t<tr><th scope=row>11</th><td>Laura</td></tr>\n",
       "</tbody>\n",
       "</table>\n"
      ],
      "text/latex": [
       "\\begin{tabular}{r|l}\n",
       "  & Estudinte\\\\\n",
       "\\hline\n",
       "\t1 & Andrea\\\\\n",
       "\t2 & Nicolas\\\\\n",
       "\t3 & Nicolas\\\\\n",
       "\t4 & Esteban\\\\\n",
       "\t5 & Nicolas\\\\\n",
       "\t6 & Laura\\\\\n",
       "\t7 & Laura\\\\\n",
       "\t8 & Laura\\\\\n",
       "\t9 & Laura\\\\\n",
       "\t10 & Nicolas\\\\\n",
       "\t11 & Laura\\\\\n",
       "\\end{tabular}\n"
      ],
      "text/plain": [
       "   Estudinte\n",
       "1     Andrea\n",
       "2    Nicolas\n",
       "3    Nicolas\n",
       "4    Esteban\n",
       "5    Nicolas\n",
       "6      Laura\n",
       "7      Laura\n",
       "8      Laura\n",
       "9      Laura\n",
       "10   Nicolas\n",
       "11     Laura"
      ]
     },
     "execution_count": 208,
     "metadata": {},
     "output_type": "execute_result"
    },
    {
     "data": {
      "text/html": [
       "\"data.frame\""
      ],
      "text/latex": [
       "\"data.frame\""
      ],
      "text/markdown": [
       "\"data.frame\""
      ],
      "text/plain": [
       "[1] \"data.frame\""
      ]
     },
     "execution_count": 208,
     "metadata": {},
     "output_type": "execute_result"
    }
   ],
   "source": [
    "datos.df2[ , 3 , drop=F]\n",
    "class(datos.df2[ , 3 , drop=F])"
   ]
  },
  {
   "cell_type": "code",
   "execution_count": 194,
   "metadata": {
    "collapsed": false
   },
   "outputs": [
    {
     "data": {
      "text/html": [
       "<table>\n",
       "<thead><tr><th></th><th scope=col>Estudinte</th></tr></thead>\n",
       "<tbody>\n",
       "\t<tr><th scope=row>1</th><td>Andrea</td></tr>\n",
       "\t<tr><th scope=row>2</th><td>Nicolas</td></tr>\n",
       "\t<tr><th scope=row>3</th><td>Nicolas</td></tr>\n",
       "</tbody>\n",
       "</table>\n"
      ],
      "text/latex": [
       "\\begin{tabular}{r|l}\n",
       "  & Estudinte\\\\\n",
       "\\hline\n",
       "\t1 & Andrea\\\\\n",
       "\t2 & Nicolas\\\\\n",
       "\t3 & Nicolas\\\\\n",
       "\\end{tabular}\n"
      ],
      "text/plain": [
       "  Estudinte\n",
       "1    Andrea\n",
       "2   Nicolas\n",
       "3   Nicolas"
      ]
     },
     "execution_count": 194,
     "metadata": {},
     "output_type": "execute_result"
    }
   ],
   "source": [
    "datos.df2[ 1:3 , 3 , drop= F]"
   ]
  },
  {
   "cell_type": "code",
   "execution_count": 196,
   "metadata": {
    "collapsed": false
   },
   "outputs": [
    {
     "data": {
      "text/html": [
       "<table>\n",
       "<thead><tr><th></th><th scope=col>Materias</th><th scope=col>Notas</th></tr></thead>\n",
       "<tbody>\n",
       "\t<tr><th scope=row>3</th><td>desarrollo</td><td>1.81</td></tr>\n",
       "\t<tr><th scope=row>4</th><td>NA</td><td>1.64</td></tr>\n",
       "\t<tr><th scope=row>5</th><td>micro</td><td>0.91</td></tr>\n",
       "\t<tr><th scope=row>6</th><td>calculo</td><td>3.11</td></tr>\n",
       "\t<tr><th scope=row>7</th><td>dinamica</td><td>0.45</td></tr>\n",
       "\t<tr><th scope=row>8</th><td>historia</td><td>0.49</td></tr>\n",
       "\t<tr><th scope=row>9</th><td>desarrollo</td><td>4.56</td></tr>\n",
       "</tbody>\n",
       "</table>\n"
      ],
      "text/latex": [
       "\\begin{tabular}{r|ll}\n",
       "  & Materias & Notas\\\\\n",
       "\\hline\n",
       "\t3 & desarrollo & 1.81\\\\\n",
       "\t4 & NA & 1.64\\\\\n",
       "\t5 & micro & 0.91\\\\\n",
       "\t6 & calculo & 3.11\\\\\n",
       "\t7 & dinamica & 0.45\\\\\n",
       "\t8 & historia & 0.49\\\\\n",
       "\t9 & desarrollo & 4.56\\\\\n",
       "\\end{tabular}\n"
      ],
      "text/plain": [
       "    Materias Notas\n",
       "3 desarrollo  1.81\n",
       "4       <NA>  1.64\n",
       "5      micro  0.91\n",
       "6    calculo  3.11\n",
       "7   dinamica  0.45\n",
       "8   historia  0.49\n",
       "9 desarrollo  4.56"
      ]
     },
     "execution_count": 196,
     "metadata": {},
     "output_type": "execute_result"
    }
   ],
   "source": [
    "datos.df2[ 3:9 , 1:2]"
   ]
  },
  {
   "cell_type": "code",
   "execution_count": 197,
   "metadata": {
    "collapsed": false
   },
   "outputs": [
    {
     "data": {
      "text/html": [
       "<table>\n",
       "<thead><tr><th></th><th scope=col>Materias</th><th scope=col>Notas</th></tr></thead>\n",
       "<tbody>\n",
       "\t<tr><th scope=row>3</th><td>desarrollo</td><td>1.81</td></tr>\n",
       "\t<tr><th scope=row>9</th><td>desarrollo</td><td>4.56</td></tr>\n",
       "</tbody>\n",
       "</table>\n"
      ],
      "text/latex": [
       "\\begin{tabular}{r|ll}\n",
       "  & Materias & Notas\\\\\n",
       "\\hline\n",
       "\t3 & desarrollo & 1.81\\\\\n",
       "\t9 & desarrollo & 4.56\\\\\n",
       "\\end{tabular}\n"
      ],
      "text/plain": [
       "    Materias Notas\n",
       "3 desarrollo  1.81\n",
       "9 desarrollo  4.56"
      ]
     },
     "execution_count": 197,
     "metadata": {},
     "output_type": "execute_result"
    }
   ],
   "source": [
    "datos.df2[ c(3, 9) , 1:2]"
   ]
  },
  {
   "cell_type": "code",
   "execution_count": 200,
   "metadata": {
    "collapsed": false
   },
   "outputs": [
    {
     "data": {
      "text/html": [
       "<table>\n",
       "<thead><tr><th></th><th scope=col>Materias</th><th scope=col>Notas</th></tr></thead>\n",
       "<tbody>\n",
       "\t<tr><th scope=row>id-5</th><td>micro</td><td>0.91</td></tr>\n",
       "\t<tr><th scope=row>id-9</th><td>desarrollo</td><td>4.56</td></tr>\n",
       "</tbody>\n",
       "</table>\n"
      ],
      "text/latex": [
       "\\begin{tabular}{r|ll}\n",
       "  & Materias & Notas\\\\\n",
       "\\hline\n",
       "\tid-5 & micro & 0.91\\\\\n",
       "\tid-9 & desarrollo & 4.56\\\\\n",
       "\\end{tabular}\n"
      ],
      "text/plain": [
       "       Materias Notas\n",
       "id-5      micro  0.91\n",
       "id-9 desarrollo  4.56"
      ]
     },
     "execution_count": 200,
     "metadata": {},
     "output_type": "execute_result"
    }
   ],
   "source": [
    "datos.df[ c('id-5', 'id-9') , 1:2]"
   ]
  },
  {
   "cell_type": "code",
   "execution_count": 202,
   "metadata": {
    "collapsed": false
   },
   "outputs": [
    {
     "data": {
      "text/html": [
       "<table>\n",
       "<thead><tr><th></th><th scope=col>Materias</th><th scope=col>Notas</th></tr></thead>\n",
       "<tbody>\n",
       "\t<tr><th scope=row>1</th><td>micro</td><td>4.87</td></tr>\n",
       "\t<tr><th scope=row>2</th><td>macro</td><td>0.51</td></tr>\n",
       "\t<tr><th scope=row>3</th><td>desarrollo</td><td>1.81</td></tr>\n",
       "\t<tr><th scope=row>4</th><td>NA</td><td>1.64</td></tr>\n",
       "\t<tr><th scope=row>5</th><td>micro</td><td>0.91</td></tr>\n",
       "\t<tr><th scope=row>6</th><td>calculo</td><td>3.11</td></tr>\n",
       "\t<tr><th scope=row>7</th><td>dinamica</td><td>0.45</td></tr>\n",
       "\t<tr><th scope=row>8</th><td>historia</td><td>0.49</td></tr>\n",
       "\t<tr><th scope=row>9</th><td>desarrollo</td><td>4.56</td></tr>\n",
       "\t<tr><th scope=row>10</th><td>econometria</td><td>0.48</td></tr>\n",
       "\t<tr><th scope=row>11</th><td>NA</td><td>1.48</td></tr>\n",
       "</tbody>\n",
       "</table>\n"
      ],
      "text/latex": [
       "\\begin{tabular}{r|ll}\n",
       "  & Materias & Notas\\\\\n",
       "\\hline\n",
       "\t1 & micro & 4.87\\\\\n",
       "\t2 & macro & 0.51\\\\\n",
       "\t3 & desarrollo & 1.81\\\\\n",
       "\t4 & NA & 1.64\\\\\n",
       "\t5 & micro & 0.91\\\\\n",
       "\t6 & calculo & 3.11\\\\\n",
       "\t7 & dinamica & 0.45\\\\\n",
       "\t8 & historia & 0.49\\\\\n",
       "\t9 & desarrollo & 4.56\\\\\n",
       "\t10 & econometria & 0.48\\\\\n",
       "\t11 & NA & 1.48\\\\\n",
       "\\end{tabular}\n"
      ],
      "text/plain": [
       "      Materias Notas\n",
       "1        micro  4.87\n",
       "2        macro  0.51\n",
       "3   desarrollo  1.81\n",
       "4         <NA>  1.64\n",
       "5        micro  0.91\n",
       "6      calculo  3.11\n",
       "7     dinamica  0.45\n",
       "8     historia  0.49\n",
       "9   desarrollo  4.56\n",
       "10 econometria  0.48\n",
       "11        <NA>  1.48"
      ]
     },
     "execution_count": 202,
     "metadata": {},
     "output_type": "execute_result"
    }
   ],
   "source": [
    "datos.df2[ , -3]"
   ]
  },
  {
   "cell_type": "code",
   "execution_count": 209,
   "metadata": {
    "collapsed": false
   },
   "outputs": [
    {
     "data": {
      "text/html": [
       "<table>\n",
       "<thead><tr><th></th><th scope=col>Notas</th></tr></thead>\n",
       "<tbody>\n",
       "\t<tr><th scope=row>1</th><td>4.87</td></tr>\n",
       "\t<tr><th scope=row>2</th><td>0.51</td></tr>\n",
       "\t<tr><th scope=row>3</th><td>1.81</td></tr>\n",
       "\t<tr><th scope=row>4</th><td>1.64</td></tr>\n",
       "\t<tr><th scope=row>5</th><td>0.91</td></tr>\n",
       "\t<tr><th scope=row>6</th><td>3.11</td></tr>\n",
       "\t<tr><th scope=row>7</th><td>0.45</td></tr>\n",
       "\t<tr><th scope=row>8</th><td>0.49</td></tr>\n",
       "\t<tr><th scope=row>9</th><td>4.56</td></tr>\n",
       "\t<tr><th scope=row>10</th><td>0.48</td></tr>\n",
       "\t<tr><th scope=row>11</th><td>1.48</td></tr>\n",
       "</tbody>\n",
       "</table>\n"
      ],
      "text/latex": [
       "\\begin{tabular}{r|l}\n",
       "  & Notas\\\\\n",
       "\\hline\n",
       "\t1 & 4.87\\\\\n",
       "\t2 & 0.51\\\\\n",
       "\t3 & 1.81\\\\\n",
       "\t4 & 1.64\\\\\n",
       "\t5 & 0.91\\\\\n",
       "\t6 & 3.11\\\\\n",
       "\t7 & 0.45\\\\\n",
       "\t8 & 0.49\\\\\n",
       "\t9 & 4.56\\\\\n",
       "\t10 & 0.48\\\\\n",
       "\t11 & 1.48\\\\\n",
       "\\end{tabular}\n"
      ],
      "text/plain": [
       "   Notas\n",
       "1   4.87\n",
       "2   0.51\n",
       "3   1.81\n",
       "4   1.64\n",
       "5   0.91\n",
       "6   3.11\n",
       "7   0.45\n",
       "8   0.49\n",
       "9   4.56\n",
       "10  0.48\n",
       "11  1.48"
      ]
     },
     "execution_count": 209,
     "metadata": {},
     "output_type": "execute_result"
    }
   ],
   "source": [
    "datos.df2[ , 'Notas', drop=F]"
   ]
  },
  {
   "cell_type": "code",
   "execution_count": 213,
   "metadata": {
    "collapsed": false
   },
   "outputs": [
    {
     "data": {
      "text/html": [
       "<table>\n",
       "<thead><tr><th></th><th scope=col>Notas</th></tr></thead>\n",
       "<tbody>\n",
       "\t<tr><th scope=row>1</th><td>4.87</td></tr>\n",
       "\t<tr><th scope=row>2</th><td>0.51</td></tr>\n",
       "\t<tr><th scope=row>3</th><td>1.81</td></tr>\n",
       "\t<tr><th scope=row>4</th><td>1.64</td></tr>\n",
       "\t<tr><th scope=row>5</th><td>0.91</td></tr>\n",
       "\t<tr><th scope=row>6</th><td>3.11</td></tr>\n",
       "\t<tr><th scope=row>7</th><td>0.45</td></tr>\n",
       "\t<tr><th scope=row>8</th><td>0.49</td></tr>\n",
       "\t<tr><th scope=row>9</th><td>4.56</td></tr>\n",
       "\t<tr><th scope=row>10</th><td>0.48</td></tr>\n",
       "\t<tr><th scope=row>11</th><td>1.48</td></tr>\n",
       "</tbody>\n",
       "</table>\n"
      ],
      "text/latex": [
       "\\begin{tabular}{r|l}\n",
       "  & Notas\\\\\n",
       "\\hline\n",
       "\t1 & 4.87\\\\\n",
       "\t2 & 0.51\\\\\n",
       "\t3 & 1.81\\\\\n",
       "\t4 & 1.64\\\\\n",
       "\t5 & 0.91\\\\\n",
       "\t6 & 3.11\\\\\n",
       "\t7 & 0.45\\\\\n",
       "\t8 & 0.49\\\\\n",
       "\t9 & 4.56\\\\\n",
       "\t10 & 0.48\\\\\n",
       "\t11 & 1.48\\\\\n",
       "\\end{tabular}\n"
      ],
      "text/plain": [
       "   Notas\n",
       "1   4.87\n",
       "2   0.51\n",
       "3   1.81\n",
       "4   1.64\n",
       "5   0.91\n",
       "6   3.11\n",
       "7   0.45\n",
       "8   0.49\n",
       "9   4.56\n",
       "10  0.48\n",
       "11  1.48"
      ]
     },
     "execution_count": 213,
     "metadata": {},
     "output_type": "execute_result"
    },
    {
     "data": {
      "text/html": [
       "\"data.frame\""
      ],
      "text/latex": [
       "\"data.frame\""
      ],
      "text/markdown": [
       "\"data.frame\""
      ],
      "text/plain": [
       "[1] \"data.frame\""
      ]
     },
     "execution_count": 213,
     "metadata": {},
     "output_type": "execute_result"
    }
   ],
   "source": [
    "datos.df2[\"Notas\"]\n",
    "class(datos.df2[\"Notas\"])"
   ]
  },
  {
   "cell_type": "code",
   "execution_count": 212,
   "metadata": {
    "collapsed": false
   },
   "outputs": [
    {
     "data": {
      "text/html": [
       "<ol class=list-inline>\n",
       "\t<li>4.87</li>\n",
       "\t<li>0.51</li>\n",
       "\t<li>1.81</li>\n",
       "\t<li>1.64</li>\n",
       "\t<li>0.91</li>\n",
       "\t<li>3.11</li>\n",
       "\t<li>0.45</li>\n",
       "\t<li>0.49</li>\n",
       "\t<li>4.56</li>\n",
       "\t<li>0.48</li>\n",
       "\t<li>1.48</li>\n",
       "</ol>\n"
      ],
      "text/latex": [
       "\\begin{enumerate*}\n",
       "\\item 4.87\n",
       "\\item 0.51\n",
       "\\item 1.81\n",
       "\\item 1.64\n",
       "\\item 0.91\n",
       "\\item 3.11\n",
       "\\item 0.45\n",
       "\\item 0.49\n",
       "\\item 4.56\n",
       "\\item 0.48\n",
       "\\item 1.48\n",
       "\\end{enumerate*}\n"
      ],
      "text/markdown": [
       "1. 4.87\n",
       "2. 0.51\n",
       "3. 1.81\n",
       "4. 1.64\n",
       "5. 0.91\n",
       "6. 3.11\n",
       "7. 0.45\n",
       "8. 0.49\n",
       "9. 4.56\n",
       "10. 0.48\n",
       "11. 1.48\n",
       "\n",
       "\n"
      ],
      "text/plain": [
       " [1] 4.87 0.51 1.81 1.64 0.91 3.11 0.45 0.49 4.56 0.48 1.48"
      ]
     },
     "execution_count": 212,
     "metadata": {},
     "output_type": "execute_result"
    },
    {
     "data": {
      "text/html": [
       "\"numeric\""
      ],
      "text/latex": [
       "\"numeric\""
      ],
      "text/markdown": [
       "\"numeric\""
      ],
      "text/plain": [
       "[1] \"numeric\""
      ]
     },
     "execution_count": 212,
     "metadata": {},
     "output_type": "execute_result"
    }
   ],
   "source": [
    "datos.df2[[\"Notas\"]]\n",
    "class(datos.df2[[\"Notas\"]])"
   ]
  },
  {
   "cell_type": "code",
   "execution_count": 204,
   "metadata": {
    "collapsed": false
   },
   "outputs": [
    {
     "data": {
      "text/html": [
       "<table>\n",
       "<thead><tr><th></th><th scope=col>Materias</th><th scope=col>Estudinte</th></tr></thead>\n",
       "<tbody>\n",
       "\t<tr><th scope=row>1</th><td>micro</td><td>Andrea</td></tr>\n",
       "\t<tr><th scope=row>2</th><td>macro</td><td>Nicolas</td></tr>\n",
       "\t<tr><th scope=row>3</th><td>desarrollo</td><td>Nicolas</td></tr>\n",
       "\t<tr><th scope=row>4</th><td>NA</td><td>Esteban</td></tr>\n",
       "\t<tr><th scope=row>5</th><td>micro</td><td>Nicolas</td></tr>\n",
       "\t<tr><th scope=row>6</th><td>calculo</td><td>Laura</td></tr>\n",
       "\t<tr><th scope=row>7</th><td>dinamica</td><td>Laura</td></tr>\n",
       "\t<tr><th scope=row>8</th><td>historia</td><td>Laura</td></tr>\n",
       "\t<tr><th scope=row>9</th><td>desarrollo</td><td>Laura</td></tr>\n",
       "\t<tr><th scope=row>10</th><td>econometria</td><td>Nicolas</td></tr>\n",
       "\t<tr><th scope=row>11</th><td>NA</td><td>Laura</td></tr>\n",
       "</tbody>\n",
       "</table>\n"
      ],
      "text/latex": [
       "\\begin{tabular}{r|ll}\n",
       "  & Materias & Estudinte\\\\\n",
       "\\hline\n",
       "\t1 & micro & Andrea\\\\\n",
       "\t2 & macro & Nicolas\\\\\n",
       "\t3 & desarrollo & Nicolas\\\\\n",
       "\t4 & NA & Esteban\\\\\n",
       "\t5 & micro & Nicolas\\\\\n",
       "\t6 & calculo & Laura\\\\\n",
       "\t7 & dinamica & Laura\\\\\n",
       "\t8 & historia & Laura\\\\\n",
       "\t9 & desarrollo & Laura\\\\\n",
       "\t10 & econometria & Nicolas\\\\\n",
       "\t11 & NA & Laura\\\\\n",
       "\\end{tabular}\n"
      ],
      "text/plain": [
       "      Materias Estudinte\n",
       "1        micro    Andrea\n",
       "2        macro   Nicolas\n",
       "3   desarrollo   Nicolas\n",
       "4         <NA>   Esteban\n",
       "5        micro   Nicolas\n",
       "6      calculo     Laura\n",
       "7     dinamica     Laura\n",
       "8     historia     Laura\n",
       "9   desarrollo     Laura\n",
       "10 econometria   Nicolas\n",
       "11        <NA>     Laura"
      ]
     },
     "execution_count": 204,
     "metadata": {},
     "output_type": "execute_result"
    }
   ],
   "source": [
    "datos.df2[ , c('Materias', 'Estudinte')]"
   ]
  },
  {
   "cell_type": "markdown",
   "metadata": {},
   "source": [
    "### Listas"
   ]
  },
  {
   "cell_type": "code",
   "execution_count": 215,
   "metadata": {
    "collapsed": false
   },
   "outputs": [
    {
     "data": {
      "text/html": [
       "<ol>\n",
       "\t<li>1</li>\n",
       "\t<li>2</li>\n",
       "\t<li>3</li>\n",
       "</ol>\n"
      ],
      "text/latex": [
       "\\begin{enumerate}\n",
       "\\item 1\n",
       "\\item 2\n",
       "\\item 3\n",
       "\\end{enumerate}\n"
      ],
      "text/markdown": [
       "1. 1\n",
       "2. 2\n",
       "3. 3\n",
       "\n",
       "\n"
      ],
      "text/plain": [
       "[[1]]\n",
       "[1] 1\n",
       "\n",
       "[[2]]\n",
       "[1] 2\n",
       "\n",
       "[[3]]\n",
       "[1] 3\n"
      ]
     },
     "execution_count": 215,
     "metadata": {},
     "output_type": "execute_result"
    }
   ],
   "source": [
    "Lista1 <- list(1, 2, 3)\n",
    "Lista1"
   ]
  },
  {
   "cell_type": "code",
   "execution_count": 217,
   "metadata": {
    "collapsed": false
   },
   "outputs": [
    {
     "data": {
      "text/html": [
       "<ol>\n",
       "\t<li><ol class=list-inline>\n",
       "\t<li>1</li>\n",
       "\t<li>2</li>\n",
       "\t<li>3</li>\n",
       "</ol>\n",
       "</li>\n",
       "</ol>\n"
      ],
      "text/latex": [
       "\\begin{enumerate}\n",
       "\\item \\begin{enumerate*}\n",
       "\\item 1\n",
       "\\item 2\n",
       "\\item 3\n",
       "\\end{enumerate*}\n",
       "\n",
       "\\end{enumerate}\n"
      ],
      "text/markdown": [
       "1. 1. 1\n",
       "2. 2\n",
       "3. 3\n",
       "\n",
       "\n",
       "\n",
       "\n",
       "\n"
      ],
      "text/plain": [
       "[[1]]\n",
       "[1] 1 2 3\n"
      ]
     },
     "execution_count": 217,
     "metadata": {},
     "output_type": "execute_result"
    }
   ],
   "source": [
    "Lista2 <- list(c(1, 2, 3))\n",
    "Lista2"
   ]
  },
  {
   "cell_type": "code",
   "execution_count": 223,
   "metadata": {
    "collapsed": false
   },
   "outputs": [
    {
     "data": {
      "text/html": [
       "<ol>\n",
       "\t<li><ol class=list-inline>\n",
       "\t<li>1</li>\n",
       "\t<li>2</li>\n",
       "\t<li>3</li>\n",
       "</ol>\n",
       "</li>\n",
       "\t<li><ol class=list-inline>\n",
       "\t<li>1</li>\n",
       "\t<li>3</li>\n",
       "\t<li>5</li>\n",
       "\t<li>7</li>\n",
       "\t<li>9</li>\n",
       "\t<li>11</li>\n",
       "\t<li>13</li>\n",
       "\t<li>15</li>\n",
       "\t<li>17</li>\n",
       "\t<li>19</li>\n",
       "</ol>\n",
       "</li>\n",
       "</ol>\n"
      ],
      "text/latex": [
       "\\begin{enumerate}\n",
       "\\item \\begin{enumerate*}\n",
       "\\item 1\n",
       "\\item 2\n",
       "\\item 3\n",
       "\\end{enumerate*}\n",
       "\n",
       "\\item \\begin{enumerate*}\n",
       "\\item 1\n",
       "\\item 3\n",
       "\\item 5\n",
       "\\item 7\n",
       "\\item 9\n",
       "\\item 11\n",
       "\\item 13\n",
       "\\item 15\n",
       "\\item 17\n",
       "\\item 19\n",
       "\\end{enumerate*}\n",
       "\n",
       "\\end{enumerate}\n"
      ],
      "text/markdown": [
       "1. 1. 1\n",
       "2. 2\n",
       "3. 3\n",
       "\n",
       "\n",
       "\n",
       "2. 1. 1\n",
       "2. 3\n",
       "3. 5\n",
       "4. 7\n",
       "5. 9\n",
       "6. 11\n",
       "7. 13\n",
       "8. 15\n",
       "9. 17\n",
       "10. 19\n",
       "\n",
       "\n",
       "\n",
       "\n",
       "\n"
      ],
      "text/plain": [
       "[[1]]\n",
       "[1] 1 2 3\n",
       "\n",
       "[[2]]\n",
       " [1]  1  3  5  7  9 11 13 15 17 19\n"
      ]
     },
     "execution_count": 223,
     "metadata": {},
     "output_type": "execute_result"
    }
   ],
   "source": [
    "Lista3 <- list(c(1, 2, 3), seq(1, 20, 2))\n",
    "Lista3"
   ]
  },
  {
   "cell_type": "code",
   "execution_count": 235,
   "metadata": {
    "collapsed": false
   },
   "outputs": [
    {
     "name": "stdout",
     "output_type": "stream",
     "text": [
      "[[1]]\n",
      "         Materias Notas Estudiante\n",
      "id-1        micro  4.87     Andrea\n",
      "id-2        macro  0.51    Nicolas\n",
      "id-3   desarrollo  1.81    Nicolas\n",
      "id-4         <NA>  1.64    Esteban\n",
      "id-5        micro  0.91    Nicolas\n",
      "id-6      calculo  3.11      Laura\n",
      "id-7     dinamica  0.45      Laura\n",
      "id-8     historia  0.49      Laura\n",
      "id-9   desarrollo  4.56      Laura\n",
      "id-10 econometria  0.48    Nicolas\n",
      "id-11        <NA>  1.48      Laura\n",
      "\n",
      "[[2]]\n",
      "      Materias Notas Estudinte\n",
      "1        micro  4.87    Andrea\n",
      "2        macro  0.51   Nicolas\n",
      "3   desarrollo  1.81   Nicolas\n",
      "4         <NA>  1.64   Esteban\n",
      "5        micro  0.91   Nicolas\n",
      "6      calculo  3.11     Laura\n",
      "7     dinamica  0.45     Laura\n",
      "8     historia  0.49     Laura\n",
      "9   desarrollo  4.56     Laura\n",
      "10 econometria  0.48   Nicolas\n",
      "11        <NA>  1.48     Laura\n",
      "\n"
     ]
    }
   ],
   "source": [
    "Lista4 <- list(datos.df, datos.df2)\n",
    "print(Lista4)"
   ]
  },
  {
   "cell_type": "code",
   "execution_count": 234,
   "metadata": {
    "collapsed": false
   },
   "outputs": [
    {
     "name": "stdout",
     "output_type": "stream",
     "text": [
      "$Datos\n",
      "         Materias Notas Estudiante\n",
      "id-1        micro  4.87     Andrea\n",
      "id-2        macro  0.51    Nicolas\n",
      "id-3   desarrollo  1.81    Nicolas\n",
      "id-4         <NA>  1.64    Esteban\n",
      "id-5        micro  0.91    Nicolas\n",
      "id-6      calculo  3.11      Laura\n",
      "id-7     dinamica  0.45      Laura\n",
      "id-8     historia  0.49      Laura\n",
      "id-9   desarrollo  4.56      Laura\n",
      "id-10 econometria  0.48    Nicolas\n",
      "id-11        <NA>  1.48      Laura\n",
      "\n",
      "$Secuencias\n",
      "$Secuencias[[1]]\n",
      "[1] 1 2 3\n",
      "\n",
      "$Secuencias[[2]]\n",
      " [1]  1  3  5  7  9 11 13 15 17 19\n",
      "\n",
      "\n",
      "$Notas\n",
      " [1] 4.87 0.51 1.81 1.64 0.91 3.11 0.45 0.49 4.56 0.48 1.48\n",
      "\n"
     ]
    }
   ],
   "source": [
    "Lista5 <- list(datos.df, Lista3, x)\n",
    "names(Lista5) <- c('Datos', 'Secuencias', 'Notas')\n",
    "print(Lista5)"
   ]
  },
  {
   "cell_type": "code",
   "execution_count": 233,
   "metadata": {
    "collapsed": false
   },
   "outputs": [
    {
     "name": "stdout",
     "output_type": "stream",
     "text": [
      "$Datos\n",
      "         Materias Notas Estudiante\n",
      "id-1        micro  4.87     Andrea\n",
      "id-2        macro  0.51    Nicolas\n",
      "id-3   desarrollo  1.81    Nicolas\n",
      "id-4         <NA>  1.64    Esteban\n",
      "id-5        micro  0.91    Nicolas\n",
      "id-6      calculo  3.11      Laura\n",
      "id-7     dinamica  0.45      Laura\n",
      "id-8     historia  0.49      Laura\n",
      "id-9   desarrollo  4.56      Laura\n",
      "id-10 econometria  0.48    Nicolas\n",
      "id-11        <NA>  1.48      Laura\n",
      "\n",
      "$Secuencias\n",
      "$Secuencias[[1]]\n",
      "[1] 1 2 3\n",
      "\n",
      "$Secuencias[[2]]\n",
      " [1]  1  3  5  7  9 11 13 15 17 19\n",
      "\n",
      "\n",
      "$Notas\n",
      " [1] 4.87 0.51 1.81 1.64 0.91 3.11 0.45 0.49 4.56 0.48 1.48\n",
      "\n"
     ]
    }
   ],
   "source": [
    "Lista6 <- list(Datos=datos.df, Secuencias=Lista3, Notas=x)\n",
    "print(Lista6)"
   ]
  },
  {
   "cell_type": "code",
   "execution_count": 230,
   "metadata": {
    "collapsed": false
   },
   "outputs": [
    {
     "data": {
      "text/html": [
       "<ol>\n",
       "\t<li>NULL</li>\n",
       "\t<li>NULL</li>\n",
       "\t<li>NULL</li>\n",
       "</ol>\n"
      ],
      "text/latex": [
       "\\begin{enumerate}\n",
       "\\item NULL\n",
       "\\item NULL\n",
       "\\item NULL\n",
       "\\end{enumerate}\n"
      ],
      "text/markdown": [
       "1. NULL\n",
       "2. NULL\n",
       "3. NULL\n",
       "\n",
       "\n"
      ],
      "text/plain": [
       "[[1]]\n",
       "NULL\n",
       "\n",
       "[[2]]\n",
       "NULL\n",
       "\n",
       "[[3]]\n",
       "NULL\n"
      ]
     },
     "execution_count": 230,
     "metadata": {},
     "output_type": "execute_result"
    }
   ],
   "source": [
    "ListaVacia <- vector(mode='list', length=3)\n",
    "ListaVacia"
   ]
  },
  {
   "cell_type": "code",
   "execution_count": 232,
   "metadata": {
    "collapsed": false
   },
   "outputs": [
    {
     "name": "stdout",
     "output_type": "stream",
     "text": [
      "[[1]]\n",
      "         Materias Notas Estudiante\n",
      "id-1        micro  4.87     Andrea\n",
      "id-2        macro  0.51    Nicolas\n",
      "id-3   desarrollo  1.81    Nicolas\n",
      "id-4         <NA>  1.64    Esteban\n",
      "id-5        micro  0.91    Nicolas\n",
      "id-6      calculo  3.11      Laura\n",
      "id-7     dinamica  0.45      Laura\n",
      "id-8     historia  0.49      Laura\n",
      "id-9   desarrollo  4.56      Laura\n",
      "id-10 econometria  0.48    Nicolas\n",
      "id-11        <NA>  1.48      Laura\n",
      "\n",
      "[[2]]\n",
      "NULL\n",
      "\n",
      "[[3]]\n",
      "NULL\n",
      "\n"
     ]
    }
   ],
   "source": [
    "ListaVacia[[1]] <- datos.df\n",
    "print(ListaVacia)"
   ]
  },
  {
   "cell_type": "code",
   "execution_count": 237,
   "metadata": {
    "collapsed": false
   },
   "outputs": [
    {
     "data": {
      "text/html": [
       "<ol class=list-inline>\n",
       "\t<li>Andrea</li>\n",
       "\t<li>Nicolas</li>\n",
       "\t<li>Nicolas</li>\n",
       "\t<li>Esteban</li>\n",
       "\t<li>Nicolas</li>\n",
       "\t<li>Laura</li>\n",
       "\t<li>Laura</li>\n",
       "\t<li>Laura</li>\n",
       "\t<li>Laura</li>\n",
       "\t<li>Nicolas</li>\n",
       "\t<li>Laura</li>\n",
       "</ol>\n"
      ],
      "text/latex": [
       "\\begin{enumerate*}\n",
       "\\item Andrea\n",
       "\\item Nicolas\n",
       "\\item Nicolas\n",
       "\\item Esteban\n",
       "\\item Nicolas\n",
       "\\item Laura\n",
       "\\item Laura\n",
       "\\item Laura\n",
       "\\item Laura\n",
       "\\item Nicolas\n",
       "\\item Laura\n",
       "\\end{enumerate*}\n"
      ],
      "text/markdown": [
       "1. Andrea\n",
       "2. Nicolas\n",
       "3. Nicolas\n",
       "4. Esteban\n",
       "5. Nicolas\n",
       "6. Laura\n",
       "7. Laura\n",
       "8. Laura\n",
       "9. Laura\n",
       "10. Nicolas\n",
       "11. Laura\n",
       "\n",
       "\n"
      ],
      "text/plain": [
       " [1] Andrea  Nicolas Nicolas Esteban Nicolas Laura   Laura   Laura   Laura  \n",
       "[10] Nicolas Laura  \n",
       "Levels: Andrea Esteban Laura Nicolas"
      ]
     },
     "execution_count": 237,
     "metadata": {},
     "output_type": "execute_result"
    }
   ],
   "source": [
    "ListaVacia[[1]]$Estudiante"
   ]
  },
  {
   "cell_type": "markdown",
   "metadata": {},
   "source": [
    "### Matrices"
   ]
  },
  {
   "cell_type": "markdown",
   "metadata": {},
   "source": [
    "Cada Elemento debe se del mismo tipo"
   ]
  },
  {
   "cell_type": "code",
   "execution_count": 242,
   "metadata": {
    "collapsed": false,
    "scrolled": true
   },
   "outputs": [
    {
     "name": "stdout",
     "output_type": "stream",
     "text": [
      "     [,1] [,2] [,3] [,4]\n",
      "[1,]    1    6   11   16\n",
      "[2,]    2    7   12   17\n",
      "[3,]    3    8   13   18\n",
      "[4,]    4    9   14   19\n",
      "[5,]    5   10   15   20\n"
     ]
    }
   ],
   "source": [
    "M <- matrix(1:20, nrow=5)\n",
    "print(M)"
   ]
  },
  {
   "cell_type": "code",
   "execution_count": 243,
   "metadata": {
    "collapsed": false
   },
   "outputs": [
    {
     "data": {
      "text/html": [
       "5"
      ],
      "text/latex": [
       "5"
      ],
      "text/markdown": [
       "5"
      ],
      "text/plain": [
       "[1] 5"
      ]
     },
     "execution_count": 243,
     "metadata": {},
     "output_type": "execute_result"
    },
    {
     "data": {
      "text/html": [
       "4"
      ],
      "text/latex": [
       "4"
      ],
      "text/markdown": [
       "4"
      ],
      "text/plain": [
       "[1] 4"
      ]
     },
     "execution_count": 243,
     "metadata": {},
     "output_type": "execute_result"
    },
    {
     "data": {
      "text/html": [
       "<ol class=list-inline>\n",
       "\t<li>5</li>\n",
       "\t<li>4</li>\n",
       "</ol>\n"
      ],
      "text/latex": [
       "\\begin{enumerate*}\n",
       "\\item 5\n",
       "\\item 4\n",
       "\\end{enumerate*}\n"
      ],
      "text/markdown": [
       "1. 5\n",
       "2. 4\n",
       "\n",
       "\n"
      ],
      "text/plain": [
       "[1] 5 4"
      ]
     },
     "execution_count": 243,
     "metadata": {},
     "output_type": "execute_result"
    }
   ],
   "source": [
    "nrow(M)\n",
    "ncol(M)\n",
    "dim(M)"
   ]
  },
  {
   "cell_type": "code",
   "execution_count": 244,
   "metadata": {
    "collapsed": false
   },
   "outputs": [
    {
     "name": "stdout",
     "output_type": "stream",
     "text": [
      "            [,1]        [,2]       [,3]       [,4]\n",
      "[1,]  0.24170557  0.64216113 -0.2794472 -2.5798735\n",
      "[2,]  0.52387464  0.40524826  1.2026844  0.7691884\n",
      "[3,]  0.04801921  1.74727397  1.3728459  2.1923392\n",
      "[4,]  0.27746892 -0.07027668  0.2221622  1.1927714\n",
      "[5,] -0.81551314 -0.32461034 -0.2715377  0.7019765\n"
     ]
    }
   ],
   "source": [
    "K <- matrix(rnorm(20), ncol=4)\n",
    "print(K)"
   ]
  },
  {
   "cell_type": "code",
   "execution_count": 248,
   "metadata": {
    "collapsed": false
   },
   "outputs": [
    {
     "name": "stdout",
     "output_type": "stream",
     "text": [
      "         [,1]     [,2]     [,3]     [,4]\n",
      "[1,] 1.241706 6.642161 10.72055 13.42013\n",
      "[2,] 2.523875 7.405248 13.20268 17.76919\n",
      "[3,] 3.048019 9.747274 14.37285 20.19234\n",
      "[4,] 4.277469 8.929723 14.22216 20.19277\n",
      "[5,] 4.184487 9.675390 14.72846 20.70198\n"
     ]
    }
   ],
   "source": [
    "print(M + K)"
   ]
  },
  {
   "cell_type": "code",
   "execution_count": 249,
   "metadata": {
    "collapsed": false
   },
   "outputs": [
    {
     "name": "stdout",
     "output_type": "stream",
     "text": [
      "           [,1]       [,2]      [,3]      [,4]\n",
      "[1,]  0.2417056  3.8529668 -3.073919 -41.27798\n",
      "[2,]  1.0477493  2.8367378 14.432213  13.07620\n",
      "[3,]  0.1440576 13.9781917 17.846996  39.46211\n",
      "[4,]  1.1098757 -0.6324901  3.110271  22.66266\n",
      "[5,] -4.0775657 -3.2461034 -4.073066  14.03953\n"
     ]
    }
   ],
   "source": [
    "print(M*K)"
   ]
  },
  {
   "cell_type": "code",
   "execution_count": 252,
   "metadata": {
    "collapsed": false
   },
   "outputs": [
    {
     "data": {
      "text/html": [
       "5"
      ],
      "text/latex": [
       "5"
      ],
      "text/markdown": [
       "5"
      ],
      "text/plain": [
       "[1] 5"
      ]
     },
     "execution_count": 252,
     "metadata": {},
     "output_type": "execute_result"
    },
    {
     "data": {
      "text/html": [
       "4"
      ],
      "text/latex": [
       "4"
      ],
      "text/markdown": [
       "4"
      ],
      "text/plain": [
       "[1] 4"
      ]
     },
     "execution_count": 252,
     "metadata": {},
     "output_type": "execute_result"
    }
   ],
   "source": [
    "nrow(M)\n",
    "ncol(K)"
   ]
  },
  {
   "cell_type": "code",
   "execution_count": 257,
   "metadata": {
    "collapsed": false
   },
   "outputs": [
    {
     "name": "stdout",
     "output_type": "stream",
     "text": [
      "           [,1]      [,2]       [,3]        [,4]       [,5]\n",
      "[1,]  0.2417056 0.5238746 0.04801921  0.27746892 -0.8155131\n",
      "[2,]  0.6421611 0.4052483 1.74727397 -0.07027668 -0.3246103\n",
      "[3,] -0.2794472 1.2026844 1.37284586  0.22216219 -0.2715377\n",
      "[4,] -2.5798735 0.7691884 2.19233921  1.19277142  0.7019765\n"
     ]
    },
    {
     "data": {
      "text/html": [
       "5"
      ],
      "text/latex": [
       "5"
      ],
      "text/markdown": [
       "5"
      ],
      "text/plain": [
       "[1] 5"
      ]
     },
     "execution_count": 257,
     "metadata": {},
     "output_type": "execute_result"
    },
    {
     "data": {
      "text/html": [
       "TRUE"
      ],
      "text/latex": [
       "TRUE"
      ],
      "text/markdown": [
       "TRUE"
      ],
      "text/plain": [
       "[1] TRUE"
      ]
     },
     "execution_count": 257,
     "metadata": {},
     "output_type": "execute_result"
    }
   ],
   "source": [
    "print(t(K))\n",
    "ncol(t(K))\n",
    "nrow(M)==ncol(t(K))"
   ]
  },
  {
   "cell_type": "code",
   "execution_count": 251,
   "metadata": {
    "collapsed": false
   },
   "outputs": [
    {
     "name": "stdout",
     "output_type": "stream",
     "text": [
      "          [,1]     [,2]     [,3]     [,4]     [,5]\n",
      "[1,] -40.25722 28.49191 60.71039 21.38394 5.481533\n",
      "[2,] -42.23268 31.39290 66.07087 23.00606 4.771849\n",
      "[3,] -44.20813 34.29390 71.43135 24.62819 4.062164\n",
      "[4,] -46.18358 37.19489 76.79183 26.25031 3.352479\n",
      "[5,] -48.15904 40.09589 82.15231 27.87244 2.642794\n"
     ]
    }
   ],
   "source": [
    "print(M%*%t(K))"
   ]
  },
  {
   "cell_type": "code",
   "execution_count": 260,
   "metadata": {
    "collapsed": false
   },
   "outputs": [
    {
     "name": "stdout",
     "output_type": "stream",
     "text": [
      "  A  B  C  D\n",
      "a 1  6 11 16\n",
      "b 2  7 12 17\n",
      "c 3  8 13 18\n",
      "d 4  9 14 19\n",
      "e 5 10 15 20\n"
     ]
    }
   ],
   "source": [
    "colnames(M) <- LETTERS[1:4]\n",
    "rownames(M) <- letters[1:5]\n",
    "print(M)"
   ]
  },
  {
   "cell_type": "markdown",
   "metadata": {},
   "source": [
    "### Arrays"
   ]
  },
  {
   "cell_type": "markdown",
   "metadata": {
    "collapsed": true
   },
   "source": [
    "Número arbitrario de dimensiones"
   ]
  },
  {
   "cell_type": "code",
   "execution_count": 5,
   "metadata": {
    "collapsed": false
   },
   "outputs": [
    {
     "name": "stdout",
     "output_type": "stream",
     "text": [
      ", , 1\n",
      "\n",
      "     [,1] [,2] [,3] [,4]\n",
      "[1,]    1    3    5    7\n",
      "[2,]    2    4    6    8\n",
      "\n",
      ", , 2\n",
      "\n",
      "     [,1] [,2] [,3] [,4]\n",
      "[1,]    9   11   13   15\n",
      "[2,]   10   12   14   16\n",
      "\n",
      ", , 3\n",
      "\n",
      "     [,1] [,2] [,3] [,4]\n",
      "[1,]   17   19   21   23\n",
      "[2,]   18   20   22   24\n",
      "\n"
     ]
    }
   ],
   "source": [
    "array <- array(1:24 , dim=c(2, 4, 3))\n",
    "print(array)"
   ]
  },
  {
   "cell_type": "code",
   "execution_count": 7,
   "metadata": {
    "collapsed": false
   },
   "outputs": [
    {
     "name": "stdout",
     "output_type": "stream",
     "text": [
      "     [,1] [,2] [,3]\n",
      "[1,]    1    9   17\n",
      "[2,]    3   11   19\n",
      "[3,]    5   13   21\n",
      "[4,]    7   15   23\n"
     ]
    }
   ],
   "source": [
    "print(array[1, , ])"
   ]
  },
  {
   "cell_type": "code",
   "execution_count": 8,
   "metadata": {
    "collapsed": false
   },
   "outputs": [
    {
     "name": "stdout",
     "output_type": "stream",
     "text": [
      "[1] 1 2\n"
     ]
    }
   ],
   "source": [
    "print(array[, 1, 1])"
   ]
  },
  {
   "cell_type": "markdown",
   "metadata": {},
   "source": [
    "### 2. Entrada de datos"
   ]
  },
  {
   "cell_type": "markdown",
   "metadata": {
    "collapsed": true
   },
   "source": [
    "### Leer CSV"
   ]
  },
  {
   "cell_type": "code",
   "execution_count": 10,
   "metadata": {
    "collapsed": false
   },
   "outputs": [
    {
     "data": {
      "text/html": [
       "\"C:/Users/acer/GITHUB\""
      ],
      "text/latex": [
       "\"C:/Users/acer/GITHUB\""
      ],
      "text/markdown": [
       "\"C:/Users/acer/GITHUB\""
      ],
      "text/plain": [
       "[1] \"C:/Users/acer/GITHUB\""
      ]
     },
     "execution_count": 10,
     "metadata": {},
     "output_type": "execute_result"
    }
   ],
   "source": [
    "getwd()"
   ]
  },
  {
   "cell_type": "code",
   "execution_count": 34,
   "metadata": {
    "collapsed": false
   },
   "outputs": [],
   "source": [
    "IACT <- read.table('IACT.csv', \n",
    "                   sep=';', \n",
    "                   skip= 4, \n",
    "                   header=T, \n",
    "                   nrow= 7)"
   ]
  },
  {
   "cell_type": "code",
   "execution_count": 35,
   "metadata": {
    "collapsed": false
   },
   "outputs": [
    {
     "data": {
      "text/html": [
       "<table>\n",
       "<thead><tr><th></th><th scope=col>País</th><th scope=col>X1995</th><th scope=col>X1996</th><th scope=col>X1997</th><th scope=col>X1998</th><th scope=col>X1999</th><th scope=col>X2000</th><th scope=col>X2001</th><th scope=col>X2002</th><th scope=col>X2003</th><th scope=col>X2004</th><th scope=col>X2005</th><th scope=col>X2006</th><th scope=col>X2007</th><th scope=col>X2008</th><th scope=col>X2009</th><th scope=col>X2010</th><th scope=col>X2011</th></tr></thead>\n",
       "<tbody>\n",
       "\t<tr><th scope=row>1</th><td>Argentina</td><td>0,49%</td><td>0,50%</td><td>0,50%</td><td>0,50%</td><td>0,52%</td><td>0,50%</td><td>0,48%</td><td>0,44%</td><td>0,46%</td><td>0,49%</td><td>0,53%</td><td>0,58%</td><td>0,61%</td><td>0,61%</td><td>0,67%</td><td>0,70%</td><td>0,73%</td></tr>\n",
       "\t<tr><th scope=row>2</th><td>Brasil</td><td>n.d.</td><td>n.d.</td><td>n.d.</td><td>n.d.</td><td>n.d.</td><td>1,30%</td><td>1,33%</td><td>1,30%</td><td>1,26%</td><td>1,24%</td><td>1,27%</td><td>1,29%</td><td>1,40%</td><td>1,45%</td><td>1,57%</td><td>1,62%</td><td>1,64%</td></tr>\n",
       "\t<tr><th scope=row>3</th><td>Colombia</td><td>0,55%</td><td>0,56%</td><td>0,53%</td><td>0,32%</td><td>n.d.</td><td>0,31%</td><td>0,28%</td><td>0,31%</td><td>0,35%</td><td>0,40%</td><td>0,42%</td><td>0,38%</td><td>0,44%</td><td>0,47%</td><td>0,44%</td><td>0,46%</td><td>0,47%</td></tr>\n",
       "\t<tr><th scope=row>4</th><td>Cuba</td><td>0,87%</td><td>0,78%</td><td>0,82%</td><td>0,93%</td><td>1,01%</td><td>0,89%</td><td>0,98%</td><td>0,88%</td><td>0,94%</td><td>0,93%</td><td>0,84%</td><td>0,69%</td><td>0,72%</td><td>0,83%</td><td>1,02%</td><td>1,01%</td><td>0,45%</td></tr>\n",
       "\t<tr><th scope=row>5</th><td>México</td><td>0,35%</td><td>0,35%</td><td>0,42%</td><td>0,46%</td><td>0,41%</td><td>0,42%</td><td>0,41%</td><td>0,39%</td><td>0,39%</td><td>0,33%</td><td>0,34%</td><td>0,32%</td><td>0,32%</td><td>0,36%</td><td>0,39%</td><td>0,42%</td><td>0,41%</td></tr>\n",
       "\t<tr><th scope=row>6</th><td>Venezuela</td><td>0,61%</td><td>0,45%</td><td>0,43%</td><td>0,39%</td><td>0,39%</td><td>0,38%</td><td>0,50%</td><td>0,43%</td><td>0,31%</td><td>0,25%</td><td>0,35%</td><td>1,78%</td><td>2,69%</td><td>2,54%</td><td>2,36%</td><td>n.d.</td><td>n.d.</td></tr>\n",
       "</tbody>\n",
       "</table>\n"
      ],
      "text/latex": [
       "\\begin{tabular}{r|llllllllllllllllll}\n",
       "  & País & X1995 & X1996 & X1997 & X1998 & X1999 & X2000 & X2001 & X2002 & X2003 & X2004 & X2005 & X2006 & X2007 & X2008 & X2009 & X2010 & X2011\\\\\n",
       "\\hline\n",
       "\t1 & Argentina & 0,49% & 0,50% & 0,50% & 0,50% & 0,52% & 0,50% & 0,48% & 0,44% & 0,46% & 0,49% & 0,53% & 0,58% & 0,61% & 0,61% & 0,67% & 0,70% & 0,73%\\\\\n",
       "\t2 & Brasil & n.d. & n.d. & n.d. & n.d. & n.d. & 1,30% & 1,33% & 1,30% & 1,26% & 1,24% & 1,27% & 1,29% & 1,40% & 1,45% & 1,57% & 1,62% & 1,64%\\\\\n",
       "\t3 & Colombia & 0,55% & 0,56% & 0,53% & 0,32% & n.d. & 0,31% & 0,28% & 0,31% & 0,35% & 0,40% & 0,42% & 0,38% & 0,44% & 0,47% & 0,44% & 0,46% & 0,47%\\\\\n",
       "\t4 & Cuba & 0,87% & 0,78% & 0,82% & 0,93% & 1,01% & 0,89% & 0,98% & 0,88% & 0,94% & 0,93% & 0,84% & 0,69% & 0,72% & 0,83% & 1,02% & 1,01% & 0,45%\\\\\n",
       "\t5 & México & 0,35% & 0,35% & 0,42% & 0,46% & 0,41% & 0,42% & 0,41% & 0,39% & 0,39% & 0,33% & 0,34% & 0,32% & 0,32% & 0,36% & 0,39% & 0,42% & 0,41%\\\\\n",
       "\t6 & Venezuela & 0,61% & 0,45% & 0,43% & 0,39% & 0,39% & 0,38% & 0,50% & 0,43% & 0,31% & 0,25% & 0,35% & 1,78% & 2,69% & 2,54% & 2,36% & n.d. & n.d.\\\\\n",
       "\\end{tabular}\n"
      ],
      "text/plain": [
       "       País X1995 X1996 X1997 X1998 X1999 X2000 X2001 X2002 X2003 X2004 X2005\n",
       "1 Argentina 0,49% 0,50% 0,50% 0,50% 0,52% 0,50% 0,48% 0,44% 0,46% 0,49% 0,53%\n",
       "2    Brasil  n.d.  n.d.  n.d.  n.d.  n.d. 1,30% 1,33% 1,30% 1,26% 1,24% 1,27%\n",
       "3  Colombia 0,55% 0,56% 0,53% 0,32%  n.d. 0,31% 0,28% 0,31% 0,35% 0,40% 0,42%\n",
       "4      Cuba 0,87% 0,78% 0,82% 0,93% 1,01% 0,89% 0,98% 0,88% 0,94% 0,93% 0,84%\n",
       "5    México 0,35% 0,35% 0,42% 0,46% 0,41% 0,42% 0,41% 0,39% 0,39% 0,33% 0,34%\n",
       "6 Venezuela 0,61% 0,45% 0,43% 0,39% 0,39% 0,38% 0,50% 0,43% 0,31% 0,25% 0,35%\n",
       "  X2006 X2007 X2008 X2009 X2010 X2011\n",
       "1 0,58% 0,61% 0,61% 0,67% 0,70% 0,73%\n",
       "2 1,29% 1,40% 1,45% 1,57% 1,62% 1,64%\n",
       "3 0,38% 0,44% 0,47% 0,44% 0,46% 0,47%\n",
       "4 0,69% 0,72% 0,83% 1,02% 1,01% 0,45%\n",
       "5 0,32% 0,32% 0,36% 0,39% 0,42% 0,41%\n",
       "6 1,78% 2,69% 2,54% 2,36%  n.d.  n.d."
      ]
     },
     "execution_count": 35,
     "metadata": {},
     "output_type": "execute_result"
    }
   ],
   "source": [
    "head(IACT)"
   ]
  },
  {
   "cell_type": "code",
   "execution_count": 50,
   "metadata": {
    "collapsed": false
   },
   "outputs": [],
   "source": [
    "IACT <- read.table('IACT.csv', sep=';', skip= 4, header=T, nrow= 7, stringsAsFactors=T,\n",
    "                   na.strings=c('n.d.', 'NA'))\n"
   ]
  },
  {
   "cell_type": "code",
   "execution_count": 51,
   "metadata": {
    "collapsed": false
   },
   "outputs": [
    {
     "data": {
      "text/html": [
       "<table>\n",
       "<thead><tr><th></th><th scope=col>País</th><th scope=col>X1995</th><th scope=col>X1996</th><th scope=col>X1997</th><th scope=col>X1998</th><th scope=col>X1999</th><th scope=col>X2000</th><th scope=col>X2001</th><th scope=col>X2002</th><th scope=col>X2003</th><th scope=col>X2004</th><th scope=col>X2005</th><th scope=col>X2006</th><th scope=col>X2007</th><th scope=col>X2008</th><th scope=col>X2009</th><th scope=col>X2010</th><th scope=col>X2011</th></tr></thead>\n",
       "<tbody>\n",
       "\t<tr><th scope=row>1</th><td>Argentina</td><td>0,49%</td><td>0,50%</td><td>0,50%</td><td>0,50%</td><td>0,52%</td><td>0,50%</td><td>0,48%</td><td>0,44%</td><td>0,46%</td><td>0,49%</td><td>0,53%</td><td>0,58%</td><td>0,61%</td><td>0,61%</td><td>0,67%</td><td>0,70%</td><td>0,73%</td></tr>\n",
       "\t<tr><th scope=row>2</th><td>Brasil</td><td>NA</td><td>NA</td><td>NA</td><td>NA</td><td>NA</td><td>1,30%</td><td>1,33%</td><td>1,30%</td><td>1,26%</td><td>1,24%</td><td>1,27%</td><td>1,29%</td><td>1,40%</td><td>1,45%</td><td>1,57%</td><td>1,62%</td><td>1,64%</td></tr>\n",
       "\t<tr><th scope=row>3</th><td>Colombia</td><td>0,55%</td><td>0,56%</td><td>0,53%</td><td>0,32%</td><td>NA</td><td>0,31%</td><td>0,28%</td><td>0,31%</td><td>0,35%</td><td>0,40%</td><td>0,42%</td><td>0,38%</td><td>0,44%</td><td>0,47%</td><td>0,44%</td><td>0,46%</td><td>0,47%</td></tr>\n",
       "\t<tr><th scope=row>4</th><td>Cuba</td><td>0,87%</td><td>0,78%</td><td>0,82%</td><td>0,93%</td><td>1,01%</td><td>0,89%</td><td>0,98%</td><td>0,88%</td><td>0,94%</td><td>0,93%</td><td>0,84%</td><td>0,69%</td><td>0,72%</td><td>0,83%</td><td>1,02%</td><td>1,01%</td><td>0,45%</td></tr>\n",
       "\t<tr><th scope=row>5</th><td>México</td><td>0,35%</td><td>0,35%</td><td>0,42%</td><td>0,46%</td><td>0,41%</td><td>0,42%</td><td>0,41%</td><td>0,39%</td><td>0,39%</td><td>0,33%</td><td>0,34%</td><td>0,32%</td><td>0,32%</td><td>0,36%</td><td>0,39%</td><td>0,42%</td><td>0,41%</td></tr>\n",
       "\t<tr><th scope=row>6</th><td>Venezuela</td><td>0,61%</td><td>0,45%</td><td>0,43%</td><td>0,39%</td><td>0,39%</td><td>0,38%</td><td>0,50%</td><td>0,43%</td><td>0,31%</td><td>0,25%</td><td>0,35%</td><td>1,78%</td><td>2,69%</td><td>2,54%</td><td>2,36%</td><td>NA</td><td>NA</td></tr>\n",
       "</tbody>\n",
       "</table>\n"
      ],
      "text/latex": [
       "\\begin{tabular}{r|llllllllllllllllll}\n",
       "  & País & X1995 & X1996 & X1997 & X1998 & X1999 & X2000 & X2001 & X2002 & X2003 & X2004 & X2005 & X2006 & X2007 & X2008 & X2009 & X2010 & X2011\\\\\n",
       "\\hline\n",
       "\t1 & Argentina & 0,49% & 0,50% & 0,50% & 0,50% & 0,52% & 0,50% & 0,48% & 0,44% & 0,46% & 0,49% & 0,53% & 0,58% & 0,61% & 0,61% & 0,67% & 0,70% & 0,73%\\\\\n",
       "\t2 & Brasil & NA & NA & NA & NA & NA & 1,30% & 1,33% & 1,30% & 1,26% & 1,24% & 1,27% & 1,29% & 1,40% & 1,45% & 1,57% & 1,62% & 1,64%\\\\\n",
       "\t3 & Colombia & 0,55% & 0,56% & 0,53% & 0,32% & NA & 0,31% & 0,28% & 0,31% & 0,35% & 0,40% & 0,42% & 0,38% & 0,44% & 0,47% & 0,44% & 0,46% & 0,47%\\\\\n",
       "\t4 & Cuba & 0,87% & 0,78% & 0,82% & 0,93% & 1,01% & 0,89% & 0,98% & 0,88% & 0,94% & 0,93% & 0,84% & 0,69% & 0,72% & 0,83% & 1,02% & 1,01% & 0,45%\\\\\n",
       "\t5 & México & 0,35% & 0,35% & 0,42% & 0,46% & 0,41% & 0,42% & 0,41% & 0,39% & 0,39% & 0,33% & 0,34% & 0,32% & 0,32% & 0,36% & 0,39% & 0,42% & 0,41%\\\\\n",
       "\t6 & Venezuela & 0,61% & 0,45% & 0,43% & 0,39% & 0,39% & 0,38% & 0,50% & 0,43% & 0,31% & 0,25% & 0,35% & 1,78% & 2,69% & 2,54% & 2,36% & NA & NA\\\\\n",
       "\\end{tabular}\n"
      ],
      "text/plain": [
       "       País X1995 X1996 X1997 X1998 X1999 X2000 X2001 X2002 X2003 X2004 X2005\n",
       "1 Argentina 0,49% 0,50% 0,50% 0,50% 0,52% 0,50% 0,48% 0,44% 0,46% 0,49% 0,53%\n",
       "2    Brasil  <NA>  <NA>  <NA>  <NA>  <NA> 1,30% 1,33% 1,30% 1,26% 1,24% 1,27%\n",
       "3  Colombia 0,55% 0,56% 0,53% 0,32%  <NA> 0,31% 0,28% 0,31% 0,35% 0,40% 0,42%\n",
       "4      Cuba 0,87% 0,78% 0,82% 0,93% 1,01% 0,89% 0,98% 0,88% 0,94% 0,93% 0,84%\n",
       "5    México 0,35% 0,35% 0,42% 0,46% 0,41% 0,42% 0,41% 0,39% 0,39% 0,33% 0,34%\n",
       "6 Venezuela 0,61% 0,45% 0,43% 0,39% 0,39% 0,38% 0,50% 0,43% 0,31% 0,25% 0,35%\n",
       "  X2006 X2007 X2008 X2009 X2010 X2011\n",
       "1 0,58% 0,61% 0,61% 0,67% 0,70% 0,73%\n",
       "2 1,29% 1,40% 1,45% 1,57% 1,62% 1,64%\n",
       "3 0,38% 0,44% 0,47% 0,44% 0,46% 0,47%\n",
       "4 0,69% 0,72% 0,83% 1,02% 1,01% 0,45%\n",
       "5 0,32% 0,32% 0,36% 0,39% 0,42% 0,41%\n",
       "6 1,78% 2,69% 2,54% 2,36%  <NA>  <NA>"
      ]
     },
     "execution_count": 51,
     "metadata": {},
     "output_type": "execute_result"
    }
   ],
   "source": [
    "head(IACT)"
   ]
  },
  {
   "cell_type": "code",
   "execution_count": 52,
   "metadata": {
    "collapsed": false
   },
   "outputs": [
    {
     "data": {
      "text/plain": [
       "                         País     X1995     X1996     X1997     X1998  \n",
       " América Latina y el Caribe:1   0,35%:1   0,35%:1   0,42%:1   0,32%:1  \n",
       " Argentina                 :1   0,49%:1   0,45%:1   0,43%:1   0,39%:1  \n",
       " Brasil                    :1   0,55%:1   0,50%:1   0,50%:1   0,46%:1  \n",
       " Colombia                  :1   0,61%:1   0,56%:1   0,53%:1   0,50%:1  \n",
       " Cuba                      :1   0,87%:1   0,78%:1   0,78%:1   0,93%:1  \n",
       " México                    :1   0,93%:1   0,93%:1   0,82%:1   0,97%:1  \n",
       " Venezuela                 :1   NA's :1   NA's :1   NA's :1   NA's :1  \n",
       "   X1999     X2000     X2001     X2002     X2003     X2004     X2005  \n",
       " 0,39%:1   0,31%:1   0,28%:1   0,31%:1   0,31%:1   0,25%:1   0,34%:1  \n",
       " 0,41%:1   0,38%:1   0,41%:1   0,39%:1   0,35%:1   0,33%:1   0,35%:1  \n",
       " 0,52%:1   0,42%:1   0,48%:1   0,43%:1   0,39%:1   0,40%:1   0,42%:1  \n",
       " 0,74%:1   0,50%:1   0,50%:1   0,44%:1   0,46%:1   0,49%:1   0,53%:1  \n",
       " 1,01%:1   0,73%:1   0,71%:1   0,70%:1   0,68%:1   0,67%:1   0,72%:1  \n",
       " NA's :2   0,89%:1   0,98%:1   0,88%:1   0,94%:1   0,93%:1   0,84%:1  \n",
       "           1,30%:1   1,33%:1   1,30%:1   1,26%:1   1,24%:1   1,27%:1  \n",
       "   X2006     X2007     X2008     X2009     X2010     X2011  \n",
       " 0,32%:1   0,32%:1   0,36%:1   0,39%:1   0,42%:1   0,41%:1  \n",
       " 0,38%:1   0,44%:1   0,47%:1   0,44%:1   0,46%:1   0,45%:1  \n",
       " 0,58%:1   0,61%:1   0,61%:1   0,67%:1   0,70%:1   0,47%:1  \n",
       " 0,69%:1   0,72%:1   0,83%:1   1,02%:1   1,01%:1   0,73%:1  \n",
       " 0,81%:1   0,94%:1   1,01%:1   1,11%:1   1,11%:1   1,09%:1  \n",
       " 1,29%:1   1,40%:1   1,45%:1   1,57%:1   1,62%:1   1,64%:1  \n",
       " 1,78%:1   2,69%:1   2,54%:1   2,36%:1   NA's :1   NA's :1  "
      ]
     },
     "execution_count": 52,
     "metadata": {},
     "output_type": "execute_result"
    }
   ],
   "source": [
    "summary(IACT)"
   ]
  },
  {
   "cell_type": "code",
   "execution_count": null,
   "metadata": {
    "collapsed": true
   },
   "outputs": [],
   "source": [
    "Discusión de stringAsfactors"
   ]
  },
  {
   "cell_type": "markdown",
   "metadata": {},
   "source": [
    "Discusión entre read.table y read.csv"
   ]
  },
  {
   "cell_type": "code",
   "execution_count": null,
   "metadata": {
    "collapsed": true
   },
   "outputs": [],
   "source": [
    "Discusión entre read.csv2 y read.csv"
   ]
  },
  {
   "cell_type": "code",
   "execution_count": null,
   "metadata": {
    "collapsed": true
   },
   "outputs": [],
   "source": [
    "Paquetes para leer excel"
   ]
  },
  {
   "cell_type": "code",
   "execution_count": null,
   "metadata": {
    "collapsed": true
   },
   "outputs": [],
   "source": [
    "Conexiones ODBC"
   ]
  },
  {
   "cell_type": "code",
   "execution_count": null,
   "metadata": {
    "collapsed": true
   },
   "outputs": [],
   "source": [
    "Tratameinbto de bases de datos"
   ]
  },
  {
   "cell_type": "raw",
   "metadata": {},
   "source": [
    "Otros formatos"
   ]
  },
  {
   "cell_type": "code",
   "execution_count": null,
   "metadata": {
    "collapsed": true
   },
   "outputs": [],
   "source": [
    "rio\n",
    "\n",
    "Infiere la estructura de datos de nuestros archivos"
   ]
  },
  {
   "cell_type": "code",
   "execution_count": 18,
   "metadata": {
    "collapsed": false
   },
   "outputs": [
    {
     "name": "stderr",
     "output_type": "stream",
     "text": [
      "Warning message:\n",
      ": package 'rio' was built under R version 3.2.3"
     ]
    }
   ],
   "source": [
    "library(rio)"
   ]
  },
  {
   "cell_type": "code",
   "execution_count": 54,
   "metadata": {
    "collapsed": false
   },
   "outputs": [
    {
     "ename": "ERROR",
     "evalue": "Error in fread(input = file, sep = sep, sep2 = \"auto\", header = header, : \n",
     "output_type": "error",
     "traceback": [
      "Error in fread(input = file, sep = sep, sep2 = \"auto\", header = header, : \n"
     ]
    }
   ],
   "source": [
    "rio <- import()"
   ]
  },
  {
   "cell_type": "code",
   "execution_count": null,
   "metadata": {
    "collapsed": false
   },
   "outputs": [],
   "source": [
    "Scraping sobre wed fundamentos"
   ]
  },
  {
   "cell_type": "markdown",
   "metadata": {},
   "source": [
    "### Ejemplo: Indicadores de desarrollo"
   ]
  },
  {
   "cell_type": "code",
   "execution_count": 61,
   "metadata": {
    "collapsed": false
   },
   "outputs": [],
   "source": [
    "#download.file(\"http://databank.worldbank.org/data/download/WDI_csv.zip\", \"WDI_csv.zip\")\n",
    "#unzip(\"WDI_csv.zip\")"
   ]
  },
  {
   "cell_type": "code",
   "execution_count": 62,
   "metadata": {
    "collapsed": false
   },
   "outputs": [
    {
     "data": {
      "text/html": [
       "<table>\n",
       "<thead><tr><th></th><th scope=col>Country.Name</th><th scope=col>Country.Code</th><th scope=col>Indicator.Name</th><th scope=col>Indicator.Code</th><th scope=col>X1960</th><th scope=col>X1961</th><th scope=col>X1962</th><th scope=col>X1963</th><th scope=col>X1964</th><th scope=col>X1965</th><th scope=col>ellip.h</th><th scope=col>X2006</th><th scope=col>X2007</th><th scope=col>X2008</th><th scope=col>X2009</th><th scope=col>X2010</th><th scope=col>X2011</th><th scope=col>X2012</th><th scope=col>X2013</th><th scope=col>X2014</th><th scope=col>X2015</th></tr></thead>\n",
       "<tbody>\n",
       "\t<tr><th scope=row>1</th><td>Afghanistan</td><td>AFG</td><td>2005 PPP conversion factor, GDP (LCU per international $)</td><td>PA.NUS.PPP.05</td><td>NA</td><td>NA</td><td>NA</td><td>NA</td><td>NA</td><td>NA</td><td><e2><8b><af></td><td>NA</td><td>NA</td><td>NA</td><td>NA</td><td>NA</td><td>NA</td><td>NA</td><td>NA</td><td>NA</td><td>NA</td></tr>\n",
       "\t<tr><th scope=row>2</th><td>Afghanistan</td><td>AFG</td><td>2005 PPP conversion factor, private consumption (LCU per international $)</td><td>PA.NUS.PRVT.PP.05</td><td>NA</td><td>NA</td><td>NA</td><td>NA</td><td>NA</td><td>NA</td><td><e2><8b><af></td><td>NA</td><td>NA</td><td>NA</td><td>NA</td><td>NA</td><td>NA</td><td>NA</td><td>NA</td><td>NA</td><td>NA</td></tr>\n",
       "\t<tr><th scope=row>3</th><td>Afghanistan</td><td>AFG</td><td>Access to electricity (% of population)</td><td>EG.ELC.ACCS.ZS</td><td>NA</td><td>NA</td><td>NA</td><td>NA</td><td>NA</td><td>NA</td><td><e2><8b><af></td><td>NA</td><td>NA</td><td>NA</td><td>NA</td><td>41</td><td>NA</td><td>43</td><td>NA</td><td>NA</td><td>NA</td></tr>\n",
       "\t<tr><th scope=row>4</th><td>Afghanistan</td><td>AFG</td><td>Access to electricity, rural (% of rural population)</td><td>EG.ELC.ACCS.RU.ZS</td><td>NA</td><td>NA</td><td>NA</td><td>NA</td><td>NA</td><td>NA</td><td><e2><8b><af></td><td>NA</td><td>NA</td><td>NA</td><td>NA</td><td>29</td><td>NA</td><td>32</td><td>NA</td><td>NA</td><td>NA</td></tr>\n",
       "\t<tr><th scope=row>5</th><td>Afghanistan</td><td>AFG</td><td>Access to electricity, urban (% of urban population)</td><td>EG.ELC.ACCS.UR.ZS</td><td>NA</td><td>NA</td><td>NA</td><td>NA</td><td>NA</td><td>NA</td><td><e2><8b><af></td><td>NA</td><td>NA</td><td>NA</td><td>NA</td><td>80.63733</td><td>NA</td><td>83</td><td>NA</td><td>NA</td><td>NA</td></tr>\n",
       "\t<tr><th scope=row>6</th><td>Afghanistan</td><td>AFG</td><td>Access to non-solid fuel (% of population)</td><td>EG.NSF.ACCS.ZS</td><td>NA</td><td>NA</td><td>NA</td><td>NA</td><td>NA</td><td>NA</td><td><e2><8b><af></td><td>NA</td><td>NA</td><td>NA</td><td>NA</td><td>18.61123</td><td>NA</td><td>19.48096</td><td>NA</td><td>NA</td><td>NA</td></tr>\n",
       "</tbody>\n",
       "</table>\n"
      ],
      "text/latex": [
       "\\begin{tabular}{r|llllllllllllllllllllllllllllllllllllllllllllllllllllllllllll}\n",
       "  & Country.Name & Country.Code & Indicator.Name & Indicator.Code & X1960 & X1961 & X1962 & X1963 & X1964 & X1965 & ellip.h & X2006 & X2007 & X2008 & X2009 & X2010 & X2011 & X2012 & X2013 & X2014 & X2015\\\\\n",
       "\\hline\n",
       "\t1 & Afghanistan & AFG & 2005 PPP conversion factor, GDP (LCU per international $) & PA.NUS.PPP.05 & NA & NA & NA & NA & NA & NA & <e2><8b><af> & NA & NA & NA & NA & NA & NA & NA & NA & NA & NA\\\\\n",
       "\t2 & Afghanistan & AFG & 2005 PPP conversion factor, private consumption (LCU per international $) & PA.NUS.PRVT.PP.05 & NA & NA & NA & NA & NA & NA & <e2><8b><af> & NA & NA & NA & NA & NA & NA & NA & NA & NA & NA\\\\\n",
       "\t3 & Afghanistan & AFG & Access to electricity (% of population) & EG.ELC.ACCS.ZS & NA & NA & NA & NA & NA & NA & <e2><8b><af> & NA & NA & NA & NA & 41 & NA & 43 & NA & NA & NA\\\\\n",
       "\t4 & Afghanistan & AFG & Access to electricity, rural (% of rural population) & EG.ELC.ACCS.RU.ZS & NA & NA & NA & NA & NA & NA & <e2><8b><af> & NA & NA & NA & NA & 29 & NA & 32 & NA & NA & NA\\\\\n",
       "\t5 & Afghanistan & AFG & Access to electricity, urban (% of urban population) & EG.ELC.ACCS.UR.ZS & NA & NA & NA & NA & NA & NA & <e2><8b><af> & NA & NA & NA & NA & 80.63733 & NA & 83 & NA & NA & NA\\\\\n",
       "\t6 & Afghanistan & AFG & Access to non-solid fuel (% of population) & EG.NSF.ACCS.ZS & NA & NA & NA & NA & NA & NA & <e2><8b><af> & NA & NA & NA & NA & 18.61123 & NA & 19.48096 & NA & NA & NA\\\\\n",
       "\\end{tabular}\n"
      ],
      "text/plain": [
       "  Country.Name Country.Code\n",
       "1  Afghanistan          AFG\n",
       "2  Afghanistan          AFG\n",
       "3  Afghanistan          AFG\n",
       "4  Afghanistan          AFG\n",
       "5  Afghanistan          AFG\n",
       "6  Afghanistan          AFG\n",
       "                                                             Indicator.Name\n",
       "1                 2005 PPP conversion factor, GDP (LCU per international $)\n",
       "2 2005 PPP conversion factor, private consumption (LCU per international $)\n",
       "3                                   Access to electricity (% of population)\n",
       "4                      Access to electricity, rural (% of rural population)\n",
       "5                      Access to electricity, urban (% of urban population)\n",
       "6                                Access to non-solid fuel (% of population)\n",
       "     Indicator.Code X1960 X1961 X1962 X1963 X1964 X1965 X1966 X1967 X1968 X1969\n",
       "1     PA.NUS.PPP.05    NA    NA    NA    NA    NA    NA    NA    NA    NA    NA\n",
       "2 PA.NUS.PRVT.PP.05    NA    NA    NA    NA    NA    NA    NA    NA    NA    NA\n",
       "3    EG.ELC.ACCS.ZS    NA    NA    NA    NA    NA    NA    NA    NA    NA    NA\n",
       "4 EG.ELC.ACCS.RU.ZS    NA    NA    NA    NA    NA    NA    NA    NA    NA    NA\n",
       "5 EG.ELC.ACCS.UR.ZS    NA    NA    NA    NA    NA    NA    NA    NA    NA    NA\n",
       "6    EG.NSF.ACCS.ZS    NA    NA    NA    NA    NA    NA    NA    NA    NA    NA\n",
       "  X1970 X1971 X1972 X1973 X1974 X1975 X1976 X1977 X1978 X1979 X1980 X1981 X1982\n",
       "1    NA    NA    NA    NA    NA    NA    NA    NA    NA    NA    NA    NA    NA\n",
       "2    NA    NA    NA    NA    NA    NA    NA    NA    NA    NA    NA    NA    NA\n",
       "3    NA    NA    NA    NA    NA    NA    NA    NA    NA    NA    NA    NA    NA\n",
       "4    NA    NA    NA    NA    NA    NA    NA    NA    NA    NA    NA    NA    NA\n",
       "5    NA    NA    NA    NA    NA    NA    NA    NA    NA    NA    NA    NA    NA\n",
       "6    NA    NA    NA    NA    NA    NA    NA    NA    NA    NA    NA    NA    NA\n",
       "  X1983 X1984 X1985 X1986 X1987 X1988 X1989     X1990 X1991 X1992 X1993 X1994\n",
       "1    NA    NA    NA    NA    NA    NA    NA        NA    NA    NA    NA    NA\n",
       "2    NA    NA    NA    NA    NA    NA    NA        NA    NA    NA    NA    NA\n",
       "3    NA    NA    NA    NA    NA    NA    NA 34.615670    NA    NA    NA    NA\n",
       "4    NA    NA    NA    NA    NA    NA    NA 20.360110    NA    NA    NA    NA\n",
       "5    NA    NA    NA    NA    NA    NA    NA 98.872860    NA    NA    NA    NA\n",
       "6    NA    NA    NA    NA    NA    NA    NA  4.111767    NA    NA    NA    NA\n",
       "  X1995 X1996 X1997 X1998 X1999    X2000 X2001 X2002 X2003 X2004    X2005 X2006\n",
       "1    NA    NA    NA    NA    NA       NA    NA    NA    NA    NA 15.13216    NA\n",
       "2    NA    NA    NA    NA    NA       NA    NA    NA    NA    NA 16.70967    NA\n",
       "3    NA    NA    NA    NA    NA 37.45584    NA    NA    NA    NA       NA    NA\n",
       "4    NA    NA    NA    NA    NA 24.28065    NA    NA    NA    NA       NA    NA\n",
       "5    NA    NA    NA    NA    NA 88.29071    NA    NA    NA    NA       NA    NA\n",
       "6    NA    NA    NA    NA    NA 13.70856    NA    NA    NA    NA       NA    NA\n",
       "  X2007 X2008 X2009    X2010 X2011    X2012 X2013 X2014 X2015\n",
       "1    NA    NA    NA       NA    NA       NA    NA    NA    NA\n",
       "2    NA    NA    NA       NA    NA       NA    NA    NA    NA\n",
       "3    NA    NA    NA 41.00000    NA 43.00000    NA    NA    NA\n",
       "4    NA    NA    NA 29.00000    NA 32.00000    NA    NA    NA\n",
       "5    NA    NA    NA 80.63733    NA 83.00000    NA    NA    NA\n",
       "6    NA    NA    NA 18.61123    NA 19.48096    NA    NA    NA"
      ]
     },
     "execution_count": 62,
     "metadata": {},
     "output_type": "execute_result"
    }
   ],
   "source": [
    "wdistats <- read.csv(\"WDI_Data.csv\")\n",
    "head(wdistats)"
   ]
  },
  {
   "cell_type": "code",
   "execution_count": null,
   "metadata": {
    "collapsed": true
   },
   "outputs": [],
   "source": []
  },
  {
   "cell_type": "code",
   "execution_count": null,
   "metadata": {
    "collapsed": true
   },
   "outputs": [],
   "source": []
  },
  {
   "cell_type": "code",
   "execution_count": null,
   "metadata": {
    "collapsed": true
   },
   "outputs": [],
   "source": []
  },
  {
   "cell_type": "code",
   "execution_count": null,
   "metadata": {
    "collapsed": true
   },
   "outputs": [],
   "source": []
  },
  {
   "cell_type": "code",
   "execution_count": null,
   "metadata": {
    "collapsed": true
   },
   "outputs": [],
   "source": []
  }
 ],
 "metadata": {
  "kernelspec": {
   "display_name": "R",
   "language": "R",
   "name": "ir"
  },
  "language_info": {
   "codemirror_mode": "r",
   "file_extension": ".r",
   "mimetype": "text/x-r-source",
   "name": "R",
   "pygments_lexer": "r",
   "version": "3.2.2"
  }
 },
 "nbformat": 4,
 "nbformat_minor": 0
}
