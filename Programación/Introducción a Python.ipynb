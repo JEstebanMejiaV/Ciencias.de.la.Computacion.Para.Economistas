{
 "cells": [
  {
   "cell_type": "markdown",
   "metadata": {},
   "source": [
    "# Introducción a la computación y Programación en Python (En Construción)"
   ]
  },
  {
   "cell_type": "markdown",
   "metadata": {},
   "source": [
    "Elaborado por : Juan Esteban Mejía Velásquez"
   ]
  },
  {
   "cell_type": "code",
   "execution_count": null,
   "metadata": {
    "collapsed": true
   },
   "outputs": [],
   "source": []
  },
  {
   "cell_type": "code",
   "execution_count": 29,
   "metadata": {
    "collapsed": false
   },
   "outputs": [
    {
     "name": "stdout",
     "output_type": "stream",
     "text": [
      "¡Hola Mundo!\n",
      "¿Cual es tu nombre?\n",
      "Juan\n",
      "¡Hola Juan! que bueno conocerte.\n",
      "\n",
      "\n",
      "¿Sabías que tu nombre tiene  una longitud de 4 cáracteres?\n",
      "\n",
      "\n",
      "¿Te puedo ayudar con tus cálculos financieros? Por ejemplo, si prestas determinada cantidad de dinero para ser devuelta en un mes a cierto tipo de interés te puedo ayudar en determinar tus ganancias.\n",
      "\n",
      "\n",
      "¿Cuánto dinero prestaste?:\n",
      "Escribe un numero: 90\n",
      "¿A que tipo de interés?:\n",
      "Escribe un numero en fracción(e.g 0.12): 0.1\n",
      "Tus intereses devengados son: 81.0\n"
     ]
    }
   ],
   "source": [
    "\n",
    "print('¡Hola Mundo!')\n",
    "print('¿Cual es tu nombre?') # Preguntar por tu nombre\n",
    "MiNombre= input()\n",
    "print('¡Hola ' + MiNombre +'! que bueno conocerte.')\n",
    "print(\"\\n\")\n",
    "print('¿Sabías que tu nombre tiene  una longitud de '+str(len(MiNombre)) +' cáracteres?')\n",
    "print(\"\\n\")\n",
    "print('¿Te puedo ayudar con tus cálculos financieros? Por ejemplo, si prestas determinada \\\n",
    "cantidad de dinero para ser devuelta en un mes a cierto tipo de interés te puedo \\\n",
    "ayudar en determinar tus ganancias.')\n",
    "print(\"\\n\")\n",
    "print('¿Cuánto dinero prestaste?:')\n",
    "MontoPrestado=float(input('Escribe un numero: '))\n",
    "print('¿A que tipo de interés?:')\n",
    "TipoInteres=float(input('Escribe un numero en fracción(e.g 0.12): '))\n",
    "Ganancia=MontoPrestado - MontoPrestado*TipoInteres\n",
    "print('Tus intereses devengados son: ' + str(Ganancia) )"
   ]
  },
  {
   "cell_type": "markdown",
   "metadata": {},
   "source": [
    "### La función *print()*"
   ]
  },
  {
   "cell_type": "markdown",
   "metadata": {},
   "source": [
    "La función de *print()* muestra la cadena de valor dentro de los paréntesis en la pantalla.\n"
   ]
  },
  {
   "cell_type": "code",
   "execution_count": 31,
   "metadata": {
    "collapsed": false
   },
   "outputs": [
    {
     "name": "stdout",
     "output_type": "stream",
     "text": [
      "¡Hola Mundo!\n",
      "¿Cual es tu nombre?\n",
      "Mi edad es 19\n",
      "el proximo año tendré 20\n"
     ]
    }
   ],
   "source": [
    "print('¡Hola Mundo!')\n",
    "print('¿Cual es tu nombre?')\n",
    "print ('Mi edad es '+str(19))\n",
    "print ('El proximo año tendré '+str(19+1))"
   ]
  },
  {
   "cell_type": "code",
   "execution_count": 64,
   "metadata": {
    "collapsed": false
   },
   "outputs": [
    {
     "name": "stdout",
     "output_type": "stream",
     "text": [
      "Penny..Penny..Penny..Penny..Penny..\n"
     ]
    }
   ],
   "source": [
    "print('Penny..'*5)"
   ]
  },
  {
   "cell_type": "code",
   "execution_count": 90,
   "metadata": {
    "collapsed": false
   },
   "outputs": [
    {
     "name": "stdout",
     "output_type": "stream",
     "text": [
      "Mi nombre es Bond, James Bond.\n"
     ]
    }
   ],
   "source": [
    "Nombre='James'\n",
    "Apellido='Bond'\n",
    "print('Mi nombre es '+Apellido+', '+Nombre+' '+Apellido+'.')"
   ]
  },
  {
   "cell_type": "code",
   "execution_count": 91,
   "metadata": {
    "collapsed": false
   },
   "outputs": [
    {
     "name": "stdout",
     "output_type": "stream",
     "text": [
      "Mi nombre es Bond, James Bond.\n"
     ]
    }
   ],
   "source": [
    "print('Mi nombre es %s, %s %s.' % (Apellido, Nombre, Apellido))"
   ]
  },
  {
   "cell_type": "markdown",
   "metadata": {},
   "source": [
    "### La función *input()*"
   ]
  },
  {
   "cell_type": "markdown",
   "metadata": {},
   "source": [
    "La función de *input()* espera a que el usuario escriba un texto en el teclado\n",
    "y presione en ENTER."
   ]
  },
  {
   "cell_type": "code",
   "execution_count": 35,
   "metadata": {
    "collapsed": false
   },
   "outputs": [
    {
     "name": "stdout",
     "output_type": "stream",
     "text": [
      "¿Cúal es el precio del dólar actual?$ 2.950.95\n"
     ]
    },
    {
     "data": {
      "text/plain": [
       "'$ 2.950.95'"
      ]
     },
     "execution_count": 35,
     "metadata": {},
     "output_type": "execute_result"
    }
   ],
   "source": [
    "input('¿Cúal es el precio del dólar actual?')"
   ]
  },
  {
   "cell_type": "markdown",
   "metadata": {},
   "source": [
    "### La  funciones *str()*, *int ()*, y  *float()*  y los objetos de Python"
   ]
  },
  {
   "cell_type": "markdown",
   "metadata": {},
   "source": [
    "Computers manipular los valores de datos que representan la información y estos valores pueden ser de diferentes tipos. De hecho, cada valor en un programa de Python es de un tipo específico. El tipo de datos de un valor determina cómo se representan los datos en el ordenador y qué operaciones se pueden realizar en esos datos. Un tipo de datos proporcionado por el lenguaje itselfis llama un tipo de datos primitivo."
   ]
  },
  {
   "cell_type": "markdown",
   "metadata": {},
   "source": [
    "Si desea concatenar un número entero tal como 29 con una cadena para pasar a imprimir (), que necesita para obtener el valor '29', que es la forma de cadena 29. La función str () se puede pasar un número entero valor y evaluará a una versión valor de cadena de la misma, como sigue:"
   ]
  },
  {
   "cell_type": "code",
   "execution_count": 87,
   "metadata": {
    "collapsed": false
   },
   "outputs": [
    {
     "name": "stdout",
     "output_type": "stream",
     "text": [
      "13\n",
      "Soy el agente 13\n"
     ]
    }
   ],
   "source": [
    "Agente=13\n",
    "print(Agente)\n",
    "print('Soy el agente '+str(Agente))"
   ]
  },
  {
   "cell_type": "code",
   "execution_count": 88,
   "metadata": {
    "collapsed": false
   },
   "outputs": [
    {
     "name": "stdout",
     "output_type": "stream",
     "text": [
      "Mi nombre es Bond, James Bond.El Agente 13\n"
     ]
    }
   ],
   "source": [
    "print('Mi nombre es %s, %s %s.El Agente %d' % (Apellido, Nombre, Apellido, Agente))"
   ]
  },
  {
   "cell_type": "code",
   "execution_count": 89,
   "metadata": {
    "collapsed": false
   },
   "outputs": [
    {
     "data": {
      "text/plain": [
       "int"
      ]
     },
     "execution_count": 89,
     "metadata": {},
     "output_type": "execute_result"
    }
   ],
   "source": [
    "type(Agente)"
   ]
  },
  {
   "cell_type": "code",
   "execution_count": 77,
   "metadata": {
    "collapsed": false
   },
   "outputs": [
    {
     "data": {
      "text/plain": [
       "str"
      ]
     },
     "execution_count": 77,
     "metadata": {},
     "output_type": "execute_result"
    }
   ],
   "source": [
    "type('Mi nombre es Bond')"
   ]
  },
  {
   "cell_type": "code",
   "execution_count": 39,
   "metadata": {
    "collapsed": false
   },
   "outputs": [
    {
     "data": {
      "text/plain": [
       "int"
      ]
     },
     "execution_count": 39,
     "metadata": {},
     "output_type": "execute_result"
    }
   ],
   "source": [
    "type(5)"
   ]
  },
  {
   "cell_type": "code",
   "execution_count": 40,
   "metadata": {
    "collapsed": false
   },
   "outputs": [
    {
     "data": {
      "text/plain": [
       "float"
      ]
     },
     "execution_count": 40,
     "metadata": {},
     "output_type": "execute_result"
    }
   ],
   "source": [
    "type(5.5)"
   ]
  },
  {
   "cell_type": "code",
   "execution_count": 45,
   "metadata": {
    "collapsed": false
   },
   "outputs": [
    {
     "data": {
      "text/plain": [
       "False"
      ]
     },
     "execution_count": 45,
     "metadata": {},
     "output_type": "execute_result"
    }
   ],
   "source": [
    "Comparación = 5==5.5\n",
    "Comparación"
   ]
  },
  {
   "cell_type": "code",
   "execution_count": 46,
   "metadata": {
    "collapsed": false
   },
   "outputs": [
    {
     "data": {
      "text/plain": [
       "bool"
      ]
     },
     "execution_count": 46,
     "metadata": {},
     "output_type": "execute_result"
    }
   ],
   "source": [
    "type(5==5.5)"
   ]
  },
  {
   "cell_type": "code",
   "execution_count": 47,
   "metadata": {
    "collapsed": false
   },
   "outputs": [
    {
     "data": {
      "text/plain": [
       "True"
      ]
     },
     "execution_count": 47,
     "metadata": {},
     "output_type": "execute_result"
    }
   ],
   "source": [
    "5!=5.5"
   ]
  },
  {
   "cell_type": "code",
   "execution_count": 48,
   "metadata": {
    "collapsed": false
   },
   "outputs": [
    {
     "data": {
      "text/plain": [
       "False"
      ]
     },
     "execution_count": 48,
     "metadata": {},
     "output_type": "execute_result"
    }
   ],
   "source": [
    "5>5.5"
   ]
  },
  {
   "cell_type": "markdown",
   "metadata": {},
   "source": [
    "### Pyhton como calculadora"
   ]
  },
  {
   "cell_type": "markdown",
   "metadata": {},
   "source": [
    "¿ Si tengo 2 MM de pesos por cuantos dólares los puedo cangear?"
   ]
  },
  {
   "cell_type": "markdown",
   "metadata": {},
   "source": [
    "Recuerde:  [input('¿Cúal es el precio del dólar actual?')]. Ahora, lo que nesesitamos es entrar un número que sea e tipo de cambio. Comvertiremos el string en tipo númerico para despues hacer la conversion a dolares."
   ]
  },
  {
   "cell_type": "code",
   "execution_count": 54,
   "metadata": {
    "collapsed": false
   },
   "outputs": [
    {
     "name": "stdout",
     "output_type": "stream",
     "text": [
      "¿Cúal es el tipo de cambio del dólar-peso actual? 2900\n"
     ]
    }
   ],
   "source": [
    "TipoCambio = float(input('¿Cúal es el tipo de cambio del dólar-peso actual? '))"
   ]
  },
  {
   "cell_type": "code",
   "execution_count": 55,
   "metadata": {
    "collapsed": false
   },
   "outputs": [
    {
     "name": "stdout",
     "output_type": "stream",
     "text": [
      "¿Cuantos pesos va a cambiar?2000000\n"
     ]
    }
   ],
   "source": [
    "Pesos = float(input('¿Cuantos pesos va a cambiar?'))"
   ]
  },
  {
   "cell_type": "code",
   "execution_count": 59,
   "metadata": {
    "collapsed": false
   },
   "outputs": [
    {
     "data": {
      "text/plain": [
       "689.6551724137931"
      ]
     },
     "execution_count": 59,
     "metadata": {},
     "output_type": "execute_result"
    }
   ],
   "source": [
    "Dolares = Pesos/TipoCambio\n",
    "Dolares"
   ]
  },
  {
   "cell_type": "markdown",
   "metadata": {},
   "source": [
    "Más adelante veremos cmo hacer wed Scraping que nos permitira jararnos datos de web para asi obtener e tipo de cmabio actual y poder hacer una pequeña aplicacion de conversión de monedas."
   ]
  },
  {
   "cell_type": "code",
   "execution_count": 60,
   "metadata": {
    "collapsed": false
   },
   "outputs": [
    {
     "data": {
      "text/plain": [
       "689.66"
      ]
     },
     "execution_count": 60,
     "metadata": {},
     "output_type": "execute_result"
    }
   ],
   "source": [
    "round(Dolares, 2)"
   ]
  },
  {
   "cell_type": "markdown",
   "metadata": {},
   "source": [
    "Pasemos a calcular el resultado de una inversión P a una tipo de interés r(no espresada como fracion, esto para practicar los operadores arirtmeticos) en un tiempo n (la composición es en este periodo"
   ]
  },
  {
   "cell_type": "code",
   "execution_count": 62,
   "metadata": {
    "collapsed": false
   },
   "outputs": [
    {
     "data": {
      "text/plain": [
       "72.14484999999998"
      ]
     },
     "execution_count": 62,
     "metadata": {},
     "output_type": "execute_result"
    }
   ],
   "source": [
    "p=50\n",
    "r=13\n",
    "n=3\n",
    "p*(1 + r/100)**n"
   ]
  },
  {
   "cell_type": "markdown",
   "metadata": {},
   "source": [
    "## Decisiones"
   ]
  },
  {
   "cell_type": "code",
   "execution_count": null,
   "metadata": {
    "collapsed": true
   },
   "outputs": [],
   "source": []
  },
  {
   "cell_type": "markdown",
   "metadata": {},
   "source": [
    "## Loops (Bucles)"
   ]
  },
  {
   "cell_type": "code",
   "execution_count": null,
   "metadata": {
    "collapsed": true
   },
   "outputs": [],
   "source": []
  },
  {
   "cell_type": "code",
   "execution_count": 118,
   "metadata": {
    "collapsed": false
   },
   "outputs": [
    {
     "name": "stdout",
     "output_type": "stream",
     "text": [
      "Nesesitamos un periodo de 8 años para obtener 2000000 \n",
      "Además, Ganamos 194871.71 de intereses.\n"
     ]
    }
   ],
   "source": [
    "balance = 1000000\n",
    "target  = 2000000\n",
    "interés = 0.1\n",
    "años    = 0\n",
    "while balance <= target:\n",
    "   años = años + 1\n",
    "   InterésesGanados = balance*interés\n",
    "   balance = balance + InterésesGanados\n",
    "\n",
    "print ('Nesesitamos un periodo de %s años para obtener %s \\nAdemás, Ganamos %.2f de intereses.' %(años, target,InterésesGanados ))  \n",
    "  "
   ]
  },
  {
   "cell_type": "code",
   "execution_count": null,
   "metadata": {
    "collapsed": false
   },
   "outputs": [],
   "source": []
  },
  {
   "cell_type": "code",
   "execution_count": null,
   "metadata": {
    "collapsed": true
   },
   "outputs": [],
   "source": []
  }
 ],
 "metadata": {
  "kernelspec": {
   "display_name": "Python 3",
   "language": "python",
   "name": "python3"
  },
  "language_info": {
   "codemirror_mode": {
    "name": "ipython",
    "version": 3
   },
   "file_extension": ".py",
   "mimetype": "text/x-python",
   "name": "python",
   "nbconvert_exporter": "python",
   "pygments_lexer": "ipython3",
   "version": "3.5.1"
  }
 },
 "nbformat": 4,
 "nbformat_minor": 0
}
