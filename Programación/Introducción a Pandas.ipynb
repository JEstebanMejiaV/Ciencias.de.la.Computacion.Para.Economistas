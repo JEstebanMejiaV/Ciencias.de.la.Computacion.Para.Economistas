{
 "cells": [
  {
   "cell_type": "markdown",
   "metadata": {},
   "source": [
    "## Introducción a Pandas"
   ]
  },
  {
   "cell_type": "code",
   "execution_count": 154,
   "metadata": {
    "collapsed": false
   },
   "outputs": [],
   "source": [
    "import numpy as np\n",
    "import pandas as pd\n",
    "\n",
    "# Ajustar algunas opciones de Pandas\n",
    "\n",
    "pd.set_option('display.notebook_repr_html', False)\n",
    "pd.set_option('display.max_columns', 10)\n",
    "pd.set_option('display.max_rows', 10)\n",
    "\n",
    "%matplotlib inline \n",
    "import matplotlib.pyplot as plt\n",
    "pd.options.display.mpl_style = 'default'\n"
   ]
  },
  {
   "cell_type": "code",
   "execution_count": 155,
   "metadata": {
    "collapsed": false
   },
   "outputs": [
    {
     "name": "stdout",
     "output_type": "stream",
     "text": [
      "0.17.1\n"
     ]
    }
   ],
   "source": [
    "print(pd.__version__)"
   ]
  },
  {
   "cell_type": "code",
   "execution_count": null,
   "metadata": {
    "collapsed": true
   },
   "outputs": [],
   "source": []
  },
  {
   "cell_type": "markdown",
   "metadata": {},
   "source": [
    "## Series  con el objeto 'Series' de Pandas"
   ]
  },
  {
   "cell_type": "code",
   "execution_count": 156,
   "metadata": {
    "collapsed": false
   },
   "outputs": [
    {
     "data": {
      "text/plain": [
       "0    0.30\n",
       "1    0.33\n",
       "2    0.40\n",
       "3    0.32\n",
       "dtype: float64"
      ]
     },
     "execution_count": 156,
     "metadata": {},
     "output_type": "execute_result"
    }
   ],
   "source": [
    "Inflación = pd.Series([0.3, 0.33, 0.4, 0.32])\n",
    "Inflación"
   ]
  },
  {
   "cell_type": "code",
   "execution_count": 157,
   "metadata": {
    "collapsed": false
   },
   "outputs": [
    {
     "data": {
      "text/plain": [
       "0    0.30\n",
       "1    0.33\n",
       "2    0.40\n",
       "3    0.32\n",
       "dtype: float64"
      ]
     },
     "execution_count": 157,
     "metadata": {},
     "output_type": "execute_result"
    }
   ],
   "source": [
    "from pandas import DataFrame, Series\n",
    "Inflación = Series([0.3, 0.33, 0.4, 0.32])\n",
    "Inflación"
   ]
  },
  {
   "cell_type": "code",
   "execution_count": 158,
   "metadata": {
    "collapsed": false
   },
   "outputs": [
    {
     "data": {
      "text/plain": [
       "DatetimeIndex(['2016-01-01', '2016-01-02', '2016-01-03', '2016-01-04',\n",
       "               '2016-01-05', '2016-01-06'],\n",
       "              dtype='datetime64[ns]', freq='D')"
      ]
     },
     "execution_count": 158,
     "metadata": {},
     "output_type": "execute_result"
    }
   ],
   "source": [
    "fechas = pd.date_range('2016-01-01', '2016-01-06')\n",
    "fechas"
   ]
  },
  {
   "cell_type": "code",
   "execution_count": 159,
   "metadata": {
    "collapsed": false
   },
   "outputs": [
    {
     "data": {
      "text/plain": [
       "2016-01-01    0.30\n",
       "2016-01-02    0.33\n",
       "2016-01-03    0.40\n",
       "2016-01-04    0.32\n",
       "2016-01-05    0.30\n",
       "2016-01-06     NaN\n",
       "Freq: D, dtype: float64"
      ]
     },
     "execution_count": 159,
     "metadata": {},
     "output_type": "execute_result"
    }
   ],
   "source": [
    "Inflación = Series([0.3, 0.33, 0.4, 0.32, 0.3, np.nan], index=fechas)\n",
    "Inflación"
   ]
  },
  {
   "cell_type": "code",
   "execution_count": 160,
   "metadata": {
    "collapsed": false
   },
   "outputs": [
    {
     "data": {
      "text/plain": [
       "2016-01-01    0.30\n",
       "2016-01-02    0.33\n",
       "2016-01-03    0.40\n",
       "Freq: D, dtype: float64"
      ]
     },
     "execution_count": 160,
     "metadata": {},
     "output_type": "execute_result"
    }
   ],
   "source": [
    "Inflación.head(n=3)"
   ]
  },
  {
   "cell_type": "code",
   "execution_count": 161,
   "metadata": {
    "collapsed": false
   },
   "outputs": [
    {
     "data": {
      "text/plain": [
       "array([ 0.3 ,  0.33,  0.4 ,  0.32,  0.3 ,   nan])"
      ]
     },
     "execution_count": 161,
     "metadata": {},
     "output_type": "execute_result"
    }
   ],
   "source": [
    "Inflación.values"
   ]
  },
  {
   "cell_type": "code",
   "execution_count": 162,
   "metadata": {
    "collapsed": false
   },
   "outputs": [
    {
     "data": {
      "text/plain": [
       "DatetimeIndex(['2016-01-01', '2016-01-02', '2016-01-03', '2016-01-04',\n",
       "               '2016-01-05', '2016-01-06'],\n",
       "              dtype='datetime64[ns]', freq='D')"
      ]
     },
     "execution_count": 162,
     "metadata": {},
     "output_type": "execute_result"
    }
   ],
   "source": [
    "Inflación.index"
   ]
  },
  {
   "cell_type": "markdown",
   "metadata": {},
   "source": [
    "Metodós estadisticos de NumPy pueden ser aplicados a una 'Serie' de Pandas"
   ]
  },
  {
   "cell_type": "code",
   "execution_count": 172,
   "metadata": {
    "collapsed": false
   },
   "outputs": [
    {
     "data": {
      "text/plain": [
       "0.33"
      ]
     },
     "execution_count": 172,
     "metadata": {},
     "output_type": "execute_result"
    }
   ],
   "source": [
    "Inflación.mean()"
   ]
  },
  {
   "cell_type": "code",
   "execution_count": 173,
   "metadata": {
    "collapsed": false
   },
   "outputs": [
    {
     "data": {
      "text/plain": [
       "0.33000000000000002"
      ]
     },
     "execution_count": 173,
     "metadata": {},
     "output_type": "execute_result"
    }
   ],
   "source": [
    "Inflación['2016-01-02']"
   ]
  },
  {
   "cell_type": "code",
   "execution_count": 174,
   "metadata": {
    "collapsed": false
   },
   "outputs": [
    {
     "data": {
      "text/plain": [
       "0.33000000000000002"
      ]
     },
     "execution_count": 174,
     "metadata": {},
     "output_type": "execute_result"
    }
   ],
   "source": [
    "Inflación[1]"
   ]
  },
  {
   "cell_type": "code",
   "execution_count": 175,
   "metadata": {
    "collapsed": false
   },
   "outputs": [
    {
     "data": {
      "text/plain": [
       "5"
      ]
     },
     "execution_count": 175,
     "metadata": {},
     "output_type": "execute_result"
    }
   ],
   "source": [
    "len(Inflación)"
   ]
  },
  {
   "cell_type": "code",
   "execution_count": 180,
   "metadata": {
    "collapsed": false
   },
   "outputs": [
    {
     "data": {
      "text/plain": [
       "6"
      ]
     },
     "execution_count": 180,
     "metadata": {},
     "output_type": "execute_result"
    }
   ],
   "source": [
    "Inflación.size"
   ]
  },
  {
   "cell_type": "code",
   "execution_count": 181,
   "metadata": {
    "collapsed": false
   },
   "outputs": [
    {
     "data": {
      "text/plain": [
       "5"
      ]
     },
     "execution_count": 181,
     "metadata": {},
     "output_type": "execute_result"
    }
   ],
   "source": [
    "Inflación.count()"
   ]
  },
  {
   "cell_type": "code",
   "execution_count": 176,
   "metadata": {
    "collapsed": false
   },
   "outputs": [
    {
     "data": {
      "text/plain": [
       "(6,)"
      ]
     },
     "execution_count": 176,
     "metadata": {},
     "output_type": "execute_result"
    }
   ],
   "source": [
    "Inflación.shape"
   ]
  },
  {
   "cell_type": "code",
   "execution_count": 177,
   "metadata": {
    "collapsed": false
   },
   "outputs": [
    {
     "data": {
      "text/plain": [
       "array([ 0.3 ,  0.33,  0.4 ,  0.32,   nan])"
      ]
     },
     "execution_count": 177,
     "metadata": {},
     "output_type": "execute_result"
    }
   ],
   "source": [
    "Inflación.unique()"
   ]
  },
  {
   "cell_type": "code",
   "execution_count": 178,
   "metadata": {
    "collapsed": false
   },
   "outputs": [
    {
     "data": {
      "text/plain": [
       "0.30    2\n",
       "0.32    1\n",
       "0.40    1\n",
       "0.33    1\n",
       "dtype: int64"
      ]
     },
     "execution_count": 178,
     "metadata": {},
     "output_type": "execute_result"
    }
   ],
   "source": [
    "Inflación.value_counts()\n"
   ]
  },
  {
   "cell_type": "markdown",
   "metadata": {},
   "source": [
    "## Datos con el objeto 'DataFrame' de Pandas"
   ]
  },
  {
   "cell_type": "code",
   "execution_count": 184,
   "metadata": {
    "collapsed": true
   },
   "outputs": [],
   "source": [
    "PIB=Series([1.2, 3.3, 2.6, 2.5, 2.5, np.nan], index=fechas)"
   ]
  },
  {
   "cell_type": "code",
   "execution_count": 185,
   "metadata": {
    "collapsed": false
   },
   "outputs": [
    {
     "data": {
      "text/plain": [
       "            Inflación  PIB\n",
       "2016-01-01       0.30  1.2\n",
       "2016-01-02       0.33  3.3\n",
       "2016-01-03       0.40  2.6\n",
       "2016-01-04       0.32  2.5\n",
       "2016-01-05       0.30  2.5\n",
       "2016-01-06        NaN  NaN"
      ]
     },
     "execution_count": 185,
     "metadata": {},
     "output_type": "execute_result"
    }
   ],
   "source": [
    "Datos=DataFrame({'Inflación':Inflación,\n",
    "                 'PIB':PIB} )\n",
    "\n",
    "Datos"
   ]
  },
  {
   "cell_type": "code",
   "execution_count": 186,
   "metadata": {
    "collapsed": false
   },
   "outputs": [
    {
     "data": {
      "text/plain": [
       "2016-01-01    1.2\n",
       "2016-01-02    3.3\n",
       "2016-01-03    2.6\n",
       "2016-01-04    2.5\n",
       "2016-01-05    2.5\n",
       "2016-01-06    NaN\n",
       "Freq: D, Name: PIB, dtype: float64"
      ]
     },
     "execution_count": 186,
     "metadata": {},
     "output_type": "execute_result"
    }
   ],
   "source": [
    "Datos['PIB']"
   ]
  },
  {
   "cell_type": "code",
   "execution_count": 187,
   "metadata": {
    "collapsed": false
   },
   "outputs": [
    {
     "data": {
      "text/plain": [
       "2016-01-01    1.2\n",
       "2016-01-02    3.3\n",
       "2016-01-03    2.6\n",
       "2016-01-04    2.5\n",
       "2016-01-05    2.5\n",
       "2016-01-06    NaN\n",
       "Freq: D, Name: PIB, dtype: float64"
      ]
     },
     "execution_count": 187,
     "metadata": {},
     "output_type": "execute_result"
    }
   ],
   "source": [
    "Datos.PIB"
   ]
  },
  {
   "cell_type": "code",
   "execution_count": 188,
   "metadata": {
    "collapsed": false
   },
   "outputs": [
    {
     "data": {
      "text/plain": [
       "            Inflación  PIB  InflaciónGeneral\n",
       "2016-01-01       0.30  1.2              0.30\n",
       "2016-01-02       0.33  3.3              0.33\n",
       "2016-01-03       0.40  2.6              0.40\n",
       "2016-01-04       0.32  2.5              0.32\n",
       "2016-01-05       0.30  2.5              0.30\n",
       "2016-01-06        NaN  NaN               NaN"
      ]
     },
     "execution_count": 188,
     "metadata": {},
     "output_type": "execute_result"
    }
   ],
   "source": [
    "Datos['InflaciónGeneral']=Datos['Inflación']\n",
    "Datos"
   ]
  },
  {
   "cell_type": "code",
   "execution_count": 189,
   "metadata": {
    "collapsed": false
   },
   "outputs": [
    {
     "data": {
      "text/plain": [
       "            PIB  InflaciónGeneral\n",
       "2016-01-01  1.2              0.30\n",
       "2016-01-02  3.3              0.33\n",
       "2016-01-03  2.6              0.40\n",
       "2016-01-04  2.5              0.32\n",
       "2016-01-05  2.5              0.30\n",
       "2016-01-06  NaN               NaN"
      ]
     },
     "execution_count": 189,
     "metadata": {},
     "output_type": "execute_result"
    }
   ],
   "source": [
    "del Datos['Inflación']\n",
    "Datos"
   ]
  },
  {
   "cell_type": "code",
   "execution_count": 191,
   "metadata": {
    "collapsed": false,
    "scrolled": true
   },
   "outputs": [
    {
     "data": {
      "text/plain": [
       "            PIB  InflaciónGeneral  InflaciónMedellín\n",
       "2016-01-01  1.2              0.30               0.35\n",
       "2016-01-02  3.3              0.33               0.34\n",
       "2016-01-03  2.6              0.40               0.42\n",
       "2016-01-04  2.5              0.32               0.40\n",
       "2016-01-05  2.5              0.30               0.41\n",
       "2016-01-06  NaN               NaN                NaN"
      ]
     },
     "execution_count": 191,
     "metadata": {},
     "output_type": "execute_result"
    }
   ],
   "source": [
    "Datos['InflaciónMedellín']=Series([0.35, 0.34, 0.42, 0.4, 0.41, np.nan], index=fechas)\n",
    "Datos"
   ]
  },
  {
   "cell_type": "code",
   "execution_count": 192,
   "metadata": {
    "collapsed": false
   },
   "outputs": [
    {
     "data": {
      "text/plain": [
       "            PIB  InflaciónGeneral  InflaciónMedellín  Diferencia\n",
       "2016-01-01  1.2              0.30               0.35       -0.05\n",
       "2016-01-02  3.3              0.33               0.34       -0.01\n",
       "2016-01-03  2.6              0.40               0.42       -0.02\n",
       "2016-01-04  2.5              0.32               0.40       -0.08\n",
       "2016-01-05  2.5              0.30               0.41       -0.11\n",
       "2016-01-06  NaN               NaN                NaN         NaN"
      ]
     },
     "execution_count": 192,
     "metadata": {},
     "output_type": "execute_result"
    }
   ],
   "source": [
    "Datos['Diferencia']= Datos.InflaciónGeneral - Datos.InflaciónMedellín\n",
    "Datos"
   ]
  },
  {
   "cell_type": "code",
   "execution_count": 227,
   "metadata": {
    "collapsed": false
   },
   "outputs": [
    {
     "data": {
      "text/plain": [
       "            PIB  InflaciónGeneral  InflaciónMedellín  Diferencia\n",
       "count  5.000000          5.000000           5.000000    5.000000\n",
       "mean   2.420000          0.330000           0.384000   -0.054000\n",
       "std    0.759605          0.041231           0.036469    0.041593\n",
       "min    1.200000          0.300000           0.340000   -0.110000\n",
       "25%    2.500000          0.300000           0.350000   -0.080000\n",
       "50%    2.500000          0.320000           0.400000   -0.050000\n",
       "75%    2.600000          0.330000           0.410000   -0.020000\n",
       "max    3.300000          0.400000           0.420000   -0.010000"
      ]
     },
     "execution_count": 227,
     "metadata": {},
     "output_type": "execute_result"
    }
   ],
   "source": [
    "Datos.describe()"
   ]
  },
  {
   "cell_type": "code",
   "execution_count": 242,
   "metadata": {
    "collapsed": false
   },
   "outputs": [
    {
     "data": {
      "text/plain": [
       "            PIB  InflaciónGeneral  InflaciónMedellín  Diferencia\n",
       "2016-01-03  2.6              0.40               0.42       -0.02\n",
       "2016-01-02  3.3              0.33               0.34       -0.01\n",
       "2016-01-04  2.5              0.32               0.40       -0.08\n",
       "2016-01-01  1.2              0.30               0.35       -0.05\n",
       "2016-01-05  2.5              0.30               0.41       -0.11\n",
       "2016-01-06  NaN               NaN                NaN         NaN"
      ]
     },
     "execution_count": 242,
     "metadata": {},
     "output_type": "execute_result"
    }
   ],
   "source": [
    "DatosOrdenadosI=Datos.sort_values(by='InflaciónGeneral', ascending=False)\n",
    "DatosOrdenadosI"
   ]
  },
  {
   "cell_type": "code",
   "execution_count": 248,
   "metadata": {
    "collapsed": false
   },
   "outputs": [
    {
     "data": {
      "text/plain": [
       "PIB                  2.60\n",
       "InflaciónGeneral     0.40\n",
       "InflaciónMedellín    0.42\n",
       "Diferencia          -0.02\n",
       "Name: 2016-01-03 00:00:00, dtype: float64"
      ]
     },
     "execution_count": 248,
     "metadata": {},
     "output_type": "execute_result"
    }
   ],
   "source": [
    "DatosOrdenadosI.ix[0]"
   ]
  },
  {
   "cell_type": "code",
   "execution_count": 249,
   "metadata": {
    "collapsed": false,
    "scrolled": false
   },
   "outputs": [
    {
     "data": {
      "text/plain": [
       "PIB                  2.60\n",
       "InflaciónGeneral     0.40\n",
       "InflaciónMedellín    0.42\n",
       "Diferencia          -0.02\n",
       "Name: 2016-01-03 00:00:00, dtype: float64"
      ]
     },
     "execution_count": 249,
     "metadata": {},
     "output_type": "execute_result"
    }
   ],
   "source": [
    "DatosOrdenadosI.iloc[0]"
   ]
  },
  {
   "cell_type": "markdown",
   "metadata": {},
   "source": [
    "* `loc` trabaja en las etiquetas en el índice.\n",
    "\n",
    "* `iloc` funciona en las **_posiciones_** en el índice (de modo que sólo tiene números enteros).\n",
    "\n",
    "* `ix` general trata de comportarse como loc pero se cambia por comportarse como iLoc si la etiqueta no está en el índice.\n",
    "\n",
    "Es importante tener en cuenta algunas sutilezas que pueden hacer ix poco complicado de usar:\n",
    "\n",
    "si el índice es de tipo entero, ix sólo utilizará la indexación basada en la etiqueta y no caer de nuevo a la indexación basada en la posición. Si la etiqueta no está en el índice, se genera un error.\n",
    "\n",
    "si el índice no contiene sólo números enteros, luego se da un número entero, ix utilizará inmediatamente la indexación basada en la posición más bien que la indexación basada en etiquetas. Sin embargo, si se da ix otro tipo (por ejemplo una cadena), se puede utilizar la indexación basado en etiquetas."
   ]
  },
  {
   "cell_type": "code",
   "execution_count": 200,
   "metadata": {
    "collapsed": false
   },
   "outputs": [
    {
     "data": {
      "text/plain": [
       "            PIB  InflaciónGeneral  InflaciónMedellín  Diferencia\n",
       "2016-01-04  2.5              0.32               0.40       -0.08\n",
       "2016-01-05  2.5              0.30               0.41       -0.11\n",
       "2016-01-06  NaN               NaN                NaN         NaN"
      ]
     },
     "execution_count": 200,
     "metadata": {},
     "output_type": "execute_result"
    }
   ],
   "source": [
    "Datos[3:]"
   ]
  },
  {
   "cell_type": "code",
   "execution_count": 213,
   "metadata": {
    "collapsed": false
   },
   "outputs": [
    {
     "data": {
      "text/plain": [
       "            InflaciónGeneral  InflaciónMedellín  Diferencia\n",
       "2016-01-04              0.32               0.40       -0.08\n",
       "2016-01-05              0.30               0.41       -0.11\n",
       "2016-01-06               NaN                NaN         NaN"
      ]
     },
     "execution_count": 213,
     "metadata": {},
     "output_type": "execute_result"
    }
   ],
   "source": [
    "Datos.ix[3:, 'InflaciónGeneral':]"
   ]
  },
  {
   "cell_type": "code",
   "execution_count": 214,
   "metadata": {
    "collapsed": false
   },
   "outputs": [
    {
     "data": {
      "text/plain": [
       "            InflaciónGeneral  InflaciónMedellín  Diferencia\n",
       "2016-01-04              0.32               0.40       -0.08\n",
       "2016-01-05              0.30               0.41       -0.11\n",
       "2016-01-06               NaN                NaN         NaN"
      ]
     },
     "execution_count": 214,
     "metadata": {},
     "output_type": "execute_result"
    }
   ],
   "source": [
    "Datos.ix[3:, 1:]"
   ]
  },
  {
   "cell_type": "code",
   "execution_count": 215,
   "metadata": {
    "collapsed": false
   },
   "outputs": [
    {
     "data": {
      "text/plain": [
       "            Diferencia\n",
       "2016-01-04       -0.08\n",
       "2016-01-05       -0.11\n",
       "2016-01-06         NaN"
      ]
     },
     "execution_count": 215,
     "metadata": {},
     "output_type": "execute_result"
    }
   ],
   "source": [
    "Datos.ix[3:, 3:]"
   ]
  },
  {
   "cell_type": "code",
   "execution_count": 219,
   "metadata": {
    "collapsed": false
   },
   "outputs": [
    {
     "data": {
      "text/plain": [
       "            PIB  InflaciónMedellín  Diferencia\n",
       "2016-01-01  1.2               0.35       -0.05\n",
       "2016-01-02  3.3               0.34       -0.01\n",
       "2016-01-03  2.6               0.42       -0.02\n",
       "2016-01-04  2.5               0.40       -0.08\n",
       "2016-01-05  2.5               0.41       -0.11\n",
       "2016-01-06  NaN                NaN         NaN"
      ]
     },
     "execution_count": 219,
     "metadata": {},
     "output_type": "execute_result"
    }
   ],
   "source": [
    "Datos.drop('InflaciónGeneral', axis=1)\n",
    "# Axis 1 denota columnas"
   ]
  },
  {
   "cell_type": "code",
   "execution_count": 193,
   "metadata": {
    "collapsed": false
   },
   "outputs": [
    {
     "data": {
      "text/plain": [
       "2016-01-03   -0.02\n",
       "2016-01-04   -0.08\n",
       "Freq: D, Name: Diferencia, dtype: float64"
      ]
     },
     "execution_count": 193,
     "metadata": {},
     "output_type": "execute_result"
    }
   ],
   "source": [
    "Datos.Diferencia[2:4]"
   ]
  },
  {
   "cell_type": "code",
   "execution_count": 194,
   "metadata": {
    "collapsed": false
   },
   "outputs": [
    {
     "data": {
      "text/plain": [
       "            PIB  InflaciónGeneral  InflaciónMedellín  Diferencia\n",
       "2016-01-03  2.6              0.40               0.42       -0.02\n",
       "2016-01-04  2.5              0.32               0.40       -0.08"
      ]
     },
     "execution_count": 194,
     "metadata": {},
     "output_type": "execute_result"
    }
   ],
   "source": [
    "Datos.iloc[2:4]"
   ]
  },
  {
   "cell_type": "code",
   "execution_count": 195,
   "metadata": {
    "collapsed": false
   },
   "outputs": [
    {
     "data": {
      "text/plain": [
       "            PIB  InflaciónGeneral\n",
       "2016-01-03  2.6              0.40\n",
       "2016-01-04  2.5              0.32"
      ]
     },
     "execution_count": 195,
     "metadata": {},
     "output_type": "execute_result"
    }
   ],
   "source": [
    "Datos.iloc[2:4, 0:2]"
   ]
  },
  {
   "cell_type": "code",
   "execution_count": 196,
   "metadata": {
    "collapsed": false
   },
   "outputs": [
    {
     "data": {
      "text/plain": [
       "PIB                  2.60\n",
       "InflaciónGeneral     0.40\n",
       "InflaciónMedellín    0.42\n",
       "Diferencia          -0.02\n",
       "Name: 2016-01-03 00:00:00, dtype: float64"
      ]
     },
     "execution_count": 196,
     "metadata": {},
     "output_type": "execute_result"
    }
   ],
   "source": [
    "Datos.loc['2016-01-03']"
   ]
  },
  {
   "cell_type": "code",
   "execution_count": 197,
   "metadata": {
    "collapsed": false
   },
   "outputs": [
    {
     "data": {
      "text/plain": [
       "PIB                  True\n",
       "InflaciónGeneral     True\n",
       "InflaciónMedellín    True\n",
       "Diferencia           True\n",
       "dtype: bool"
      ]
     },
     "execution_count": 197,
     "metadata": {},
     "output_type": "execute_result"
    }
   ],
   "source": [
    "Datos[Datos.PIB > 2].any()"
   ]
  },
  {
   "cell_type": "code",
   "execution_count": 198,
   "metadata": {
    "collapsed": false
   },
   "outputs": [
    {
     "data": {
      "text/plain": [
       "            PIB  InflaciónGeneral  InflaciónMedellín  Diferencia\n",
       "2016-01-02  3.3              0.33               0.34       -0.01\n",
       "2016-01-03  2.6              0.40               0.42       -0.02\n",
       "2016-01-04  2.5              0.32               0.40       -0.08\n",
       "2016-01-05  2.5              0.30               0.41       -0.11"
      ]
     },
     "execution_count": 198,
     "metadata": {},
     "output_type": "execute_result"
    }
   ],
   "source": [
    "Datos[Datos.PIB > 2]"
   ]
  },
  {
   "cell_type": "code",
   "execution_count": 199,
   "metadata": {
    "collapsed": false
   },
   "outputs": [
    {
     "data": {
      "text/plain": [
       "            PIB  InflaciónGeneral  InflaciónMedellín  Diferencia\n",
       "2016-01-02  3.3              0.33               0.34       -0.01\n",
       "2016-01-04  2.5              0.32               0.40       -0.08\n",
       "2016-01-05  2.5              0.30               0.41       -0.11"
      ]
     },
     "execution_count": 199,
     "metadata": {},
     "output_type": "execute_result"
    }
   ],
   "source": [
    "Datos[(Datos.PIB > 2) & (Datos.InflaciónGeneral < 0.35)]"
   ]
  },
  {
   "cell_type": "code",
   "execution_count": null,
   "metadata": {
    "collapsed": true
   },
   "outputs": [],
   "source": []
  }
 ],
 "metadata": {
  "kernelspec": {
   "display_name": "Python 3",
   "language": "python",
   "name": "python3"
  },
  "language_info": {
   "codemirror_mode": {
    "name": "ipython",
    "version": 3
   },
   "file_extension": ".py",
   "mimetype": "text/x-python",
   "name": "python",
   "nbconvert_exporter": "python",
   "pygments_lexer": "ipython3",
   "version": "3.5.1"
  }
 },
 "nbformat": 4,
 "nbformat_minor": 0
}
